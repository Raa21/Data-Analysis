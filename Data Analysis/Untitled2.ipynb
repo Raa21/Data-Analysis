{
 "cells": [
  {
   "cell_type": "code",
   "execution_count": 9,
   "id": "3c1f6821",
   "metadata": {},
   "outputs": [],
   "source": [
    "import pandas as pd"
   ]
  },
  {
   "cell_type": "code",
   "execution_count": 10,
   "id": "488fb62c",
   "metadata": {},
   "outputs": [],
   "source": [
    "import numpy as np"
   ]
  },
  {
   "cell_type": "code",
   "execution_count": 33,
   "id": "d934daac",
   "metadata": {},
   "outputs": [],
   "source": [
    "df = pd.read_csv(\"Book2.csv\")"
   ]
  },
  {
   "cell_type": "code",
   "execution_count": 34,
   "id": "bb8ec067",
   "metadata": {},
   "outputs": [
    {
     "data": {
      "text/html": [
       "<div>\n",
       "<style scoped>\n",
       "    .dataframe tbody tr th:only-of-type {\n",
       "        vertical-align: middle;\n",
       "    }\n",
       "\n",
       "    .dataframe tbody tr th {\n",
       "        vertical-align: top;\n",
       "    }\n",
       "\n",
       "    .dataframe thead th {\n",
       "        text-align: right;\n",
       "    }\n",
       "</style>\n",
       "<table border=\"1\" class=\"dataframe\">\n",
       "  <thead>\n",
       "    <tr style=\"text-align: right;\">\n",
       "      <th></th>\n",
       "      <th>numbers</th>\n",
       "      <th>Text</th>\n",
       "    </tr>\n",
       "  </thead>\n",
       "  <tbody>\n",
       "    <tr>\n",
       "      <th>0</th>\n",
       "      <td>4.757870e+52</td>\n",
       "      <td>4757874684687687684687684568746876846878768768...</td>\n",
       "    </tr>\n",
       "    <tr>\n",
       "      <th>1</th>\n",
       "      <td>8.790000e+52</td>\n",
       "      <td>8789447878465745468796476854768746578646854867...</td>\n",
       "    </tr>\n",
       "    <tr>\n",
       "      <th>2</th>\n",
       "      <td>4.890000e+52</td>\n",
       "      <td>4894564564351321654984564564684351351564564354...</td>\n",
       "    </tr>\n",
       "  </tbody>\n",
       "</table>\n",
       "</div>"
      ],
      "text/plain": [
       "        numbers                                               Text\n",
       "0  4.757870e+52  4757874684687687684687684568746876846878768768...\n",
       "1  8.790000e+52  8789447878465745468796476854768746578646854867...\n",
       "2  4.890000e+52  4894564564351321654984564564684351351564564354..."
      ]
     },
     "execution_count": 34,
     "metadata": {},
     "output_type": "execute_result"
    }
   ],
   "source": [
    "df"
   ]
  },
  {
   "cell_type": "code",
   "execution_count": 29,
   "id": "4d54a143",
   "metadata": {},
   "outputs": [
    {
     "data": {
      "text/plain": [
       "0                 4.76e+52\n",
       "1                 8.79e+52\n",
       "2    4.894560000000001e+52\n",
       "Name: numbers, dtype: object"
      ]
     },
     "execution_count": 29,
     "metadata": {},
     "output_type": "execute_result"
    }
   ],
   "source": [
    "df.numbers.astype(str)"
   ]
  },
  {
   "cell_type": "code",
   "execution_count": 35,
   "id": "b3da6480",
   "metadata": {},
   "outputs": [
    {
     "data": {
      "text/plain": [
       "0    4757870000000000369598362754980725596646819208...\n",
       "1    8790000000000000259426857836018519410012111671...\n",
       "2    4890000000000000285865158006008170301811448748...\n",
       "Name: numbers, dtype: object"
      ]
     },
     "execution_count": 35,
     "metadata": {},
     "output_type": "execute_result"
    }
   ],
   "source": [
    "df.numbers.apply(lambda x: '{:f}'.format(x))"
   ]
  },
  {
   "cell_type": "code",
   "execution_count": 47,
   "id": "9a067609",
   "metadata": {},
   "outputs": [],
   "source": [
    "ser = df.Text.astype(float)"
   ]
  },
  {
   "cell_type": "code",
   "execution_count": 43,
   "id": "04997272",
   "metadata": {},
   "outputs": [
    {
     "data": {
      "text/plain": [
       "0    4757874684687687743714483293811516811527492604...\n",
       "1    8789447878465745545774255578845285798908764714...\n",
       "2    4894564564351321171205516653221418873323958361...\n",
       "Name: Text, dtype: object"
      ]
     },
     "execution_count": 43,
     "metadata": {},
     "output_type": "execute_result"
    }
   ],
   "source": [
    "df.Text.astype(float).apply(lambda x: '{:f}'.format(x))"
   ]
  },
  {
   "cell_type": "code",
   "execution_count": 48,
   "id": "cff7c7fa",
   "metadata": {},
   "outputs": [
    {
     "data": {
      "text/plain": [
       "0    4757874684687687743714483293811516811527492604...\n",
       "1    8789447878465745545774255578845285798908764714...\n",
       "2    4894564564351321171205516653221418873323958361...\n",
       "Name: Text, dtype: object"
      ]
     },
     "execution_count": 48,
     "metadata": {},
     "output_type": "execute_result"
    }
   ],
   "source": [
    "ser.apply(lambda x: '{:f}'.format(x))"
   ]
  },
  {
   "cell_type": "code",
   "execution_count": 49,
   "id": "7ad28c28",
   "metadata": {},
   "outputs": [],
   "source": [
    "\n",
    "df1 = pd.read_csv(\"C:/Users/rajen/OneDrive/Desktop/webScraping/moneycontro_balancesheet_itc.csv\")"
   ]
  },
  {
   "cell_type": "code",
   "execution_count": 50,
   "id": "4956721c",
   "metadata": {},
   "outputs": [
    {
     "data": {
      "text/html": [
       "<div>\n",
       "<style scoped>\n",
       "    .dataframe tbody tr th:only-of-type {\n",
       "        vertical-align: middle;\n",
       "    }\n",
       "\n",
       "    .dataframe tbody tr th {\n",
       "        vertical-align: top;\n",
       "    }\n",
       "\n",
       "    .dataframe thead th {\n",
       "        text-align: right;\n",
       "    }\n",
       "</style>\n",
       "<table border=\"1\" class=\"dataframe\">\n",
       "  <thead>\n",
       "    <tr style=\"text-align: right;\">\n",
       "      <th></th>\n",
       "      <th>Unnamed: 0</th>\n",
       "      <th>Balance Sheet of ITC (in Rs. Cr.)</th>\n",
       "      <th>Mar 22</th>\n",
       "      <th>Mar 21</th>\n",
       "      <th>Mar 20</th>\n",
       "      <th>Mar 19</th>\n",
       "      <th>Mar 18</th>\n",
       "      <th></th>\n",
       "    </tr>\n",
       "  </thead>\n",
       "  <tbody>\n",
       "    <tr>\n",
       "      <th>0</th>\n",
       "      <td>0</td>\n",
       "      <td></td>\n",
       "      <td>12 mths</td>\n",
       "      <td>12 mths</td>\n",
       "      <td>12 mths</td>\n",
       "      <td>12 mths</td>\n",
       "      <td>12 mths</td>\n",
       "      <td></td>\n",
       "    </tr>\n",
       "    <tr>\n",
       "      <th>1</th>\n",
       "      <td>1</td>\n",
       "      <td>EQUITIES AND LIABILITIES</td>\n",
       "      <td>NaN</td>\n",
       "      <td>NaN</td>\n",
       "      <td>NaN</td>\n",
       "      <td>NaN</td>\n",
       "      <td>NaN</td>\n",
       "      <td></td>\n",
       "    </tr>\n",
       "    <tr>\n",
       "      <th>2</th>\n",
       "      <td>2</td>\n",
       "      <td>SHAREHOLDER'S FUNDS</td>\n",
       "      <td>NaN</td>\n",
       "      <td>NaN</td>\n",
       "      <td>NaN</td>\n",
       "      <td>NaN</td>\n",
       "      <td>NaN</td>\n",
       "      <td></td>\n",
       "    </tr>\n",
       "    <tr>\n",
       "      <th>3</th>\n",
       "      <td>3</td>\n",
       "      <td>Equity Share Capital</td>\n",
       "      <td>1,232.33</td>\n",
       "      <td>1,230.88</td>\n",
       "      <td>1,229.22</td>\n",
       "      <td>1,225.86</td>\n",
       "      <td>1,220.43</td>\n",
       "      <td></td>\n",
       "    </tr>\n",
       "    <tr>\n",
       "      <th>4</th>\n",
       "      <td>4</td>\n",
       "      <td>Total Share Capital</td>\n",
       "      <td>1,232.33</td>\n",
       "      <td>1,230.88</td>\n",
       "      <td>1,229.22</td>\n",
       "      <td>1,225.86</td>\n",
       "      <td>1,220.43</td>\n",
       "      <td></td>\n",
       "    </tr>\n",
       "    <tr>\n",
       "      <th>...</th>\n",
       "      <td>...</td>\n",
       "      <td>...</td>\n",
       "      <td>...</td>\n",
       "      <td>...</td>\n",
       "      <td>...</td>\n",
       "      <td>...</td>\n",
       "      <td>...</td>\n",
       "      <td>...</td>\n",
       "    </tr>\n",
       "    <tr>\n",
       "      <th>60</th>\n",
       "      <td>60</td>\n",
       "      <td>Non-Current Investments Quoted Market Value</td>\n",
       "      <td>11,205.72</td>\n",
       "      <td>9,984.03</td>\n",
       "      <td>10,592.71</td>\n",
       "      <td>11,218.74</td>\n",
       "      <td>11,096.58</td>\n",
       "      <td></td>\n",
       "    </tr>\n",
       "    <tr>\n",
       "      <th>61</th>\n",
       "      <td>61</td>\n",
       "      <td>Non-Current Investments Unquoted Book Value</td>\n",
       "      <td>4,705.95</td>\n",
       "      <td>3,465.92</td>\n",
       "      <td>3,091.69</td>\n",
       "      <td>2,882.13</td>\n",
       "      <td>2,432.64</td>\n",
       "      <td></td>\n",
       "    </tr>\n",
       "    <tr>\n",
       "      <th>62</th>\n",
       "      <td>62</td>\n",
       "      <td>CURRENT INVESTMENTS</td>\n",
       "      <td>NaN</td>\n",
       "      <td>NaN</td>\n",
       "      <td>NaN</td>\n",
       "      <td>NaN</td>\n",
       "      <td>NaN</td>\n",
       "      <td></td>\n",
       "    </tr>\n",
       "    <tr>\n",
       "      <th>63</th>\n",
       "      <td>63</td>\n",
       "      <td>Current Investments Quoted Market Value</td>\n",
       "      <td>4,483.77</td>\n",
       "      <td>4,302.03</td>\n",
       "      <td>3,122.85</td>\n",
       "      <td>4,624.25</td>\n",
       "      <td>1,792.59</td>\n",
       "      <td></td>\n",
       "    </tr>\n",
       "    <tr>\n",
       "      <th>64</th>\n",
       "      <td>64</td>\n",
       "      <td>Current Investments Unquoted Book Value</td>\n",
       "      <td>7,157.66</td>\n",
       "      <td>9,774.63</td>\n",
       "      <td>14,061.11</td>\n",
       "      <td>7,885.76</td>\n",
       "      <td>8,111.65</td>\n",
       "      <td></td>\n",
       "    </tr>\n",
       "  </tbody>\n",
       "</table>\n",
       "<p>65 rows × 8 columns</p>\n",
       "</div>"
      ],
      "text/plain": [
       "    Unnamed: 0            Balance Sheet of ITC (in Rs. Cr.)     Mar 22  \\\n",
       "0            0                                                 12 mths   \n",
       "1            1                     EQUITIES AND LIABILITIES        NaN   \n",
       "2            2                          SHAREHOLDER'S FUNDS        NaN   \n",
       "3            3                         Equity Share Capital   1,232.33   \n",
       "4            4                          Total Share Capital   1,232.33   \n",
       "..         ...                                          ...        ...   \n",
       "60          60  Non-Current Investments Quoted Market Value  11,205.72   \n",
       "61          61  Non-Current Investments Unquoted Book Value   4,705.95   \n",
       "62          62                          CURRENT INVESTMENTS        NaN   \n",
       "63          63      Current Investments Quoted Market Value   4,483.77   \n",
       "64          64      Current Investments Unquoted Book Value   7,157.66   \n",
       "\n",
       "      Mar 21     Mar 20     Mar 19     Mar 18     \n",
       "0    12 mths    12 mths    12 mths    12 mths     \n",
       "1        NaN        NaN        NaN        NaN     \n",
       "2        NaN        NaN        NaN        NaN     \n",
       "3   1,230.88   1,229.22   1,225.86   1,220.43     \n",
       "4   1,230.88   1,229.22   1,225.86   1,220.43     \n",
       "..       ...        ...        ...        ... ..  \n",
       "60  9,984.03  10,592.71  11,218.74  11,096.58     \n",
       "61  3,465.92   3,091.69   2,882.13   2,432.64     \n",
       "62       NaN        NaN        NaN        NaN     \n",
       "63  4,302.03   3,122.85   4,624.25   1,792.59     \n",
       "64  9,774.63  14,061.11   7,885.76   8,111.65     \n",
       "\n",
       "[65 rows x 8 columns]"
      ]
     },
     "execution_count": 50,
     "metadata": {},
     "output_type": "execute_result"
    }
   ],
   "source": [
    "df1"
   ]
  },
  {
   "cell_type": "code",
   "execution_count": null,
   "id": "ded58abd",
   "metadata": {},
   "outputs": [],
   "source": []
  }
 ],
 "metadata": {
  "kernelspec": {
   "display_name": "Python 3 (ipykernel)",
   "language": "python",
   "name": "python3"
  },
  "language_info": {
   "codemirror_mode": {
    "name": "ipython",
    "version": 3
   },
   "file_extension": ".py",
   "mimetype": "text/x-python",
   "name": "python",
   "nbconvert_exporter": "python",
   "pygments_lexer": "ipython3",
   "version": "3.7.13"
  }
 },
 "nbformat": 4,
 "nbformat_minor": 5
}
