{
 "cells": [
  {
   "cell_type": "code",
   "execution_count": 1,
   "id": "bae1bb15",
   "metadata": {},
   "outputs": [],
   "source": [
    "import pandas as pd"
   ]
  },
  {
   "cell_type": "code",
   "execution_count": 7,
   "id": "b3b67ced",
   "metadata": {},
   "outputs": [],
   "source": [
    "students = ['Andrew','Sam','Fred','Will']"
   ]
  },
  {
   "cell_type": "code",
   "execution_count": 8,
   "id": "267d93ea",
   "metadata": {},
   "outputs": [
    {
     "data": {
      "text/plain": [
       "['Andrew', 'Sam', 'Fred', 'Will']"
      ]
     },
     "execution_count": 8,
     "metadata": {},
     "output_type": "execute_result"
    }
   ],
   "source": [
    "students"
   ]
  },
  {
   "cell_type": "code",
   "execution_count": 9,
   "id": "b82639df",
   "metadata": {},
   "outputs": [
    {
     "data": {
      "text/plain": [
       "0    Andrew\n",
       "1       Sam\n",
       "2      Fred\n",
       "3      Will\n",
       "dtype: object"
      ]
     },
     "execution_count": 9,
     "metadata": {},
     "output_type": "execute_result"
    }
   ],
   "source": [
    "pd.Series(students)"
   ]
  },
  {
   "cell_type": "code",
   "execution_count": 13,
   "id": "74f5dc19",
   "metadata": {},
   "outputs": [],
   "source": [
    "heights = [167.1, 170.6, 188.2, 165.9]"
   ]
  },
  {
   "cell_type": "code",
   "execution_count": 14,
   "id": "8de25443",
   "metadata": {},
   "outputs": [
    {
     "data": {
      "text/plain": [
       "0    167.1\n",
       "1    170.6\n",
       "2    188.2\n",
       "3    165.9\n",
       "dtype: float64"
      ]
     },
     "execution_count": 14,
     "metadata": {},
     "output_type": "execute_result"
    }
   ],
   "source": [
    "pd.Series(heights)"
   ]
  },
  {
   "cell_type": "code",
   "execution_count": 15,
   "id": "6f8ad006",
   "metadata": {},
   "outputs": [],
   "source": [
    "ages = [22,23,24,21]"
   ]
  },
  {
   "cell_type": "code",
   "execution_count": 17,
   "id": "c3526b1f",
   "metadata": {},
   "outputs": [
    {
     "data": {
      "text/plain": [
       "0    22\n",
       "1    23\n",
       "2    24\n",
       "3    21\n",
       "dtype: int64"
      ]
     },
     "execution_count": 17,
     "metadata": {},
     "output_type": "execute_result"
    }
   ],
   "source": [
    "pd.Series(ages)"
   ]
  },
  {
   "cell_type": "code",
   "execution_count": 20,
   "id": "f730e99c",
   "metadata": {},
   "outputs": [],
   "source": [
    "mixed = [True, 'Simple',{'object':'Ages'}, 174.66]"
   ]
  },
  {
   "cell_type": "code",
   "execution_count": 21,
   "id": "360eb72e",
   "metadata": {},
   "outputs": [
    {
     "data": {
      "text/plain": [
       "0                  True\n",
       "1                Simple\n",
       "2    {'object': 'Ages'}\n",
       "3                174.66\n",
       "dtype: object"
      ]
     },
     "execution_count": 21,
     "metadata": {},
     "output_type": "execute_result"
    }
   ],
   "source": [
    "pd.Series(mixed)"
   ]
  },
  {
   "cell_type": "code",
   "execution_count": 22,
   "id": "d9659e45",
   "metadata": {},
   "outputs": [],
   "source": [
    "books = ['2 States','Twilight','notebook']"
   ]
  },
  {
   "cell_type": "code",
   "execution_count": 26,
   "id": "f9c59cf0",
   "metadata": {},
   "outputs": [],
   "source": [
    "list_s = pd.Series(books)"
   ]
  },
  {
   "cell_type": "code",
   "execution_count": 30,
   "id": "76b22ce8",
   "metadata": {},
   "outputs": [],
   "source": [
    "dict_book = {5:'2 States',6:'Twilight',7:'notebook'}"
   ]
  },
  {
   "cell_type": "code",
   "execution_count": 32,
   "id": "59323f31",
   "metadata": {},
   "outputs": [],
   "source": [
    "dict_s = pd.Series(dict_book)"
   ]
  },
  {
   "cell_type": "code",
   "execution_count": 34,
   "id": "b7c049b0",
   "metadata": {},
   "outputs": [
    {
     "data": {
      "text/plain": [
       "False"
      ]
     },
     "execution_count": 34,
     "metadata": {},
     "output_type": "execute_result"
    }
   ],
   "source": [
    "list_s.equals(dict_s)"
   ]
  },
  {
   "cell_type": "code",
   "execution_count": 33,
   "id": "942771a6",
   "metadata": {},
   "outputs": [
    {
     "data": {
      "text/plain": [
       "5    2 States\n",
       "6    Twilight\n",
       "7    notebook\n",
       "dtype: object"
      ]
     },
     "execution_count": 33,
     "metadata": {},
     "output_type": "execute_result"
    }
   ],
   "source": [
    "dict_s"
   ]
  },
  {
   "cell_type": "code",
   "execution_count": 35,
   "id": "931ea444",
   "metadata": {},
   "outputs": [
    {
     "data": {
      "text/plain": [
       "['Andrew', 'Sam', 'Fred', 'Will']"
      ]
     },
     "execution_count": 35,
     "metadata": {},
     "output_type": "execute_result"
    }
   ],
   "source": [
    "students"
   ]
  },
  {
   "cell_type": "code",
   "execution_count": 36,
   "id": "b04a96c1",
   "metadata": {},
   "outputs": [
    {
     "data": {
      "text/plain": [
       "0    Andrew\n",
       "1       Sam\n",
       "2      Fred\n",
       "3      Will\n",
       "dtype: object"
      ]
     },
     "execution_count": 36,
     "metadata": {},
     "output_type": "execute_result"
    }
   ],
   "source": [
    "name = pd.Series(students)\n",
    "name"
   ]
  },
  {
   "cell_type": "code",
   "execution_count": 37,
   "id": "96cb2ad8",
   "metadata": {},
   "outputs": [],
   "source": [
    "heights2 =  [167.1, '170.6', 188.2, 165.9]"
   ]
  },
  {
   "cell_type": "code",
   "execution_count": 38,
   "id": "1168c591",
   "metadata": {},
   "outputs": [
    {
     "data": {
      "text/plain": [
       "0    167.1\n",
       "1    170.6\n",
       "2    188.2\n",
       "3    165.9\n",
       "dtype: object"
      ]
     },
     "execution_count": 38,
     "metadata": {},
     "output_type": "execute_result"
    }
   ],
   "source": [
    "pd.Series(heights2)"
   ]
  },
  {
   "cell_type": "code",
   "execution_count": 39,
   "id": "8837571a",
   "metadata": {},
   "outputs": [
    {
     "data": {
      "text/plain": [
       "'1.4.2'"
      ]
     },
     "execution_count": 39,
     "metadata": {},
     "output_type": "execute_result"
    }
   ],
   "source": [
    "pd.__version__"
   ]
  },
  {
   "cell_type": "code",
   "execution_count": 40,
   "id": "fdfc6a83",
   "metadata": {},
   "outputs": [
    {
     "data": {
      "text/plain": [
       "['2 States', 'Twilight', 'notebook']"
      ]
     },
     "execution_count": 40,
     "metadata": {},
     "output_type": "execute_result"
    }
   ],
   "source": [
    "books"
   ]
  },
  {
   "cell_type": "code",
   "execution_count": 41,
   "id": "942f8666",
   "metadata": {},
   "outputs": [
    {
     "data": {
      "text/plain": [
       "Thriller      2 States\n",
       "Action        Twilight\n",
       "Love Story    notebook\n",
       "dtype: object"
      ]
     },
     "execution_count": 41,
     "metadata": {},
     "output_type": "execute_result"
    }
   ],
   "source": [
    "pd.Series(data = books, index = ['Thriller','Action','Love Story'])"
   ]
  },
  {
   "cell_type": "code",
   "execution_count": 43,
   "id": "f2c0b046",
   "metadata": {},
   "outputs": [
    {
     "data": {
      "text/plain": [
       "RangeIndex(start=0, stop=3, step=1)"
      ]
     },
     "execution_count": 43,
     "metadata": {},
     "output_type": "execute_result"
    }
   ],
   "source": [
    "list_s.index"
   ]
  },
  {
   "cell_type": "code",
   "execution_count": 44,
   "id": "115d0ce1",
   "metadata": {},
   "outputs": [
    {
     "data": {
      "text/plain": [
       "RangeIndex(start=0, stop=10, step=2)"
      ]
     },
     "execution_count": 44,
     "metadata": {},
     "output_type": "execute_result"
    }
   ],
   "source": [
    "pd.RangeIndex(start = 0, stop = 10, step = 2)"
   ]
  },
  {
   "cell_type": "code",
   "execution_count": 46,
   "id": "08bf1be6",
   "metadata": {},
   "outputs": [
    {
     "data": {
      "text/plain": [
       "[-10, -9, -8, -7, -6, -5, -4, -3, -2, -1, 0, 1, 2, 3, 4, 5, 6, 7, 8, 9]"
      ]
     },
     "execution_count": 46,
     "metadata": {},
     "output_type": "execute_result"
    }
   ],
   "source": [
    "list(pd.RangeIndex(start = -10, stop = 10, step = 1))"
   ]
  },
  {
   "cell_type": "code",
   "execution_count": 5,
   "id": "02ca3b3e",
   "metadata": {},
   "outputs": [],
   "source": [
    "actor_names = ['Tom Cruise','Angelina Julie','Tom Hanks']"
   ]
  },
  {
   "cell_type": "code",
   "execution_count": 6,
   "id": "48bf3bc4",
   "metadata": {},
   "outputs": [],
   "source": [
    "actor_ages = [52, 51, 60]"
   ]
  },
  {
   "cell_type": "code",
   "execution_count": 7,
   "id": "cbe8ca7f",
   "metadata": {},
   "outputs": [
    {
     "data": {
      "text/html": [
       "<div>\n",
       "<style scoped>\n",
       "    .dataframe tbody tr th:only-of-type {\n",
       "        vertical-align: middle;\n",
       "    }\n",
       "\n",
       "    .dataframe tbody tr th {\n",
       "        vertical-align: top;\n",
       "    }\n",
       "\n",
       "    .dataframe thead th {\n",
       "        text-align: right;\n",
       "    }\n",
       "</style>\n",
       "<table border=\"1\" class=\"dataframe\">\n",
       "  <thead>\n",
       "    <tr style=\"text-align: right;\">\n",
       "      <th></th>\n",
       "      <th>0</th>\n",
       "    </tr>\n",
       "  </thead>\n",
       "  <tbody>\n",
       "    <tr>\n",
       "      <th>Tom Cruise</th>\n",
       "      <td>52</td>\n",
       "    </tr>\n",
       "    <tr>\n",
       "      <th>Angelina Julie</th>\n",
       "      <td>51</td>\n",
       "    </tr>\n",
       "    <tr>\n",
       "      <th>Tom Hanks</th>\n",
       "      <td>60</td>\n",
       "    </tr>\n",
       "  </tbody>\n",
       "</table>\n",
       "</div>"
      ],
      "text/plain": [
       "                 0\n",
       "Tom Cruise      52\n",
       "Angelina Julie  51\n",
       "Tom Hanks       60"
      ]
     },
     "execution_count": 7,
     "metadata": {},
     "output_type": "execute_result"
    }
   ],
   "source": [
    "pd.DataFrame(data = actor_ages, index = actor_names)"
   ]
  },
  {
   "cell_type": "code",
   "execution_count": 10,
   "id": "572e5716",
   "metadata": {},
   "outputs": [
    {
     "data": {
      "text/plain": [
       "Tom Cruise        52\n",
       "Angelina Julie    51\n",
       "Tom Hanks         60\n",
       "Name: actors, dtype: int64"
      ]
     },
     "execution_count": 10,
     "metadata": {},
     "output_type": "execute_result"
    }
   ],
   "source": [
    "pd.Series(data = actor_ages, index = actor_names, name = 'actors')"
   ]
  },
  {
   "cell_type": "code",
   "execution_count": 16,
   "id": "cb1317ac",
   "metadata": {},
   "outputs": [],
   "source": [
    "actor_dict =  {'TomCruise':54.3,'Angelina Jolie':51.5,'Tom Hanks':66.8}"
   ]
  },
  {
   "cell_type": "code",
   "execution_count": 17,
   "id": "244a24dd",
   "metadata": {},
   "outputs": [
    {
     "data": {
      "text/plain": [
       "TomCruise         54.3\n",
       "Angelina Jolie    51.5\n",
       "Tom Hanks         66.8\n",
       "dtype: float64"
      ]
     },
     "execution_count": 17,
     "metadata": {},
     "output_type": "execute_result"
    }
   ],
   "source": [
    "pd.Series(actor_dict)"
   ]
  },
  {
   "cell_type": "code",
   "execution_count": 19,
   "id": "808f7ea1",
   "metadata": {},
   "outputs": [
    {
     "data": {
      "text/html": [
       "<div>\n",
       "<style scoped>\n",
       "    .dataframe tbody tr th:only-of-type {\n",
       "        vertical-align: middle;\n",
       "    }\n",
       "\n",
       "    .dataframe tbody tr th {\n",
       "        vertical-align: top;\n",
       "    }\n",
       "\n",
       "    .dataframe thead th {\n",
       "        text-align: right;\n",
       "    }\n",
       "</style>\n",
       "<table border=\"1\" class=\"dataframe\">\n",
       "  <thead>\n",
       "    <tr style=\"text-align: right;\">\n",
       "      <th></th>\n",
       "      <th>0</th>\n",
       "    </tr>\n",
       "  </thead>\n",
       "  <tbody>\n",
       "    <tr>\n",
       "      <th>TomCruise</th>\n",
       "      <td>54.3</td>\n",
       "    </tr>\n",
       "    <tr>\n",
       "      <th>Angelina Jolie</th>\n",
       "      <td>51.5</td>\n",
       "    </tr>\n",
       "    <tr>\n",
       "      <th>Tom Hanks</th>\n",
       "      <td>66.8</td>\n",
       "    </tr>\n",
       "  </tbody>\n",
       "</table>\n",
       "</div>"
      ],
      "text/plain": [
       "                   0\n",
       "TomCruise       54.3\n",
       "Angelina Jolie  51.5\n",
       "Tom Hanks       66.8"
      ]
     },
     "execution_count": 19,
     "metadata": {},
     "output_type": "execute_result"
    }
   ],
   "source": [
    "a = pd.Series(actor_dict)\n",
    "pd.DataFrame(a)"
   ]
  },
  {
   "cell_type": "code",
   "execution_count": 20,
   "id": "4c99c68b",
   "metadata": {},
   "outputs": [
    {
     "data": {
      "text/plain": [
       "['Tom Cruise', 'Angelina Julie', 'Tom Hanks']"
      ]
     },
     "execution_count": 20,
     "metadata": {},
     "output_type": "execute_result"
    }
   ],
   "source": [
    "actor_names"
   ]
  },
  {
   "cell_type": "code",
   "execution_count": 21,
   "id": "95b842df",
   "metadata": {},
   "outputs": [
    {
     "data": {
      "text/plain": [
       "[52, 51, 60]"
      ]
     },
     "execution_count": 21,
     "metadata": {},
     "output_type": "execute_result"
    }
   ],
   "source": [
    "actor_ages"
   ]
  },
  {
   "cell_type": "code",
   "execution_count": 22,
   "id": "05183f1d",
   "metadata": {},
   "outputs": [
    {
     "data": {
      "text/plain": [
       "[('Tom Cruise', 52), ('Angelina Julie', 51), ('Tom Hanks', 60)]"
      ]
     },
     "execution_count": 22,
     "metadata": {},
     "output_type": "execute_result"
    }
   ],
   "source": [
    "list(zip(actor_names,actor_ages))"
   ]
  },
  {
   "cell_type": "code",
   "execution_count": 23,
   "id": "efc301d2",
   "metadata": {},
   "outputs": [
    {
     "data": {
      "text/plain": [
       "{'Tom Cruise': 52, 'Angelina Julie': 51, 'Tom Hanks': 60}"
      ]
     },
     "execution_count": 23,
     "metadata": {},
     "output_type": "execute_result"
    }
   ],
   "source": [
    "dict(zip(actor_names,actor_ages))"
   ]
  },
  {
   "cell_type": "code",
   "execution_count": 24,
   "id": "8d60e84b",
   "metadata": {},
   "outputs": [
    {
     "data": {
      "text/plain": [
       "Tom Cruise        52\n",
       "Angelina Julie    51\n",
       "Tom Hanks         60\n",
       "dtype: int64"
      ]
     },
     "execution_count": 24,
     "metadata": {},
     "output_type": "execute_result"
    }
   ],
   "source": [
    "pd.Series(dict(zip(actor_names,actor_ages)))"
   ]
  },
  {
   "cell_type": "code",
   "execution_count": 25,
   "id": "1437527f",
   "metadata": {},
   "outputs": [
    {
     "data": {
      "text/html": [
       "<div>\n",
       "<style scoped>\n",
       "    .dataframe tbody tr th:only-of-type {\n",
       "        vertical-align: middle;\n",
       "    }\n",
       "\n",
       "    .dataframe tbody tr th {\n",
       "        vertical-align: top;\n",
       "    }\n",
       "\n",
       "    .dataframe thead th {\n",
       "        text-align: right;\n",
       "    }\n",
       "</style>\n",
       "<table border=\"1\" class=\"dataframe\">\n",
       "  <thead>\n",
       "    <tr style=\"text-align: right;\">\n",
       "      <th></th>\n",
       "      <th>0</th>\n",
       "    </tr>\n",
       "  </thead>\n",
       "  <tbody>\n",
       "    <tr>\n",
       "      <th>Tom Cruise</th>\n",
       "      <td>52</td>\n",
       "    </tr>\n",
       "    <tr>\n",
       "      <th>Angelina Julie</th>\n",
       "      <td>51</td>\n",
       "    </tr>\n",
       "    <tr>\n",
       "      <th>Tom Hanks</th>\n",
       "      <td>60</td>\n",
       "    </tr>\n",
       "  </tbody>\n",
       "</table>\n",
       "</div>"
      ],
      "text/plain": [
       "                 0\n",
       "Tom Cruise      52\n",
       "Angelina Julie  51\n",
       "Tom Hanks       60"
      ]
     },
     "execution_count": 25,
     "metadata": {},
     "output_type": "execute_result"
    }
   ],
   "source": [
    "pd.DataFrame(pd.Series(dict(zip(actor_names,actor_ages))))"
   ]
  },
  {
   "cell_type": "code",
   "execution_count": 28,
   "id": "eed1780c",
   "metadata": {},
   "outputs": [],
   "source": [
    "int_series = pd.Series(range(60))"
   ]
  },
  {
   "cell_type": "code",
   "execution_count": 29,
   "id": "7cca231f",
   "metadata": {},
   "outputs": [
    {
     "data": {
      "text/plain": [
       "0    0\n",
       "1    1\n",
       "2    2\n",
       "3    3\n",
       "4    4\n",
       "dtype: int64"
      ]
     },
     "execution_count": 29,
     "metadata": {},
     "output_type": "execute_result"
    }
   ],
   "source": [
    "int_series.head(5)"
   ]
  },
  {
   "cell_type": "code",
   "execution_count": 30,
   "id": "4a49cff5",
   "metadata": {},
   "outputs": [
    {
     "data": {
      "text/plain": [
       "50    50\n",
       "51    51\n",
       "52    52\n",
       "53    53\n",
       "54    54\n",
       "55    55\n",
       "56    56\n",
       "57    57\n",
       "58    58\n",
       "59    59\n",
       "dtype: int64"
      ]
     },
     "execution_count": 30,
     "metadata": {},
     "output_type": "execute_result"
    }
   ],
   "source": [
    "int_series.tail(10)"
   ]
  },
  {
   "cell_type": "code",
   "execution_count": 32,
   "id": "47848389",
   "metadata": {},
   "outputs": [
    {
     "data": {
      "text/plain": [
       "10"
      ]
     },
     "execution_count": 32,
     "metadata": {},
     "output_type": "execute_result"
    }
   ],
   "source": [
    "int_series[10]"
   ]
  },
  {
   "cell_type": "code",
   "execution_count": 8,
   "id": "4b991df9",
   "metadata": {},
   "outputs": [],
   "source": [
    "from string import ascii_lowercase"
   ]
  },
  {
   "cell_type": "code",
   "execution_count": 35,
   "id": "47b2bdd7",
   "metadata": {},
   "outputs": [
    {
     "data": {
      "text/plain": [
       "'abcdefghijklmnopqrstuvwxyz'"
      ]
     },
     "execution_count": 35,
     "metadata": {},
     "output_type": "execute_result"
    }
   ],
   "source": [
    "ascii_lowercase"
   ]
  },
  {
   "cell_type": "code",
   "execution_count": 37,
   "id": "4385c8ce",
   "metadata": {},
   "outputs": [
    {
     "data": {
      "text/plain": [
       "['a',\n",
       " 'b',\n",
       " 'c',\n",
       " 'd',\n",
       " 'e',\n",
       " 'f',\n",
       " 'g',\n",
       " 'h',\n",
       " 'i',\n",
       " 'j',\n",
       " 'k',\n",
       " 'l',\n",
       " 'm',\n",
       " 'n',\n",
       " 'o',\n",
       " 'p',\n",
       " 'q',\n",
       " 'r',\n",
       " 's',\n",
       " 't',\n",
       " 'u',\n",
       " 'v',\n",
       " 'w',\n",
       " 'x',\n",
       " 'y',\n",
       " 'z']"
      ]
     },
     "execution_count": 37,
     "metadata": {},
     "output_type": "execute_result"
    }
   ],
   "source": [
    "list(ascii_lowercase)"
   ]
  },
  {
   "cell_type": "code",
   "execution_count": 39,
   "id": "ee670bc3",
   "metadata": {},
   "outputs": [
    {
     "data": {
      "text/plain": [
       "26"
      ]
     },
     "execution_count": 39,
     "metadata": {},
     "output_type": "execute_result"
    }
   ],
   "source": [
    "len(pd.Series(list(ascii_lowercase)))"
   ]
  },
  {
   "cell_type": "code",
   "execution_count": 40,
   "id": "e7a13f3f",
   "metadata": {},
   "outputs": [],
   "source": [
    "d = pd.Series(list(ascii_lowercase))"
   ]
  },
  {
   "cell_type": "code",
   "execution_count": 42,
   "id": "363175f1",
   "metadata": {},
   "outputs": [
    {
     "data": {
      "text/plain": [
       "'k'"
      ]
     },
     "execution_count": 42,
     "metadata": {},
     "output_type": "execute_result"
    }
   ],
   "source": [
    "d[10]"
   ]
  },
  {
   "cell_type": "code",
   "execution_count": 44,
   "id": "2de90848",
   "metadata": {},
   "outputs": [
    {
     "data": {
      "text/plain": [
       "0     a\n",
       "1     b\n",
       "2     c\n",
       "3     d\n",
       "4     e\n",
       "5     f\n",
       "6     g\n",
       "7     h\n",
       "8     i\n",
       "9     j\n",
       "10    k\n",
       "11    l\n",
       "12    m\n",
       "13    n\n",
       "14    o\n",
       "15    p\n",
       "16    q\n",
       "17    r\n",
       "18    s\n",
       "19    t\n",
       "dtype: object"
      ]
     },
     "execution_count": 44,
     "metadata": {},
     "output_type": "execute_result"
    }
   ],
   "source": [
    "d[:20]"
   ]
  },
  {
   "cell_type": "code",
   "execution_count": 45,
   "id": "0823d573",
   "metadata": {},
   "outputs": [
    {
     "data": {
      "text/plain": [
       "5     f\n",
       "6     g\n",
       "7     h\n",
       "8     i\n",
       "9     j\n",
       "10    k\n",
       "11    l\n",
       "12    m\n",
       "13    n\n",
       "14    o\n",
       "15    p\n",
       "16    q\n",
       "17    r\n",
       "18    s\n",
       "19    t\n",
       "20    u\n",
       "21    v\n",
       "22    w\n",
       "23    x\n",
       "24    y\n",
       "25    z\n",
       "dtype: object"
      ]
     },
     "execution_count": 45,
     "metadata": {},
     "output_type": "execute_result"
    }
   ],
   "source": [
    "d[5:]"
   ]
  },
  {
   "cell_type": "code",
   "execution_count": 46,
   "id": "9de57fff",
   "metadata": {},
   "outputs": [
    {
     "data": {
      "text/plain": [
       "5    f\n",
       "6    g\n",
       "7    h\n",
       "8    i\n",
       "9    j\n",
       "dtype: object"
      ]
     },
     "execution_count": 46,
     "metadata": {},
     "output_type": "execute_result"
    }
   ],
   "source": [
    "d[5:10]"
   ]
  },
  {
   "cell_type": "code",
   "execution_count": 3,
   "id": "2f0e34d5",
   "metadata": {},
   "outputs": [],
   "source": [
    "from string import ascii_uppercase"
   ]
  },
  {
   "cell_type": "code",
   "execution_count": 4,
   "id": "f9102b32",
   "metadata": {},
   "outputs": [
    {
     "data": {
      "text/plain": [
       "'ABCDEFGHIJKLMNOPQRSTUVWXYZ'"
      ]
     },
     "execution_count": 4,
     "metadata": {},
     "output_type": "execute_result"
    }
   ],
   "source": [
    "ascii_uppercase"
   ]
  },
  {
   "cell_type": "code",
   "execution_count": 9,
   "id": "b47cda8b",
   "metadata": {},
   "outputs": [],
   "source": [
    "s = list(zip(list(ascii_uppercase),list(ascii_lowercase)))"
   ]
  },
  {
   "cell_type": "code",
   "execution_count": 10,
   "id": "2d1f1aed",
   "metadata": {},
   "outputs": [
    {
     "data": {
      "text/plain": [
       "0     (A, a)\n",
       "1     (B, b)\n",
       "2     (C, c)\n",
       "3     (D, d)\n",
       "4     (E, e)\n",
       "5     (F, f)\n",
       "6     (G, g)\n",
       "7     (H, h)\n",
       "8     (I, i)\n",
       "9     (J, j)\n",
       "10    (K, k)\n",
       "11    (L, l)\n",
       "12    (M, m)\n",
       "13    (N, n)\n",
       "14    (O, o)\n",
       "15    (P, p)\n",
       "16    (Q, q)\n",
       "17    (R, r)\n",
       "18    (S, s)\n",
       "19    (T, t)\n",
       "20    (U, u)\n",
       "21    (V, v)\n",
       "22    (W, w)\n",
       "23    (X, x)\n",
       "24    (Y, y)\n",
       "25    (Z, z)\n",
       "dtype: object"
      ]
     },
     "execution_count": 10,
     "metadata": {},
     "output_type": "execute_result"
    }
   ],
   "source": [
    "pd.Series(s)"
   ]
  },
  {
   "cell_type": "code",
   "execution_count": 11,
   "id": "a4ab7868",
   "metadata": {},
   "outputs": [],
   "source": [
    "ser = pd.Series(data = list(ascii_lowercase), index = list(ascii_uppercase))"
   ]
  },
  {
   "cell_type": "code",
   "execution_count": 57,
   "id": "232948f4",
   "metadata": {},
   "outputs": [
    {
     "data": {
      "text/plain": [
       "F    f\n",
       "G    g\n",
       "H    h\n",
       "I    i\n",
       "J    j\n",
       "K    k\n",
       "L    l\n",
       "M    m\n",
       "N    n\n",
       "O    o\n",
       "P    p\n",
       "Q    q\n",
       "R    r\n",
       "dtype: object"
      ]
     },
     "execution_count": 57,
     "metadata": {},
     "output_type": "execute_result"
    }
   ],
   "source": [
    "ser['F':'R']"
   ]
  },
  {
   "cell_type": "code",
   "execution_count": 12,
   "id": "7735cb44",
   "metadata": {},
   "outputs": [
    {
     "data": {
      "text/plain": [
       "A    a\n",
       "B    b\n",
       "C    c\n",
       "D    d\n",
       "E    e\n",
       "F    f\n",
       "G    g\n",
       "H    h\n",
       "I    i\n",
       "J    j\n",
       "K    k\n",
       "L    l\n",
       "M    m\n",
       "dtype: object"
      ]
     },
     "execution_count": 12,
     "metadata": {},
     "output_type": "execute_result"
    }
   ],
   "source": [
    "ser[:'M']"
   ]
  },
  {
   "cell_type": "code",
   "execution_count": 60,
   "id": "bf8c88ed",
   "metadata": {},
   "outputs": [
    {
     "data": {
      "text/plain": [
       "R    r\n",
       "S    s\n",
       "T    t\n",
       "U    u\n",
       "V    v\n",
       "W    w\n",
       "X    x\n",
       "Y    y\n",
       "Z    z\n",
       "dtype: object"
      ]
     },
     "execution_count": 60,
     "metadata": {},
     "output_type": "execute_result"
    }
   ],
   "source": [
    "ser['R':]"
   ]
  },
  {
   "cell_type": "code",
   "execution_count": 61,
   "id": "1889739d",
   "metadata": {},
   "outputs": [
    {
     "data": {
      "text/plain": [
       "'f'"
      ]
     },
     "execution_count": 61,
     "metadata": {},
     "output_type": "execute_result"
    }
   ],
   "source": [
    "ser[5]"
   ]
  },
  {
   "cell_type": "code",
   "execution_count": 19,
   "id": "ec53b938",
   "metadata": {},
   "outputs": [],
   "source": [
    "ser1 = pd.Series(data = list(ascii_lowercase), index = map(lambda x: 'label_'+ x,list(ascii_uppercase)))"
   ]
  },
  {
   "cell_type": "code",
   "execution_count": 20,
   "id": "c5aee92f",
   "metadata": {},
   "outputs": [
    {
     "data": {
      "text/plain": [
       "label_A    a\n",
       "label_B    b\n",
       "label_C    c\n",
       "label_D    d\n",
       "label_E    e\n",
       "label_F    f\n",
       "label_G    g\n",
       "label_H    h\n",
       "label_I    i\n",
       "label_J    j\n",
       "label_K    k\n",
       "label_L    l\n",
       "label_M    m\n",
       "label_N    n\n",
       "label_O    o\n",
       "label_P    p\n",
       "label_Q    q\n",
       "label_R    r\n",
       "label_S    s\n",
       "label_T    t\n",
       "label_U    u\n",
       "label_V    v\n",
       "label_W    w\n",
       "label_X    x\n",
       "label_Y    y\n",
       "label_Z    z\n",
       "dtype: object"
      ]
     },
     "execution_count": 20,
     "metadata": {},
     "output_type": "execute_result"
    }
   ],
   "source": [
    "ser1"
   ]
  },
  {
   "cell_type": "code",
   "execution_count": 66,
   "id": "104b878a",
   "metadata": {},
   "outputs": [
    {
     "data": {
      "text/plain": [
       "A    a\n",
       "B    b\n",
       "C    c\n",
       "D    d\n",
       "E    e\n",
       "F    f\n",
       "G    g\n",
       "H    h\n",
       "I    i\n",
       "J    j\n",
       "K    k\n",
       "L    l\n",
       "M    m\n",
       "N    n\n",
       "O    o\n",
       "P    p\n",
       "Q    q\n",
       "R    r\n",
       "S    s\n",
       "T    t\n",
       "U    u\n",
       "V    v\n",
       "W    w\n",
       "X    x\n",
       "Y    y\n",
       "Z    z\n",
       "dtype: object"
      ]
     },
     "execution_count": 66,
     "metadata": {},
     "output_type": "execute_result"
    }
   ],
   "source": [
    "ser"
   ]
  },
  {
   "cell_type": "code",
   "execution_count": 14,
   "id": "5888de10",
   "metadata": {},
   "outputs": [],
   "source": [
    "a = pd.Series(list(ascii_lowercase))"
   ]
  },
  {
   "cell_type": "code",
   "execution_count": 70,
   "id": "aa45476a",
   "metadata": {},
   "outputs": [
    {
     "data": {
      "text/plain": [
       "label_0     a\n",
       "label_1     b\n",
       "label_2     c\n",
       "label_3     d\n",
       "label_4     e\n",
       "label_5     f\n",
       "label_6     g\n",
       "label_7     h\n",
       "label_8     i\n",
       "label_9     j\n",
       "label_10    k\n",
       "label_11    l\n",
       "label_12    m\n",
       "label_13    n\n",
       "label_14    o\n",
       "label_15    p\n",
       "label_16    q\n",
       "label_17    r\n",
       "label_18    s\n",
       "label_19    t\n",
       "label_20    u\n",
       "label_21    v\n",
       "label_22    w\n",
       "label_23    x\n",
       "label_24    y\n",
       "label_25    z\n",
       "dtype: object"
      ]
     },
     "execution_count": 70,
     "metadata": {},
     "output_type": "execute_result"
    }
   ],
   "source": [
    "a.add_prefix('label_')"
   ]
  },
  {
   "cell_type": "code",
   "execution_count": 15,
   "id": "3409390e",
   "metadata": {},
   "outputs": [
    {
     "data": {
      "text/plain": [
       "0_LABEL     a\n",
       "1_LABEL     b\n",
       "2_LABEL     c\n",
       "3_LABEL     d\n",
       "4_LABEL     e\n",
       "5_LABEL     f\n",
       "6_LABEL     g\n",
       "7_LABEL     h\n",
       "8_LABEL     i\n",
       "9_LABEL     j\n",
       "10_LABEL    k\n",
       "11_LABEL    l\n",
       "12_LABEL    m\n",
       "13_LABEL    n\n",
       "14_LABEL    o\n",
       "15_LABEL    p\n",
       "16_LABEL    q\n",
       "17_LABEL    r\n",
       "18_LABEL    s\n",
       "19_LABEL    t\n",
       "20_LABEL    u\n",
       "21_LABEL    v\n",
       "22_LABEL    w\n",
       "23_LABEL    x\n",
       "24_LABEL    y\n",
       "25_LABEL    z\n",
       "dtype: object"
      ]
     },
     "execution_count": 15,
     "metadata": {},
     "output_type": "execute_result"
    }
   ],
   "source": [
    "a.add_suffix('_LABEL')"
   ]
  },
  {
   "cell_type": "code",
   "execution_count": 17,
   "id": "493dcf87",
   "metadata": {},
   "outputs": [
    {
     "data": {
      "text/plain": [
       "dtype('O')"
      ]
     },
     "execution_count": 17,
     "metadata": {},
     "output_type": "execute_result"
    }
   ],
   "source": [
    "a.dtype"
   ]
  },
  {
   "cell_type": "code",
   "execution_count": 22,
   "id": "780da65c",
   "metadata": {},
   "outputs": [
    {
     "data": {
      "text/plain": [
       "'x'"
      ]
     },
     "execution_count": 22,
     "metadata": {},
     "output_type": "execute_result"
    }
   ],
   "source": [
    "ser1.label_X"
   ]
  },
  {
   "cell_type": "code",
   "execution_count": 23,
   "id": "7c139cad",
   "metadata": {},
   "outputs": [
    {
     "data": {
      "text/plain": [
       "label_G    g\n",
       "label_H    h\n",
       "label_I    i\n",
       "label_J    j\n",
       "label_K    k\n",
       "label_L    l\n",
       "label_M    m\n",
       "label_N    n\n",
       "label_O    o\n",
       "label_P    p\n",
       "label_Q    q\n",
       "label_R    r\n",
       "dtype: object"
      ]
     },
     "execution_count": 23,
     "metadata": {},
     "output_type": "execute_result"
    }
   ],
   "source": [
    "ser1.loc['label_G':'label_R']"
   ]
  },
  {
   "cell_type": "code",
   "execution_count": 24,
   "id": "e3cdafdf",
   "metadata": {},
   "outputs": [
    {
     "data": {
      "text/plain": [
       "0     a\n",
       "2     c\n",
       "4     e\n",
       "6     g\n",
       "8     i\n",
       "10    k\n",
       "12    m\n",
       "14    o\n",
       "16    q\n",
       "18    s\n",
       "20    u\n",
       "22    w\n",
       "24    y\n",
       "dtype: object"
      ]
     },
     "execution_count": 24,
     "metadata": {},
     "output_type": "execute_result"
    }
   ],
   "source": [
    "a.loc[[True if i%2 == 0 else False for i in range(26)]]"
   ]
  },
  {
   "cell_type": "code",
   "execution_count": 25,
   "id": "f5bef437",
   "metadata": {},
   "outputs": [
    {
     "data": {
      "text/plain": [
       "0     a\n",
       "1     b\n",
       "2     c\n",
       "3     d\n",
       "4     e\n",
       "5     f\n",
       "6     g\n",
       "7     h\n",
       "8     i\n",
       "9     j\n",
       "10    k\n",
       "11    l\n",
       "12    m\n",
       "13    n\n",
       "14    o\n",
       "15    p\n",
       "16    q\n",
       "17    r\n",
       "18    s\n",
       "19    t\n",
       "20    u\n",
       "21    v\n",
       "22    w\n",
       "23    x\n",
       "24    y\n",
       "25    z\n",
       "dtype: object"
      ]
     },
     "execution_count": 25,
     "metadata": {},
     "output_type": "execute_result"
    }
   ],
   "source": [
    "a.loc[[True for i in range(26)]]"
   ]
  },
  {
   "cell_type": "code",
   "execution_count": 26,
   "id": "550fe3a2",
   "metadata": {},
   "outputs": [
    {
     "data": {
      "text/plain": [
       "1     b\n",
       "3     d\n",
       "5     f\n",
       "7     h\n",
       "9     j\n",
       "11    l\n",
       "13    n\n",
       "15    p\n",
       "17    r\n",
       "19    t\n",
       "21    v\n",
       "23    x\n",
       "25    z\n",
       "dtype: object"
      ]
     },
     "execution_count": 26,
     "metadata": {},
     "output_type": "execute_result"
    }
   ],
   "source": [
    "a.loc[[False if i%2 == 0 else True for i in range(26)]]"
   ]
  },
  {
   "cell_type": "code",
   "execution_count": 27,
   "id": "56819ab8",
   "metadata": {},
   "outputs": [
    {
     "data": {
      "text/plain": [
       "5     f\n",
       "6     g\n",
       "7     h\n",
       "8     i\n",
       "9     j\n",
       "10    k\n",
       "11    l\n",
       "12    m\n",
       "13    n\n",
       "14    o\n",
       "15    p\n",
       "16    q\n",
       "17    r\n",
       "18    s\n",
       "19    t\n",
       "20    u\n",
       "21    v\n",
       "22    w\n",
       "23    x\n",
       "24    y\n",
       "25    z\n",
       "dtype: object"
      ]
     },
     "execution_count": 27,
     "metadata": {},
     "output_type": "execute_result"
    }
   ],
   "source": [
    "a.loc[5:]"
   ]
  },
  {
   "cell_type": "code",
   "execution_count": 28,
   "id": "7984ba9a",
   "metadata": {},
   "outputs": [
    {
     "data": {
      "text/plain": [
       "'f'"
      ]
     },
     "execution_count": 28,
     "metadata": {},
     "output_type": "execute_result"
    }
   ],
   "source": [
    "a.iloc[5]"
   ]
  },
  {
   "cell_type": "code",
   "execution_count": 29,
   "id": "b9a3210d",
   "metadata": {},
   "outputs": [
    {
     "data": {
      "text/plain": [
       "5    f\n",
       "6    g\n",
       "7    h\n",
       "8    i\n",
       "9    j\n",
       "dtype: object"
      ]
     },
     "execution_count": 29,
     "metadata": {},
     "output_type": "execute_result"
    }
   ],
   "source": [
    "a.iloc[5:10]"
   ]
  },
  {
   "cell_type": "code",
   "execution_count": 30,
   "id": "f6272acc",
   "metadata": {},
   "outputs": [
    {
     "data": {
      "text/plain": [
       "1     b\n",
       "5     f\n",
       "15    p\n",
       "20    u\n",
       "25    z\n",
       "dtype: object"
      ]
     },
     "execution_count": 30,
     "metadata": {},
     "output_type": "execute_result"
    }
   ],
   "source": [
    "a.iloc[[1,5.10,15,20,25]]"
   ]
  },
  {
   "cell_type": "code",
   "execution_count": 31,
   "id": "ebbf12e8",
   "metadata": {},
   "outputs": [
    {
     "data": {
      "text/plain": [
       "5     f\n",
       "12    m\n",
       "19    t\n",
       "dtype: object"
      ]
     },
     "execution_count": 31,
     "metadata": {},
     "output_type": "execute_result"
    }
   ],
   "source": [
    "a.loc[lambda x: [5,12,19]]"
   ]
  },
  {
   "cell_type": "code",
   "execution_count": 33,
   "id": "e26cec98",
   "metadata": {},
   "outputs": [
    {
     "data": {
      "text/plain": [
       "0     a\n",
       "1     b\n",
       "2     c\n",
       "3     d\n",
       "4     e\n",
       "5     f\n",
       "6     g\n",
       "7     h\n",
       "8     i\n",
       "9     j\n",
       "10    k\n",
       "11    l\n",
       "12    m\n",
       "13    n\n",
       "14    o\n",
       "15    p\n",
       "16    q\n",
       "17    r\n",
       "18    s\n",
       "19    t\n",
       "20    u\n",
       "21    v\n",
       "22    w\n",
       "23    x\n",
       "24    y\n",
       "25    z\n",
       "dtype: object"
      ]
     },
     "execution_count": 33,
     "metadata": {},
     "output_type": "execute_result"
    }
   ],
   "source": [
    "a.loc[lambda x: [True for x in range(x.size)]]"
   ]
  },
  {
   "cell_type": "code",
   "execution_count": 34,
   "id": "1dd7432c",
   "metadata": {},
   "outputs": [
    {
     "data": {
      "text/plain": [
       "1     b\n",
       "3     d\n",
       "5     f\n",
       "7     h\n",
       "9     j\n",
       "11    l\n",
       "13    n\n",
       "15    p\n",
       "17    r\n",
       "19    t\n",
       "21    v\n",
       "23    x\n",
       "25    z\n",
       "dtype: object"
      ]
     },
     "execution_count": 34,
     "metadata": {},
     "output_type": "execute_result"
    }
   ],
   "source": [
    "a.loc[lambda x:[False if x%2 == 0 else True for x in range(x.size)]]"
   ]
  },
  {
   "cell_type": "code",
   "execution_count": 37,
   "id": "9905377f",
   "metadata": {},
   "outputs": [],
   "source": [
    "def evry_third(x):\n",
    "    return([True if i%3 ==0 else False for i in range(x.size)])"
   ]
  },
  {
   "cell_type": "code",
   "execution_count": 39,
   "id": "b2c6d045",
   "metadata": {},
   "outputs": [
    {
     "data": {
      "text/plain": [
       "0     a\n",
       "3     d\n",
       "6     g\n",
       "9     j\n",
       "12    m\n",
       "15    p\n",
       "18    s\n",
       "21    v\n",
       "24    y\n",
       "dtype: object"
      ]
     },
     "execution_count": 39,
     "metadata": {},
     "output_type": "execute_result"
    }
   ],
   "source": [
    "a.loc[evry_third]"
   ]
  },
  {
   "cell_type": "code",
   "execution_count": 47,
   "id": "8e66f281",
   "metadata": {},
   "outputs": [],
   "source": [
    "def every_fifth(x):\n",
    "    return([True if (i+1)%5 == 0 else False for i in range(x.size)])"
   ]
  },
  {
   "cell_type": "code",
   "execution_count": 48,
   "id": "149b7247",
   "metadata": {},
   "outputs": [
    {
     "data": {
      "text/plain": [
       "4     e\n",
       "9     j\n",
       "14    o\n",
       "19    t\n",
       "24    y\n",
       "dtype: object"
      ]
     },
     "execution_count": 48,
     "metadata": {},
     "output_type": "execute_result"
    }
   ],
   "source": [
    "a.loc[every_fifth]"
   ]
  },
  {
   "cell_type": "code",
   "execution_count": 50,
   "id": "fab5a11d",
   "metadata": {},
   "outputs": [
    {
     "data": {
      "text/plain": [
       "'p'"
      ]
     },
     "execution_count": 50,
     "metadata": {},
     "output_type": "execute_result"
    }
   ],
   "source": [
    "a.get(15)"
   ]
  },
  {
   "cell_type": "code",
   "execution_count": 51,
   "id": "97deb91d",
   "metadata": {},
   "outputs": [
    {
     "data": {
      "text/plain": [
       "'v'"
      ]
     },
     "execution_count": 51,
     "metadata": {},
     "output_type": "execute_result"
    }
   ],
   "source": [
    "ser1.get('label_V')"
   ]
  },
  {
   "cell_type": "code",
   "execution_count": 53,
   "id": "b36d1719",
   "metadata": {},
   "outputs": [
    {
     "data": {
      "text/plain": [
       "True"
      ]
     },
     "execution_count": 53,
     "metadata": {},
     "output_type": "execute_result"
    }
   ],
   "source": [
    "ser1.get('label_%') == None"
   ]
  },
  {
   "cell_type": "code",
   "execution_count": 54,
   "id": "7dad9544",
   "metadata": {},
   "outputs": [
    {
     "data": {
      "text/plain": [
       "'no items with such label found'"
      ]
     },
     "execution_count": 54,
     "metadata": {},
     "output_type": "execute_result"
    }
   ],
   "source": [
    "ser1.get('label_%',default = 'no items with such label found')"
   ]
  },
  {
   "cell_type": "code",
   "execution_count": 56,
   "id": "e983fd10",
   "metadata": {},
   "outputs": [
    {
     "data": {
      "text/plain": [
       "21"
      ]
     },
     "execution_count": 56,
     "metadata": {},
     "output_type": "execute_result"
    }
   ],
   "source": [
    "ser1.get('label_%', default = 21)"
   ]
  },
  {
   "cell_type": "code",
   "execution_count": 57,
   "id": "564fad5e",
   "metadata": {},
   "outputs": [
    {
     "data": {
      "text/plain": [
       "{21: 'tom'}"
      ]
     },
     "execution_count": 57,
     "metadata": {},
     "output_type": "execute_result"
    }
   ],
   "source": [
    "ser1.get('label_#',default = {21:\"tom\"})"
   ]
  },
  {
   "cell_type": "code",
   "execution_count": 65,
   "id": "746b91f1",
   "metadata": {},
   "outputs": [],
   "source": [
    "n_list = [i*i for i in range(100)]"
   ]
  },
  {
   "cell_type": "code",
   "execution_count": 67,
   "id": "ca9ae81c",
   "metadata": {},
   "outputs": [],
   "source": [
    "n_ser = pd.Series(n_list)"
   ]
  },
  {
   "cell_type": "code",
   "execution_count": 68,
   "id": "224d901a",
   "metadata": {},
   "outputs": [
    {
     "data": {
      "text/plain": [
       "0        0\n",
       "1        1\n",
       "2        4\n",
       "3        9\n",
       "4       16\n",
       "      ... \n",
       "95    9025\n",
       "96    9216\n",
       "97    9409\n",
       "98    9604\n",
       "99    9801\n",
       "Length: 100, dtype: int64"
      ]
     },
     "execution_count": 68,
     "metadata": {},
     "output_type": "execute_result"
    }
   ],
   "source": [
    "n_ser"
   ]
  },
  {
   "cell_type": "code",
   "execution_count": 72,
   "id": "4c291e5d",
   "metadata": {},
   "outputs": [],
   "source": [
    "a = n_ser.tail(3)"
   ]
  },
  {
   "cell_type": "code",
   "execution_count": 73,
   "id": "77cb0817",
   "metadata": {},
   "outputs": [],
   "source": [
    "b = n_ser[-3:]"
   ]
  },
  {
   "cell_type": "code",
   "execution_count": 75,
   "id": "26f03dfb",
   "metadata": {},
   "outputs": [
    {
     "data": {
      "text/plain": [
       "True"
      ]
     },
     "execution_count": 75,
     "metadata": {},
     "output_type": "execute_result"
    }
   ],
   "source": [
    "a.equals(b)"
   ]
  },
  {
   "cell_type": "code",
   "execution_count": 77,
   "id": "7735792b",
   "metadata": {
    "scrolled": true
   },
   "outputs": [
    {
     "data": {
      "text/html": [
       "<div>\n",
       "<style scoped>\n",
       "    .dataframe tbody tr th:only-of-type {\n",
       "        vertical-align: middle;\n",
       "    }\n",
       "\n",
       "    .dataframe tbody tr th {\n",
       "        vertical-align: top;\n",
       "    }\n",
       "\n",
       "    .dataframe thead th {\n",
       "        text-align: right;\n",
       "    }\n",
       "</style>\n",
       "<table border=\"1\" class=\"dataframe\">\n",
       "  <thead>\n",
       "    <tr style=\"text-align: right;\">\n",
       "      <th></th>\n",
       "      <th>Unnamed: 0</th>\n",
       "      <th>Link</th>\n",
       "      <th>Job Title</th>\n",
       "      <th>Company Name</th>\n",
       "      <th>Experience</th>\n",
       "      <th>Salary</th>\n",
       "      <th>Description</th>\n",
       "      <th>Skills Required</th>\n",
       "    </tr>\n",
       "  </thead>\n",
       "  <tbody>\n",
       "    <tr>\n",
       "      <th>0</th>\n",
       "      <td>0</td>\n",
       "      <td>https://www.naukri.com/job-listings-image-proc...</td>\n",
       "      <td>Image Processing ML/AI Engineer (immediate joi...</td>\n",
       "      <td>KSPOTFI SYSTEMS INDIA PRIVATE LIMITED</td>\n",
       "      <td>2-5 Yrs</td>\n",
       "      <td>10,00,000 - 20,00,000 PA.</td>\n",
       "      <td>Kloudspot is looking for a passionate individ...</td>\n",
       "      <td>['Image Processing', 'OpenVino', 'Computer Vis...</td>\n",
       "    </tr>\n",
       "    <tr>\n",
       "      <th>1</th>\n",
       "      <td>1</td>\n",
       "      <td>https://www.naukri.com/job-listings-hcl-hiring...</td>\n",
       "      <td>HCL - Hiring For Image Processing / Computer V...</td>\n",
       "      <td>HCL Technologies</td>\n",
       "      <td>4-9 Yrs</td>\n",
       "      <td>8,00,000 - 18,00,000 PA.</td>\n",
       "      <td>Strong experience of C++ programming language...</td>\n",
       "      <td>['image processing', 'c++', 'computer vision',...</td>\n",
       "    </tr>\n",
       "    <tr>\n",
       "      <th>2</th>\n",
       "      <td>2</td>\n",
       "      <td>https://www.naukri.com/job-listings-r-d-engine...</td>\n",
       "      <td>R&amp;D Engineer- Image Processing,</td>\n",
       "      <td>BPL Medical Technologies Pvt. Ltd.</td>\n",
       "      <td>4-5 Yrs</td>\n",
       "      <td>5,00,000 - 8,00,000 PA.</td>\n",
       "      <td>5 experience in image processing for Xray &amp; CArm</td>\n",
       "      <td>['C#', 'QT', 'UI', 'Dev', 'VC++', 'Image Proce...</td>\n",
       "    </tr>\n",
       "    <tr>\n",
       "      <th>3</th>\n",
       "      <td>3</td>\n",
       "      <td>https://www.naukri.com/job-listings-principal-...</td>\n",
       "      <td>Principal Software Engineer - Image Processing</td>\n",
       "      <td>MANEVA CONSULTING PRIVATE LIMITED</td>\n",
       "      <td>15-19 Yrs</td>\n",
       "      <td>Not disclosed</td>\n",
       "      <td>Roles and Responsibilities C++ application de...</td>\n",
       "      <td>['image processing', 'radiology', 'ultrasound'...</td>\n",
       "    </tr>\n",
       "    <tr>\n",
       "      <th>4</th>\n",
       "      <td>4</td>\n",
       "      <td>https://www.naukri.com/job-listings-research-e...</td>\n",
       "      <td>Research Engineer - Image Processing</td>\n",
       "      <td>Jekson Vision Pvt Ltd</td>\n",
       "      <td>2-7 Yrs</td>\n",
       "      <td>Not disclosed</td>\n",
       "      <td>Must have analytical skills and Quick learner...</td>\n",
       "      <td>['C++', 'Multithreading', 'Image Processing', ...</td>\n",
       "    </tr>\n",
       "    <tr>\n",
       "      <th>...</th>\n",
       "      <td>...</td>\n",
       "      <td>...</td>\n",
       "      <td>...</td>\n",
       "      <td>...</td>\n",
       "      <td>...</td>\n",
       "      <td>...</td>\n",
       "      <td>...</td>\n",
       "      <td>...</td>\n",
       "    </tr>\n",
       "    <tr>\n",
       "      <th>95</th>\n",
       "      <td>95</td>\n",
       "      <td>https://www.naukri.com/job-listings-ai-ml-dl-c...</td>\n",
       "      <td>AI/ML/DL/ Computer vision Solution Architect</td>\n",
       "      <td>Cyient</td>\n",
       "      <td>12-15 Yrs</td>\n",
       "      <td>Not disclosed</td>\n",
       "      <td>Good experience in Data modelling and mining ...</td>\n",
       "      <td>['Computer science', 'Semiconductor', 'jQuery'...</td>\n",
       "    </tr>\n",
       "    <tr>\n",
       "      <th>96</th>\n",
       "      <td>96</td>\n",
       "      <td>https://www.naukri.com/job-listings-engineerin...</td>\n",
       "      <td>ENGINEERING INTERN</td>\n",
       "      <td>Farmizen</td>\n",
       "      <td>0-1 Yrs</td>\n",
       "      <td>Not disclosed</td>\n",
       "      <td>This is a 3-6 month long internship you will ...</td>\n",
       "      <td>['github', 'farm management', 'Image processin...</td>\n",
       "    </tr>\n",
       "    <tr>\n",
       "      <th>97</th>\n",
       "      <td>97</td>\n",
       "      <td>https://www.naukri.com/job-listings-engineerin...</td>\n",
       "      <td>Engineering Manager - AI</td>\n",
       "      <td>HyperVerge, Inc.</td>\n",
       "      <td>3-6 Yrs</td>\n",
       "      <td>Not disclosed</td>\n",
       "      <td>Interfacing with the customer, business team ...</td>\n",
       "      <td>['IT Skills', 'Python', 'Testing', 'Machine Le...</td>\n",
       "    </tr>\n",
       "    <tr>\n",
       "      <th>98</th>\n",
       "      <td>98</td>\n",
       "      <td>https://www.naukri.com/job-listings-engineerin...</td>\n",
       "      <td>ENGINEERING INTERN</td>\n",
       "      <td>Farmizen</td>\n",
       "      <td>0-2 Yrs</td>\n",
       "      <td>Not disclosed</td>\n",
       "      <td>This is a 3-6 month long internship you will ...</td>\n",
       "      <td>['github', 'farm management', 'Image processin...</td>\n",
       "    </tr>\n",
       "    <tr>\n",
       "      <th>99</th>\n",
       "      <td>99</td>\n",
       "      <td>https://www.naukri.com/job-listings-deep-learn...</td>\n",
       "      <td>Deep Learning Engineer</td>\n",
       "      <td>Simple Intelligence</td>\n",
       "      <td>0-2 Yrs</td>\n",
       "      <td>16,00,000 - 17,00,000 PA.</td>\n",
       "      <td>Degree in Computer Science, Robotics, Physics...</td>\n",
       "      <td>['python', 'IT Skills', 'Machine Learning', 'i...</td>\n",
       "    </tr>\n",
       "  </tbody>\n",
       "</table>\n",
       "<p>100 rows × 8 columns</p>\n",
       "</div>"
      ],
      "text/plain": [
       "    Unnamed: 0                                               Link  \\\n",
       "0            0  https://www.naukri.com/job-listings-image-proc...   \n",
       "1            1  https://www.naukri.com/job-listings-hcl-hiring...   \n",
       "2            2  https://www.naukri.com/job-listings-r-d-engine...   \n",
       "3            3  https://www.naukri.com/job-listings-principal-...   \n",
       "4            4  https://www.naukri.com/job-listings-research-e...   \n",
       "..         ...                                                ...   \n",
       "95          95  https://www.naukri.com/job-listings-ai-ml-dl-c...   \n",
       "96          96  https://www.naukri.com/job-listings-engineerin...   \n",
       "97          97  https://www.naukri.com/job-listings-engineerin...   \n",
       "98          98  https://www.naukri.com/job-listings-engineerin...   \n",
       "99          99  https://www.naukri.com/job-listings-deep-learn...   \n",
       "\n",
       "                                            Job Title  \\\n",
       "0   Image Processing ML/AI Engineer (immediate joi...   \n",
       "1   HCL - Hiring For Image Processing / Computer V...   \n",
       "2                     R&D Engineer- Image Processing,   \n",
       "3      Principal Software Engineer - Image Processing   \n",
       "4                Research Engineer - Image Processing   \n",
       "..                                                ...   \n",
       "95       AI/ML/DL/ Computer vision Solution Architect   \n",
       "96                                 ENGINEERING INTERN   \n",
       "97                           Engineering Manager - AI   \n",
       "98                                 ENGINEERING INTERN   \n",
       "99                             Deep Learning Engineer   \n",
       "\n",
       "                             Company Name Experience  \\\n",
       "0   KSPOTFI SYSTEMS INDIA PRIVATE LIMITED    2-5 Yrs   \n",
       "1                        HCL Technologies    4-9 Yrs   \n",
       "2      BPL Medical Technologies Pvt. Ltd.    4-5 Yrs   \n",
       "3      MANEVA CONSULTING PRIVATE LIMITED   15-19 Yrs   \n",
       "4                   Jekson Vision Pvt Ltd    2-7 Yrs   \n",
       "..                                    ...        ...   \n",
       "95                                 Cyient  12-15 Yrs   \n",
       "96                               Farmizen    0-1 Yrs   \n",
       "97                       HyperVerge, Inc.    3-6 Yrs   \n",
       "98                               Farmizen    0-2 Yrs   \n",
       "99                    Simple Intelligence    0-2 Yrs   \n",
       "\n",
       "                       Salary  \\\n",
       "0   10,00,000 - 20,00,000 PA.   \n",
       "1    8,00,000 - 18,00,000 PA.   \n",
       "2     5,00,000 - 8,00,000 PA.   \n",
       "3               Not disclosed   \n",
       "4               Not disclosed   \n",
       "..                        ...   \n",
       "95              Not disclosed   \n",
       "96              Not disclosed   \n",
       "97              Not disclosed   \n",
       "98              Not disclosed   \n",
       "99  16,00,000 - 17,00,000 PA.   \n",
       "\n",
       "                                          Description  \\\n",
       "0    Kloudspot is looking for a passionate individ...   \n",
       "1    Strong experience of C++ programming language...   \n",
       "2    5 experience in image processing for Xray & CArm   \n",
       "3    Roles and Responsibilities C++ application de...   \n",
       "4    Must have analytical skills and Quick learner...   \n",
       "..                                                ...   \n",
       "95   Good experience in Data modelling and mining ...   \n",
       "96   This is a 3-6 month long internship you will ...   \n",
       "97   Interfacing with the customer, business team ...   \n",
       "98   This is a 3-6 month long internship you will ...   \n",
       "99   Degree in Computer Science, Robotics, Physics...   \n",
       "\n",
       "                                      Skills Required  \n",
       "0   ['Image Processing', 'OpenVino', 'Computer Vis...  \n",
       "1   ['image processing', 'c++', 'computer vision',...  \n",
       "2   ['C#', 'QT', 'UI', 'Dev', 'VC++', 'Image Proce...  \n",
       "3   ['image processing', 'radiology', 'ultrasound'...  \n",
       "4   ['C++', 'Multithreading', 'Image Processing', ...  \n",
       "..                                                ...  \n",
       "95  ['Computer science', 'Semiconductor', 'jQuery'...  \n",
       "96  ['github', 'farm management', 'Image processin...  \n",
       "97  ['IT Skills', 'Python', 'Testing', 'Machine Le...  \n",
       "98  ['github', 'farm management', 'Image processin...  \n",
       "99  ['python', 'IT Skills', 'Machine Learning', 'i...  \n",
       "\n",
       "[100 rows x 8 columns]"
      ]
     },
     "execution_count": 77,
     "metadata": {},
     "output_type": "execute_result"
    }
   ],
   "source": [
    "pd.read_csv(\"C:/Users/rajen/OneDrive/Desktop/webScraping/naukri_job_search_image_processing.csv\")"
   ]
  },
  {
   "cell_type": "code",
   "execution_count": 85,
   "id": "fe4ad387",
   "metadata": {},
   "outputs": [],
   "source": [
    "df = pd.read_csv(\"C:/Users/rajen/OneDrive/Desktop/webScraping/naukri_job_search_image_processing.csv\")"
   ]
  },
  {
   "cell_type": "code",
   "execution_count": 86,
   "id": "dbef4f64",
   "metadata": {},
   "outputs": [
    {
     "data": {
      "text/html": [
       "<div>\n",
       "<style scoped>\n",
       "    .dataframe tbody tr th:only-of-type {\n",
       "        vertical-align: middle;\n",
       "    }\n",
       "\n",
       "    .dataframe tbody tr th {\n",
       "        vertical-align: top;\n",
       "    }\n",
       "\n",
       "    .dataframe thead th {\n",
       "        text-align: right;\n",
       "    }\n",
       "</style>\n",
       "<table border=\"1\" class=\"dataframe\">\n",
       "  <thead>\n",
       "    <tr style=\"text-align: right;\">\n",
       "      <th></th>\n",
       "      <th>Unnamed: 0</th>\n",
       "      <th>Link</th>\n",
       "      <th>Job Title</th>\n",
       "      <th>Company Name</th>\n",
       "      <th>Experience</th>\n",
       "      <th>Salary</th>\n",
       "      <th>Description</th>\n",
       "      <th>Skills Required</th>\n",
       "    </tr>\n",
       "  </thead>\n",
       "  <tbody>\n",
       "    <tr>\n",
       "      <th>97</th>\n",
       "      <td>97</td>\n",
       "      <td>https://www.naukri.com/job-listings-engineerin...</td>\n",
       "      <td>Engineering Manager - AI</td>\n",
       "      <td>HyperVerge, Inc.</td>\n",
       "      <td>3-6 Yrs</td>\n",
       "      <td>Not disclosed</td>\n",
       "      <td>Interfacing with the customer, business team ...</td>\n",
       "      <td>['IT Skills', 'Python', 'Testing', 'Machine Le...</td>\n",
       "    </tr>\n",
       "    <tr>\n",
       "      <th>98</th>\n",
       "      <td>98</td>\n",
       "      <td>https://www.naukri.com/job-listings-engineerin...</td>\n",
       "      <td>ENGINEERING INTERN</td>\n",
       "      <td>Farmizen</td>\n",
       "      <td>0-2 Yrs</td>\n",
       "      <td>Not disclosed</td>\n",
       "      <td>This is a 3-6 month long internship you will ...</td>\n",
       "      <td>['github', 'farm management', 'Image processin...</td>\n",
       "    </tr>\n",
       "    <tr>\n",
       "      <th>99</th>\n",
       "      <td>99</td>\n",
       "      <td>https://www.naukri.com/job-listings-deep-learn...</td>\n",
       "      <td>Deep Learning Engineer</td>\n",
       "      <td>Simple Intelligence</td>\n",
       "      <td>0-2 Yrs</td>\n",
       "      <td>16,00,000 - 17,00,000 PA.</td>\n",
       "      <td>Degree in Computer Science, Robotics, Physics...</td>\n",
       "      <td>['python', 'IT Skills', 'Machine Learning', 'i...</td>\n",
       "    </tr>\n",
       "  </tbody>\n",
       "</table>\n",
       "</div>"
      ],
      "text/plain": [
       "    Unnamed: 0                                               Link  \\\n",
       "97          97  https://www.naukri.com/job-listings-engineerin...   \n",
       "98          98  https://www.naukri.com/job-listings-engineerin...   \n",
       "99          99  https://www.naukri.com/job-listings-deep-learn...   \n",
       "\n",
       "                   Job Title         Company Name Experience  \\\n",
       "97  Engineering Manager - AI     HyperVerge, Inc.    3-6 Yrs   \n",
       "98        ENGINEERING INTERN             Farmizen    0-2 Yrs   \n",
       "99    Deep Learning Engineer  Simple Intelligence    0-2 Yrs   \n",
       "\n",
       "                       Salary  \\\n",
       "97              Not disclosed   \n",
       "98              Not disclosed   \n",
       "99  16,00,000 - 17,00,000 PA.   \n",
       "\n",
       "                                          Description  \\\n",
       "97   Interfacing with the customer, business team ...   \n",
       "98   This is a 3-6 month long internship you will ...   \n",
       "99   Degree in Computer Science, Robotics, Physics...   \n",
       "\n",
       "                                      Skills Required  \n",
       "97  ['IT Skills', 'Python', 'Testing', 'Machine Le...  \n",
       "98  ['github', 'farm management', 'Image processin...  \n",
       "99  ['python', 'IT Skills', 'Machine Learning', 'i...  "
      ]
     },
     "execution_count": 86,
     "metadata": {},
     "output_type": "execute_result"
    }
   ],
   "source": [
    "df.tail(3)"
   ]
  },
  {
   "cell_type": "code",
   "execution_count": 81,
   "id": "8bb64ec7",
   "metadata": {},
   "outputs": [
    {
     "data": {
      "text/html": [
       "<div>\n",
       "<style scoped>\n",
       "    .dataframe tbody tr th:only-of-type {\n",
       "        vertical-align: middle;\n",
       "    }\n",
       "\n",
       "    .dataframe tbody tr th {\n",
       "        vertical-align: top;\n",
       "    }\n",
       "\n",
       "    .dataframe thead th {\n",
       "        text-align: right;\n",
       "    }\n",
       "</style>\n",
       "<table border=\"1\" class=\"dataframe\">\n",
       "  <thead>\n",
       "    <tr style=\"text-align: right;\">\n",
       "      <th></th>\n",
       "      <th>Salary</th>\n",
       "      <th>Experience</th>\n",
       "      <th>Description</th>\n",
       "      <th>Job Title</th>\n",
       "    </tr>\n",
       "  </thead>\n",
       "  <tbody>\n",
       "    <tr>\n",
       "      <th>1</th>\n",
       "      <td>8,00,000 - 18,00,000 PA.</td>\n",
       "      <td>4-9 Yrs</td>\n",
       "      <td>Strong experience of C++ programming language...</td>\n",
       "      <td>HCL - Hiring For Image Processing / Computer V...</td>\n",
       "    </tr>\n",
       "    <tr>\n",
       "      <th>5</th>\n",
       "      <td>50,000 - 1,00,000 PA.</td>\n",
       "      <td>0-0 Yrs</td>\n",
       "      <td>Great opportunity to fresher who are looking ...</td>\n",
       "      <td>image processing</td>\n",
       "    </tr>\n",
       "    <tr>\n",
       "      <th>6</th>\n",
       "      <td>50,000 - 1,25,000 PA.</td>\n",
       "      <td>0-0 Yrs</td>\n",
       "      <td>Great opportunity to fresher who are looking ...</td>\n",
       "      <td>Image processing</td>\n",
       "    </tr>\n",
       "    <tr>\n",
       "      <th>7</th>\n",
       "      <td>Not disclosed</td>\n",
       "      <td>3-8 Yrs</td>\n",
       "      <td>Hand experience with machine learning techniq...</td>\n",
       "      <td>Computer Vision Engineer - Image Processing</td>\n",
       "    </tr>\n",
       "  </tbody>\n",
       "</table>\n",
       "</div>"
      ],
      "text/plain": [
       "                     Salary Experience  \\\n",
       "1  8,00,000 - 18,00,000 PA.    4-9 Yrs   \n",
       "5     50,000 - 1,00,000 PA.    0-0 Yrs   \n",
       "6     50,000 - 1,25,000 PA.    0-0 Yrs   \n",
       "7             Not disclosed    3-8 Yrs   \n",
       "\n",
       "                                         Description  \\\n",
       "1   Strong experience of C++ programming language...   \n",
       "5   Great opportunity to fresher who are looking ...   \n",
       "6   Great opportunity to fresher who are looking ...   \n",
       "7   Hand experience with machine learning techniq...   \n",
       "\n",
       "                                           Job Title  \n",
       "1  HCL - Hiring For Image Processing / Computer V...  \n",
       "5                                   image processing  \n",
       "6                                   Image processing  \n",
       "7        Computer Vision Engineer - Image Processing  "
      ]
     },
     "execution_count": 81,
     "metadata": {},
     "output_type": "execute_result"
    }
   ],
   "source": [
    "df.iloc[[1,5,6,7],[5,4,6,2]]"
   ]
  },
  {
   "cell_type": "code",
   "execution_count": 114,
   "id": "d6ca20c4",
   "metadata": {},
   "outputs": [],
   "source": [
    "df1 = pd.read_csv(\"C:/Users/rajen/OneDrive/Desktop/webScraping/naukri_job_search_image_processing.csv\",usecols = ['Job Title','Skills Required'],index_col = 'Job Title')"
   ]
  },
  {
   "cell_type": "code",
   "execution_count": 115,
   "id": "662e3cc2",
   "metadata": {},
   "outputs": [],
   "source": [
    "d = df1.squeeze()"
   ]
  },
  {
   "cell_type": "code",
   "execution_count": 116,
   "id": "81b768e1",
   "metadata": {},
   "outputs": [
    {
     "data": {
      "text/plain": [
       "Job Title\n",
       "Image Processing ML/AI Engineer (immediate joining)    ['Image Processing', 'OpenVino', 'Computer Vis...\n",
       "HCL - Hiring For Image Processing / Computer Vision    ['image processing', 'c++', 'computer vision',...\n",
       "R&D Engineer- Image Processing,                        ['C#', 'QT', 'UI', 'Dev', 'VC++', 'Image Proce...\n",
       "Principal Software Engineer - Image Processing         ['image processing', 'radiology', 'ultrasound'...\n",
       "Research Engineer - Image Processing                   ['C++', 'Multithreading', 'Image Processing', ...\n",
       "Name: Skills Required, dtype: object"
      ]
     },
     "execution_count": 116,
     "metadata": {},
     "output_type": "execute_result"
    }
   ],
   "source": [
    "d.head(5)"
   ]
  },
  {
   "cell_type": "code",
   "execution_count": 112,
   "id": "edff9ebc",
   "metadata": {},
   "outputs": [
    {
     "data": {
      "text/plain": [
       "pandas.core.series.Series"
      ]
     },
     "execution_count": 112,
     "metadata": {},
     "output_type": "execute_result"
    }
   ],
   "source": [
    "type(d)"
   ]
  },
  {
   "cell_type": "code",
   "execution_count": 117,
   "id": "ba2ed4a2",
   "metadata": {},
   "outputs": [
    {
     "data": {
      "text/plain": [
       "100"
      ]
     },
     "execution_count": 117,
     "metadata": {},
     "output_type": "execute_result"
    }
   ],
   "source": [
    "d.size"
   ]
  },
  {
   "cell_type": "code",
   "execution_count": 118,
   "id": "08c6d89c",
   "metadata": {},
   "outputs": [
    {
     "data": {
      "text/plain": [
       "array([\"['Image Processing', 'OpenVino', 'Computer Vision', 'OpenCV CUDA', 'Caffe', 'Tensorflow', 'AI programming', 'Reinforcement Learning']\",\n",
       "       \"['image processing', 'c++', 'computer vision', 'DNN', 'Simulink', 'C++ programming', 'Matlab', 'IT Skills']\",\n",
       "       \"['C#', 'QT', 'UI', 'Dev', 'VC++', 'Image Processing', '.NET Framework']\",\n",
       "       \"['image processing', 'radiology', 'ultrasound', 'CT Scan', 'application development', 'Medical Image', 'X - Ray', 'Image rendering']\",\n",
       "       \"['C++', 'Multithreading', 'Image Processing', 'Computer Vision', 'OpenCV', 'QT', 'MATLAB', 'Python']\",\n",
       "       \"['computer skills', 'Telugu', 'image processing']\",\n",
       "       \"['computer skills', 'Telugu', 'image processing']\",\n",
       "       \"['Image Processing', 'GCP', 'Java', 'RNN', 'Pytorch Keras', 'DNN', 'AIML', 'Azure']\",\n",
       "       \"['Predictive Modeling', 'Data Science', 'Data Scientist', 'Time Series Analysis', 'Image Processing', 'Data Management', 'Machine Learning', 'Predictive Analytics']\",\n",
       "       \"['Predictive Modeling', 'Data Science', 'Data Scientist', 'Time Series Analysis', 'Image Processing', 'Data Management', 'Statistical Analyst', 'Machine Learning']\",\n",
       "       \"['Wireless', 'Computer vision', 'C++', 'Software design', 'Linux', 'Image processing', 'Configuration management', 'Debugging']\",\n",
       "       \"['Wireless', 'Computer science', 'C++', 'Software design', 'Linux', 'Image processing', 'Debugging', 'SDLC']\",\n",
       "       \"['Medical Image Processing', 'DSP', 'C++', 'OpenCV', 'Image Processing', 'OOAD', 'MATLAB', 'Algorithm']\",\n",
       "       \"['MATLAB', 'DSP', 'C++', 'OpenCV', 'Image Processing', 'OOAD', 'Algorithm']\",\n",
       "       \"['C++', 'Image processing', 'Analytical', 'Debugging', 'Android']\",\n",
       "       \"['C++', 'Image processing', 'Machine learning', 'Javascript', 'Data structures', 'HTML', 'Perl', 'HTTP']\",\n",
       "       \"['Image Processing', 'Matlab programming', 'CC++ programming', 'ARM assembly programming', 'OpenCV', 'IT Skills', 'Machine Learning', 'Java']\",\n",
       "       \"['C++', 'QT', 'Opencv', 'Computer Vision', 'Machine Learning', 'Python', 'analytical', 'Deep Learning architecture']\",\n",
       "       \"['C++', 'QT', 'Opencv', 'Computer Vision', 'Machine Learning', 'Python', 'analytical', 'Deep Learning architecture']\",\n",
       "       \"['C++ Programming', 'Django', 'Linux', 'Cloud', 'Machine Vision Camera', 'OpenCV', 'Python', 'TensorFlow']\",\n",
       "       \"['image processing', 'algorithms', 'software development', 'sensors', 'quality control', 'computer vision', 'robotics', 'calibration']\",\n",
       "       \"['Computer science', 'Electrical engineering', 'Analytical skills', 'Computer vision', '3D', 'Image processing', 'Manager Quality Control', 'Sensors']\",\n",
       "       \"['Supply chain', 'Computer vision', 'C++', 'Incharge', 'Image processing', 'Machine learning', 'Opengl', 'Open source']\",\n",
       "       \"['algorithms', 'strong', 'software development', 'c net', 'sensors', 'quality control', 'communications skills', 'robotics']\",\n",
       "       \"['algorithms', 'strong', 'software development', 'c net', 'sensors', 'quality control', 'communications skills', 'robotics']\",\n",
       "       \"['Image Processing', 'Pattern Recognition', 'analysis', 'Biometrics', '3D', 'Speech Recognition', '2D', 'C++']\",\n",
       "       \"['Image Processing', 'Technical Architect', 'Biometrics', '3D', 'Speech Recognition', '2D', 'C++', 'C']\",\n",
       "       \"['C++', 'Opencv', 'Python', 'UI application development', 'Image processing', 'IT Skills', 'Testing', 'Algorithm Development']\",\n",
       "       \"['Image Processing', 'Machine Learning', 'C Sharp', 'C Plus Plus', 'MFC']\",\n",
       "       \"['C++', 'Image Processing', 'Cloud Computing', 'Microsoft Teach Stack', 'IT Skills', 'Cloud', 'Algorithm Development', 'Opencv']\",\n",
       "       \"['image processing', 'c++', 'c', 'algorithm development', 'machine learning', 'Linux Driver', 'python', 'Bash Scripting']\",\n",
       "       \"['Image processing', 'Machine Vision', 'Image Processing Engineer']\",\n",
       "       \"['HVX', 'SIMD', 'Analytical', 'C++', 'Image processing', 'Debugging', 'Android']\",\n",
       "       \"['C++', 'Biomedical ImageSignal Processing', 'Algorithms', 'OpenGL', 'C', 'ITK', 'UI Development', 'Image Processing']\",\n",
       "       \"['Image Processing', 'Pattern Recognition', 'Finger Vein', 'IRIS', 'Technical Architect', 'Biometrics', 'Bioinformatics', 'Sensor']\",\n",
       "       \"['Image Processing', '3D', 'C++', 'OpenCV', 'OOPS', 'Medical Imaging', 'MATLAB', 'GPU']\",\n",
       "       \"['ETL', 'ARM', 'x86', 'Python', 'CUDA', 'IT Skills', 'Machine Learning', 'Computer science']\",\n",
       "       \"['software architecture', 'C++', 'Software design', 'Image processing', 'GIMP', 'Opencv', 'Machine learning', 'Programming']\",\n",
       "       \"['PHP', 'Machine Vision Camera', 'Python', 'C++ Programming', 'TensorFlow', 'Django', 'Cloud', 'Linux']\",\n",
       "       \"['C++', 'Linux', 'Image processing', 'Analytical', 'PAAS', 'Machine learning', 'Windows', 'microsoft']\",\n",
       "       \"['Image processing C/C++', 'deep Learning', 'C / C++', 'Python', 'OpenCV', 'IT Skills', 'Image processing', 'pyhton']\",\n",
       "       \"['Video Processing', 'Video Streaming', 'OpenCV', 'Image Processing', 'OpenGL', 'RTL', 'GPU', 'RTL Design']\",\n",
       "       \"['Image Processing', 'Technical Architect', 'Video Streaming', 'Hardware Design', 'OpenCV', 'OpenGL', 'RTL', 'GPU']\",\n",
       "       \"['Image processing', 'Renewable energy', 'cyber security', 'Network security', 'Data mining', 'Robotics', 'Electricals']\",\n",
       "       \"['pipeline', 'image processing', 'algorithms', 'multimedia framework', 'sensors', 'design', 'computer vision', 'csi']\",\n",
       "       \"['pipeline', 'image processing', 'algorithms', 'rtl design', 'unit', 'computer vision', 'video', 'opengl']\",\n",
       "       \"['Pattern Recognition', 'Image Processing', 'Image Analysis', 'C', '3D', 'Speech Recognition', '2D', 'C++']\",\n",
       "       \"['written', 'Python', 'Text Search', 'C / C++', 'verbal communication', 'QGIS', 'OpenCV', 'KNN']\",\n",
       "       \"['Product management', 'Computer vision', 'C', 'Architecture', 'Image processing', 'Machine learning', 'Metrology', 'Algorithm development']\",\n",
       "       \"['Photography', 'Electrical engineering', 'RTL design', 'Computer vision', 'Opencv', 'Opengl', 'H264', 'augmented reality']\",\n",
       "       \"['Counselor', 'Mentor', 'Trainer', 'Advisor', 'Educator', 'Teaching']\",\n",
       "       \"['Counselor', 'Mentor', 'Trainer', 'Advisor', 'Educator', 'Teaching']\",\n",
       "       \"['Counselor', 'Mentor', 'Trainer', 'Advisor', 'Educator', 'Teaching']\",\n",
       "       \"['Counselor', 'Mentor', 'Trainer', 'Advisor', 'Educator', 'Teaching']\",\n",
       "       \"['R&D', 'Biometric', 'Image Processing', 'Pattern Recognition', 'Finger Vein', 'IRIS', 'Technical Architect', 'R&D Architect']\",\n",
       "       \"['C++', 'Image Processing', 'VTK', 'Medical Image Processing', 'Algorithms', 'QT', 'Boost', 'Data Analytics']\",\n",
       "       \"['C++', 'Linux', 'Image processing', 'Analytical', 'PAAS', 'Machine learning', 'Windows', 'microsoft']\",\n",
       "       \"['assembly language', 'Six Sigma', 'PMP', 'C', 'JavaScript', 'Real Time Operating Systems', '.NET', 'HTML']\",\n",
       "       '[\\'Artificial Intelligence\\', \\'Cloud services\\', \\'Computer Vision\\', \\'Machine Learning\\', \\'bitbucket\\', \"API\\'s\", \\'Image Processing\\', \\'RCNN\\']',\n",
       "       \"['IT Skills', 'Python', 'Machine Learning', 'Cloud', 'Image Processing']\",\n",
       "       \"['Video Processing', 'Image Processing', 'Sensor Technologies', 'Computational Photography', 'Codec design', '3D technologies', 'Algorithms', 'GPGPU']\",\n",
       "       '[]',\n",
       "       \"['DSP', 'C', 'Computer Vision', 'Embedded System', 'image processing', 'C++', 'SoC', 'Camera Driver']\",\n",
       "       \"['C#', 'C++', 'Image Processing', 'Semiconductor', 'Software Development', 'Python']\",\n",
       "       \"['Image processing', 'Staffing', 'MSM', 'Debugging', 'Machine learning', 'Signal processing', 'JPEG', 'Middleware']\",\n",
       "       \"['Deep Learning', 'Machine Learning', 'PyTorch', 'written', 'communications', 'Linux', 'TensorFlow', 'multi - threaded programming']\",\n",
       "       \"['Open Source', 'Computer Vision', 'Python', 'IT Skills', 'Machine Learning', 'C++', 'C', 'OpenCV']\",\n",
       "       \"['Computer vision', 'Interpersonal skills', 'Image processing', 'Analytical', 'Machine learning', 'Algorithm development', 'MATLAB', 'Automotive']\",\n",
       "       \"['Embedded C++', 'Image Processing', 'Artificial Intelligence', 'Machine Learning', 'matlab', 'signal processing', 'Medical Imaging', 'biomedical']\",\n",
       "       \"['Tensorflow', 'Pytorch', 'Computer Vision', 'artificial intelligence', 'Python', 'ML', 'AI Infrastructure', 'Optimisation']\",\n",
       "       \"['Mining', 'Computer vision', 'Prototype', 'Image processing', 'cyber security', 'Industrial automation', 'Cloud', 'Agile']\",\n",
       "       \"['Computer science', 'Automation', 'Prototype', 'Simulation', 'Image processing', 'Aerospace', 'Industrial products', 'Machine learning']\",\n",
       "       \"['Computer science', 'Software design', 'Image processing', 'Assembly language', 'Analytical', 'Automotive', 'Analytics', 'Embedded software']\",\n",
       "       \"['Wireless', 'Computer science', 'Computer vision', 'Testing tools', 'Staffing', 'Data structures', 'Apache', 'Ruby']\",\n",
       "       \"['deep learning', 'Computer vision', 'C++', 'Image processing', 'Opencv', 'Programming', 'Research', 'Python']\",\n",
       "       \"['Mining', 'Computer vision', 'Prototype', 'Image processing', 'cyber security', 'Industrial automation', 'Cloud', 'Agile']\",\n",
       "       \"['DSP', 'Computer vision', 'Linux', 'Software development', 'Image processing', 'Staffing', 'Analytical', 'Packaging']\",\n",
       "       \"['Unix', 'Wireless', 'Computer science', 'Computer vision', 'Data analysis', 'Linux', 'Image processing', 'Digital signal processing']\",\n",
       "       \"['NLP', 'Python', 'Flask', 'AWSAZURE', 'OCR Tesseract', 'Kubernetes', 'Linux shell scripting', 'Image Processing']\",\n",
       "       \"['python', 'image processing', 'deep learning', 'cuda', 'cnn', 'linux', 'office skills', 'opencv']\",\n",
       "       \"['Excel', 'Object Detection', 'Cnn', 'Image Segmentation', 'Transforms', 'Neural Networks', 'Object Classification', 'ResNet']\",\n",
       "       \"['analysis', 'ArcGIS', 'GIS', 'Image Processing technique', 'Geo-spatial Mapping', 'QGis', 'Research work', 'Digitization']\",\n",
       "       \"['Automation', 'C++', 'Prototype', 'Image processing', 'Chip design', 'Process control', 'Packaging', 'Application development']\",\n",
       "       \"['Counselor', 'Mentor', 'Trainer', 'Advisor', 'Educator', 'Teaching']\",\n",
       "       \"['Counselor', 'Mentor', 'Trainer', 'Advisor', 'Educator', 'Teaching']\",\n",
       "       \"['Counselor', 'Mentor', 'Trainer', 'Advisor', 'Educator', 'Teaching']\",\n",
       "       \"['Computer science', 'Computer vision', 'Image processing', 'Architecture', 'Neural networks', 'Analytical', 'Artificial Intelligence', 'Data structures']\",\n",
       "       \"['Image Processing', 'Computer Vision', 'Machine Learning', 'IT Skills', 'Research Scientist', 'C++', 'Multithreading']\",\n",
       "       \"['Wireless', 'Graphics', 'Computer science', 'Computer vision', 'C++', 'Software design', 'Image processing', 'Staffing']\",\n",
       "       \"['Computer science', 'Image processing', 'Staffing', 'Debugging', 'JPEG', 'Sensors', 'Application software', 'Middleware']\",\n",
       "       \"['Computer science', 'Interpersonal skills', 'Linux', 'Image processing', 'Front end design', 'Machine learning', 'Engineering Intern', 'Programming']\",\n",
       "       \"['Computer Vision', 'Machine Learning', 'written', 'Multi - threading', 'verbal', 'communication', 'Image Processing', 'OCR']\",\n",
       "       \"['Computer vision', 'C++', 'Publishing', 'Front end', 'Image processing', 'Neural networks', 'Machine learning', 'Healthcare']\",\n",
       "       \"['Computer Vision', 'OpenCV', 'Python', 'C', 'Keras', 'machine learning', 'IPP', 'computer vision algorithms']\",\n",
       "       \"['UI development', 'automation framework', 'Change management', 'Dicom', 'GIT', 'Image processing', 'Coding', 'Software configuration management']\",\n",
       "       \"['Computer science', 'Semiconductor', 'jQuery', 'Linux', 'Image processing', 'Javascript', 'Healthcare', 'J2Ee']\",\n",
       "       \"['github', 'farm management', 'Image processing', 'Machine learning', 'Engineering Intern', 'Data analytics', 'Sensors', 'Internship']\",\n",
       "       \"['IT Skills', 'Python', 'Testing', 'Machine Learning', 'Computer science', 'Publishing', 'ISO', 'Image processing']\",\n",
       "       \"['github', 'farm management', 'Image processing', 'Machine learning', 'Engineering Intern', 'Data analytics', 'Sensors', 'Internship']\",\n",
       "       \"['python', 'IT Skills', 'Machine Learning', 'image processing', 'deep learning', 'tensorflow', 'computer vision', 'object detection']\"],\n",
       "      dtype=object)"
      ]
     },
     "execution_count": 118,
     "metadata": {},
     "output_type": "execute_result"
    }
   ],
   "source": [
    "d.values"
   ]
  },
  {
   "cell_type": "code",
   "execution_count": 120,
   "id": "0d05c21e",
   "metadata": {},
   "outputs": [
    {
     "data": {
      "text/plain": [
       "Index(['Image Processing ML/AI Engineer (immediate joining)',\n",
       "       'HCL - Hiring For Image Processing / Computer Vision',\n",
       "       'R&D Engineer- Image Processing,',\n",
       "       'Principal Software Engineer - Image Processing',\n",
       "       'Research Engineer - Image Processing', 'image processing',\n",
       "       'Image processing', 'Computer Vision Engineer - Image Processing',\n",
       "       'Data Scientist - Image Processing/Machine Learning',\n",
       "       'Data Scientist - Image Processing/ Machine Learning',\n",
       "       'Computer Vision/Image Processing Engineer',\n",
       "       'Computer Vision/Image Processing Engineer Staff',\n",
       "       'Medical Image Processing Engineer - DSP/MATLAB/OpenCV',\n",
       "       'Medical Image Processing Engineer - DSP/MATLAB/OpenCV',\n",
       "       'Sr Engineer on Image processing for mobile',\n",
       "       'Software Engineer for Image Processing',\n",
       "       'Computer Vision/Image Processing Expert - C/C++',\n",
       "       'Graduate Engineer Trainee - C++ & Image Processing',\n",
       "       'Graduate Engineer Trainee - C++ & Image Processing',\n",
       "       'Computer Vision And Image Processing Internship',\n",
       "       'Computer Vision/ Image Processing Engineer',\n",
       "       'Computer Vision / Image Processing Engineer',\n",
       "       'Computer Vision (Image Processing + Machine Learning) Engineer',\n",
       "       'Computer Vision/ Image Processing Engineer',\n",
       "       'Computer Vision/ Image Processing Engineer',\n",
       "       'Image Analysis Scientist - Image Processing/Pattern Recognition',\n",
       "       'Image Analysis Scientist - Image Processing/Pattern Recognition',\n",
       "       'Software Engineer C++ / Image Processing', 'Image Processing Engineer',\n",
       "       'Technical Lead - C++ and Image Processing',\n",
       "       'Sr Software Engineer(Image processing & Radiology)',\n",
       "       'Machine Vision / Image Processing Engineer',\n",
       "       'Sr Engineer on Image processing for mobile',\n",
       "       'Architect - C++/Image Processing',\n",
       "       'R&D/Architect- Biometric Expert- Image Processing/Pattern Recognition',\n",
       "       'Lead - Medical Image Analysis Developer - Image Processing/3D Image',\n",
       "       'Machine Learning Engineer, Image Processing',\n",
       "       'Algorithm Engineer ( Image Processing )',\n",
       "       'Computer Vision And Image Processing',\n",
       "       'Image and Vision processing Engineer ', 'Image Processing Engineer',\n",
       "       'Architect - Sensor Technologies - Image & Video Processing',\n",
       "       'Architect - Sensor Technologies - Image & Video Processing',\n",
       "       'Image Processing, Network Security and Data Mining',\n",
       "       'Architect - Video and Image Processing',\n",
       "       'Architect -     Video and Image Processing',\n",
       "       'Image Analysis Scientist - Image Processing/ Pattern Recognition',\n",
       "       'Image Processing / Software Developer (GIS)',\n",
       "       'C Developer / Image Processing ',\n",
       "       'Architect - Video and Image Processing',\n",
       "       'Digital Image Processing- Research Associate',\n",
       "       'Digital Image Processing- Assistant Professor',\n",
       "       'Digital Image Processing- Associate Professor',\n",
       "       'Digital Image Processing- Professor',\n",
       "       'R&D/Architect - Biometric Expert- Image Processing/Pattern Recognition',\n",
       "       'Visualization Professional -  C++/VTK/Image Processing',\n",
       "       'R&D(Computer Vision & Image/Video Processing)',\n",
       "       'Image Processing Specialist',\n",
       "       'Computer Vision Engineer - Artificial Intelligence',\n",
       "       'Job opening For AI Engineer/ Software engineer',\n",
       "       'Architect - Sensor Technologies - Image & Video Processing',\n",
       "       'Projects Trainees - Image processing for Microwave / RF / Optoelectronics',\n",
       "       'Camera System Engineer - DSP / Computer Vision',\n",
       "       'Applied Materials- Software Engineer  C++', 'Engineer',\n",
       "       'AL/DL Engineer', 'Computer Vision Engineer',\n",
       "       'Computer Vision and Machine Learning Development Engineer',\n",
       "       'Embedded Engineer', 'Computer Vision Engineer',\n",
       "       'Software , Senior Design Engineer',\n",
       "       'Lead Research engineer - Software developer',\n",
       "       'Computer Vision - Staff Engineer',\n",
       "       'Computer Vision Systems (Algorithm) Engineer',\n",
       "       'Senior Computer Vision & Deep Learning Engineer',\n",
       "       'Senior Design Engineer', 'CPU - DSP Engineer',\n",
       "       'Camera (ISP) Systems Modeling Engineer',\n",
       "       'Senior Software Engineer - Python/Flask', 'Implementation Engineer',\n",
       "       'Computer Vision Engineer', 'GIS Analyst- Haryana Forest Dept.',\n",
       "       'Associate Engineer, Algorithm R&D',\n",
       "       'Image / Signal Processing- Assistant Professor',\n",
       "       'Image / Signal Processing- Associate Professor',\n",
       "       'Image / Signal Processing- Professor',\n",
       "       'Computer Vision Optimization Engineer',\n",
       "       'Research Scientist/Engineer-Computer Vision/Machine Learning/Image',\n",
       "       'Senior Software Development Engineer - XR Research', 'Sr Engineer',\n",
       "       'Software Engineering Intern',\n",
       "       'Research Scientist/Engineer - Computer Vision/Machine Learning',\n",
       "       'Associate Data Scientist I/II', 'Computer Vision Engineer',\n",
       "       'Senior Engineer Design and Development',\n",
       "       'AI/ML/DL/ Computer vision Solution Architect', 'ENGINEERING INTERN',\n",
       "       'Engineering Manager - AI', 'ENGINEERING INTERN',\n",
       "       'Deep Learning Engineer'],\n",
       "      dtype='object', name='Job Title')"
      ]
     },
     "execution_count": 120,
     "metadata": {},
     "output_type": "execute_result"
    }
   ],
   "source": [
    "d.index"
   ]
  },
  {
   "cell_type": "code",
   "execution_count": 122,
   "id": "eb93a0a4",
   "metadata": {},
   "outputs": [
    {
     "data": {
      "text/plain": [
       "(100,)"
      ]
     },
     "execution_count": 122,
     "metadata": {},
     "output_type": "execute_result"
    }
   ],
   "source": [
    "d.shape"
   ]
  },
  {
   "cell_type": "code",
   "execution_count": 123,
   "id": "16725d08",
   "metadata": {},
   "outputs": [
    {
     "data": {
      "text/plain": [
       "False"
      ]
     },
     "execution_count": 123,
     "metadata": {},
     "output_type": "execute_result"
    }
   ],
   "source": [
    "d.is_unique"
   ]
  },
  {
   "cell_type": "code",
   "execution_count": 125,
   "id": "0040bc1f",
   "metadata": {},
   "outputs": [
    {
     "data": {
      "text/plain": [
       "True"
      ]
     },
     "execution_count": 125,
     "metadata": {},
     "output_type": "execute_result"
    }
   ],
   "source": [
    "d.head().is_unique"
   ]
  },
  {
   "cell_type": "code",
   "execution_count": 129,
   "id": "fbfdc0cc",
   "metadata": {},
   "outputs": [
    {
     "data": {
      "text/plain": [
       "88"
      ]
     },
     "execution_count": 129,
     "metadata": {},
     "output_type": "execute_result"
    }
   ],
   "source": [
    "d.nunique(dropna=False)"
   ]
  },
  {
   "cell_type": "code",
   "execution_count": 131,
   "id": "a0611f97",
   "metadata": {},
   "outputs": [],
   "source": [
    "d2 = pd.read_csv(\"C:/Users/rajen/OneDrive/Desktop/webScraping/naukri_job_search_image_processing.csv\",usecols = ['Company Name','Salary'],index_col = 'Company Name')"
   ]
  },
  {
   "cell_type": "code",
   "execution_count": 134,
   "id": "572bcb29",
   "metadata": {},
   "outputs": [],
   "source": [
    "d3 = d2.squeeze()"
   ]
  },
  {
   "cell_type": "code",
   "execution_count": 136,
   "id": "7acd4734",
   "metadata": {},
   "outputs": [
    {
     "data": {
      "text/plain": [
       "12"
      ]
     },
     "execution_count": 136,
     "metadata": {},
     "output_type": "execute_result"
    }
   ],
   "source": [
    "d3.nunique(dropna = False)"
   ]
  },
  {
   "cell_type": "code",
   "execution_count": 137,
   "id": "6d361c06",
   "metadata": {},
   "outputs": [
    {
     "data": {
      "text/plain": [
       "array(['10,00,000 - 20,00,000 PA.', '8,00,000 - 18,00,000 PA.',\n",
       "       '5,00,000 - 8,00,000 PA.', 'Not disclosed', 'Not disclosed',\n",
       "       '50,000 - 1,00,000 PA.', '50,000 - 1,25,000 PA.', 'Not disclosed',\n",
       "       'Not disclosed', 'Not disclosed', 'Not disclosed', 'Not disclosed',\n",
       "       'Not disclosed', 'Not disclosed', 'Not disclosed', 'Not disclosed',\n",
       "       'Not disclosed', '50,000 - 3,00,000 PA.', '50,000 - 3,00,000 PA.',\n",
       "       'Not disclosed', 'Not disclosed', 'Not disclosed', 'Not disclosed',\n",
       "       'Not disclosed', 'Not disclosed', 'Not disclosed', 'Not disclosed',\n",
       "       'Not disclosed', '5,00,000 - 10,00,000 PA.',\n",
       "       '10,00,000 - 20,00,000 PA.', 'Not disclosed', 'Not disclosed',\n",
       "       'Not disclosed', 'Not disclosed', 'Not disclosed', 'Not disclosed',\n",
       "       'Not disclosed', 'Not disclosed', 'Not disclosed', 'Not disclosed',\n",
       "       '7,00,000 - 14,00,000 PA.', 'Not disclosed', 'Not disclosed',\n",
       "       'Not disclosed', 'Not disclosed', 'Not disclosed', 'Not disclosed',\n",
       "       'Not disclosed', 'Not disclosed', 'Not disclosed', 'Not disclosed',\n",
       "       'Not disclosed', 'Not disclosed', 'Not disclosed', 'Not disclosed',\n",
       "       'Not disclosed', 'Not disclosed', 'Not disclosed', 'Not disclosed',\n",
       "       '5,50,000 - 15,00,000 PA.', 'Not disclosed', 'Not disclosed',\n",
       "       'Not disclosed', 'Not disclosed', 'Not disclosed', 'Not disclosed',\n",
       "       'Not disclosed', 'Not disclosed', '2,50,000 - 5,00,000 PA.',\n",
       "       'Not disclosed', 'Not disclosed', 'Not disclosed', 'Not disclosed',\n",
       "       'Not disclosed', 'Not disclosed', 'Not disclosed', 'Not disclosed',\n",
       "       'Not disclosed', 'Not disclosed', 'Not disclosed', 'Not disclosed',\n",
       "       'Not disclosed', 'Not disclosed', 'Not disclosed', 'Not disclosed',\n",
       "       'Not disclosed', 'Not disclosed', 'Not disclosed', 'Not disclosed',\n",
       "       'Not disclosed', 'Not disclosed', 'Not disclosed', 'Not disclosed',\n",
       "       '10,00,000 - 20,00,000 PA.', 'Not disclosed', 'Not disclosed',\n",
       "       'Not disclosed', 'Not disclosed', 'Not disclosed',\n",
       "       '16,00,000 - 17,00,000 PA.'], dtype=object)"
      ]
     },
     "execution_count": 137,
     "metadata": {},
     "output_type": "execute_result"
    }
   ],
   "source": [
    "d3.values"
   ]
  },
  {
   "cell_type": "code",
   "execution_count": 138,
   "id": "4b8c51da",
   "metadata": {},
   "outputs": [
    {
     "data": {
      "text/plain": [
       "100"
      ]
     },
     "execution_count": 138,
     "metadata": {},
     "output_type": "execute_result"
    }
   ],
   "source": [
    "d.count()"
   ]
  },
  {
   "cell_type": "code",
   "execution_count": 139,
   "id": "d99e14d5",
   "metadata": {},
   "outputs": [
    {
     "data": {
      "text/plain": [
       "100"
      ]
     },
     "execution_count": 139,
     "metadata": {},
     "output_type": "execute_result"
    }
   ],
   "source": [
    "d3.count()"
   ]
  },
  {
   "cell_type": "code",
   "execution_count": 140,
   "id": "9f833516",
   "metadata": {},
   "outputs": [
    {
     "data": {
      "text/plain": [
       "False"
      ]
     },
     "execution_count": 140,
     "metadata": {},
     "output_type": "execute_result"
    }
   ],
   "source": [
    "d.hasnans"
   ]
  },
  {
   "cell_type": "code",
   "execution_count": 144,
   "id": "383b1937",
   "metadata": {},
   "outputs": [
    {
     "data": {
      "text/html": [
       "<div>\n",
       "<style scoped>\n",
       "    .dataframe tbody tr th:only-of-type {\n",
       "        vertical-align: middle;\n",
       "    }\n",
       "\n",
       "    .dataframe tbody tr th {\n",
       "        vertical-align: top;\n",
       "    }\n",
       "\n",
       "    .dataframe thead th {\n",
       "        text-align: right;\n",
       "    }\n",
       "</style>\n",
       "<table border=\"1\" class=\"dataframe\">\n",
       "  <thead>\n",
       "    <tr style=\"text-align: right;\">\n",
       "      <th></th>\n",
       "      <th>country</th>\n",
       "      <th>beer_servings</th>\n",
       "      <th>spirit_servings</th>\n",
       "      <th>wine_servings</th>\n",
       "      <th>total_litres_of_pure_alcohol</th>\n",
       "    </tr>\n",
       "  </thead>\n",
       "  <tbody>\n",
       "    <tr>\n",
       "      <th>0</th>\n",
       "      <td>Afghanistan</td>\n",
       "      <td>NaN</td>\n",
       "      <td>NaN</td>\n",
       "      <td>NaN</td>\n",
       "      <td>NaN</td>\n",
       "    </tr>\n",
       "    <tr>\n",
       "      <th>1</th>\n",
       "      <td>Albania</td>\n",
       "      <td>89.0</td>\n",
       "      <td>132.0</td>\n",
       "      <td>54.0</td>\n",
       "      <td>4.9</td>\n",
       "    </tr>\n",
       "    <tr>\n",
       "      <th>2</th>\n",
       "      <td>Algeria</td>\n",
       "      <td>25.0</td>\n",
       "      <td>NaN</td>\n",
       "      <td>14.0</td>\n",
       "      <td>0.7</td>\n",
       "    </tr>\n",
       "    <tr>\n",
       "      <th>3</th>\n",
       "      <td>Andorra</td>\n",
       "      <td>245.0</td>\n",
       "      <td>138.0</td>\n",
       "      <td>312.0</td>\n",
       "      <td>12.4</td>\n",
       "    </tr>\n",
       "    <tr>\n",
       "      <th>4</th>\n",
       "      <td>Angola</td>\n",
       "      <td>217.0</td>\n",
       "      <td>57.0</td>\n",
       "      <td>45.0</td>\n",
       "      <td>5.9</td>\n",
       "    </tr>\n",
       "    <tr>\n",
       "      <th>...</th>\n",
       "      <td>...</td>\n",
       "      <td>...</td>\n",
       "      <td>...</td>\n",
       "      <td>...</td>\n",
       "      <td>...</td>\n",
       "    </tr>\n",
       "    <tr>\n",
       "      <th>188</th>\n",
       "      <td>Venezuela</td>\n",
       "      <td>333.0</td>\n",
       "      <td>1.0</td>\n",
       "      <td>3.0</td>\n",
       "      <td>7.7</td>\n",
       "    </tr>\n",
       "    <tr>\n",
       "      <th>189</th>\n",
       "      <td>Vietnam</td>\n",
       "      <td>111.0</td>\n",
       "      <td>2.0</td>\n",
       "      <td>1.0</td>\n",
       "      <td>2.0</td>\n",
       "    </tr>\n",
       "    <tr>\n",
       "      <th>190</th>\n",
       "      <td>Yemen</td>\n",
       "      <td>6.0</td>\n",
       "      <td>NaN</td>\n",
       "      <td>NaN</td>\n",
       "      <td>0.1</td>\n",
       "    </tr>\n",
       "    <tr>\n",
       "      <th>191</th>\n",
       "      <td>Zambia</td>\n",
       "      <td>32.0</td>\n",
       "      <td>19.0</td>\n",
       "      <td>4.0</td>\n",
       "      <td>2.5</td>\n",
       "    </tr>\n",
       "    <tr>\n",
       "      <th>192</th>\n",
       "      <td>Zimbabwe</td>\n",
       "      <td>64.0</td>\n",
       "      <td>18.0</td>\n",
       "      <td>4.0</td>\n",
       "      <td>4.7</td>\n",
       "    </tr>\n",
       "  </tbody>\n",
       "</table>\n",
       "<p>193 rows × 5 columns</p>\n",
       "</div>"
      ],
      "text/plain": [
       "         country  beer_servings  spirit_servings  wine_servings  \\\n",
       "0    Afghanistan            NaN              NaN            NaN   \n",
       "1        Albania           89.0            132.0           54.0   \n",
       "2        Algeria           25.0              NaN           14.0   \n",
       "3        Andorra          245.0            138.0          312.0   \n",
       "4         Angola          217.0             57.0           45.0   \n",
       "..           ...            ...              ...            ...   \n",
       "188    Venezuela          333.0              1.0            3.0   \n",
       "189      Vietnam          111.0              2.0            1.0   \n",
       "190        Yemen            6.0              NaN            NaN   \n",
       "191       Zambia           32.0             19.0            4.0   \n",
       "192     Zimbabwe           64.0             18.0            4.0   \n",
       "\n",
       "     total_litres_of_pure_alcohol  \n",
       "0                             NaN  \n",
       "1                             4.9  \n",
       "2                             0.7  \n",
       "3                            12.4  \n",
       "4                             5.9  \n",
       "..                            ...  \n",
       "188                           7.7  \n",
       "189                           2.0  \n",
       "190                           0.1  \n",
       "191                           2.5  \n",
       "192                           4.7  \n",
       "\n",
       "[193 rows x 5 columns]"
      ]
     },
     "execution_count": 144,
     "metadata": {},
     "output_type": "execute_result"
    }
   ],
   "source": [
    "df4 = pd.read_csv(\"C:/Users/rajen/Data Analysis/drinks.csv\")\n",
    "df4"
   ]
  },
  {
   "cell_type": "code",
   "execution_count": 145,
   "id": "72f8cfe1",
   "metadata": {},
   "outputs": [
    {
     "data": {
      "text/html": [
       "<div>\n",
       "<style scoped>\n",
       "    .dataframe tbody tr th:only-of-type {\n",
       "        vertical-align: middle;\n",
       "    }\n",
       "\n",
       "    .dataframe tbody tr th {\n",
       "        vertical-align: top;\n",
       "    }\n",
       "\n",
       "    .dataframe thead th {\n",
       "        text-align: right;\n",
       "    }\n",
       "</style>\n",
       "<table border=\"1\" class=\"dataframe\">\n",
       "  <thead>\n",
       "    <tr style=\"text-align: right;\">\n",
       "      <th></th>\n",
       "      <th>beer_servings</th>\n",
       "    </tr>\n",
       "    <tr>\n",
       "      <th>country</th>\n",
       "      <th></th>\n",
       "    </tr>\n",
       "  </thead>\n",
       "  <tbody>\n",
       "    <tr>\n",
       "      <th>Afghanistan</th>\n",
       "      <td>NaN</td>\n",
       "    </tr>\n",
       "    <tr>\n",
       "      <th>Albania</th>\n",
       "      <td>89.0</td>\n",
       "    </tr>\n",
       "    <tr>\n",
       "      <th>Algeria</th>\n",
       "      <td>25.0</td>\n",
       "    </tr>\n",
       "    <tr>\n",
       "      <th>Andorra</th>\n",
       "      <td>245.0</td>\n",
       "    </tr>\n",
       "    <tr>\n",
       "      <th>Angola</th>\n",
       "      <td>217.0</td>\n",
       "    </tr>\n",
       "    <tr>\n",
       "      <th>...</th>\n",
       "      <td>...</td>\n",
       "    </tr>\n",
       "    <tr>\n",
       "      <th>Venezuela</th>\n",
       "      <td>333.0</td>\n",
       "    </tr>\n",
       "    <tr>\n",
       "      <th>Vietnam</th>\n",
       "      <td>111.0</td>\n",
       "    </tr>\n",
       "    <tr>\n",
       "      <th>Yemen</th>\n",
       "      <td>6.0</td>\n",
       "    </tr>\n",
       "    <tr>\n",
       "      <th>Zambia</th>\n",
       "      <td>32.0</td>\n",
       "    </tr>\n",
       "    <tr>\n",
       "      <th>Zimbabwe</th>\n",
       "      <td>64.0</td>\n",
       "    </tr>\n",
       "  </tbody>\n",
       "</table>\n",
       "<p>193 rows × 1 columns</p>\n",
       "</div>"
      ],
      "text/plain": [
       "             beer_servings\n",
       "country                   \n",
       "Afghanistan            NaN\n",
       "Albania               89.0\n",
       "Algeria               25.0\n",
       "Andorra              245.0\n",
       "Angola               217.0\n",
       "...                    ...\n",
       "Venezuela            333.0\n",
       "Vietnam              111.0\n",
       "Yemen                  6.0\n",
       "Zambia                32.0\n",
       "Zimbabwe              64.0\n",
       "\n",
       "[193 rows x 1 columns]"
      ]
     },
     "execution_count": 145,
     "metadata": {},
     "output_type": "execute_result"
    }
   ],
   "source": [
    "d4 = pd.read_csv(\"C:/Users/rajen/Data Analysis/drinks.csv\",usecols = ['country','beer_servings'],index_col = 'country')\n",
    "d4"
   ]
  },
  {
   "cell_type": "code",
   "execution_count": 147,
   "id": "0b1111d2",
   "metadata": {},
   "outputs": [
    {
     "data": {
      "text/plain": [
       "country\n",
       "Afghanistan      NaN\n",
       "Albania         89.0\n",
       "Algeria         25.0\n",
       "Andorra        245.0\n",
       "Angola         217.0\n",
       "               ...  \n",
       "Venezuela      333.0\n",
       "Vietnam        111.0\n",
       "Yemen            6.0\n",
       "Zambia          32.0\n",
       "Zimbabwe        64.0\n",
       "Name: beer_servings, Length: 193, dtype: float64"
      ]
     },
     "execution_count": 147,
     "metadata": {},
     "output_type": "execute_result"
    }
   ],
   "source": [
    "s4 = d4.squeeze()\n",
    "s4"
   ]
  },
  {
   "cell_type": "code",
   "execution_count": 148,
   "id": "8fcf8e1c",
   "metadata": {},
   "outputs": [
    {
     "data": {
      "text/plain": [
       "193"
      ]
     },
     "execution_count": 148,
     "metadata": {},
     "output_type": "execute_result"
    }
   ],
   "source": [
    "s4.size"
   ]
  },
  {
   "cell_type": "code",
   "execution_count": 149,
   "id": "72d6cba7",
   "metadata": {},
   "outputs": [
    {
     "data": {
      "text/plain": [
       "178"
      ]
     },
     "execution_count": 149,
     "metadata": {},
     "output_type": "execute_result"
    }
   ],
   "source": [
    "s4.count()"
   ]
  },
  {
   "cell_type": "code",
   "execution_count": 155,
   "id": "d57879fd",
   "metadata": {},
   "outputs": [
    {
     "data": {
      "text/plain": [
       "116"
      ]
     },
     "execution_count": 155,
     "metadata": {},
     "output_type": "execute_result"
    }
   ],
   "source": [
    "s4.nunique()"
   ]
  },
  {
   "cell_type": "code",
   "execution_count": 156,
   "id": "e5d30584",
   "metadata": {},
   "outputs": [
    {
     "data": {
      "text/plain": [
       "117"
      ]
     },
     "execution_count": 156,
     "metadata": {},
     "output_type": "execute_result"
    }
   ],
   "source": [
    "s4.nunique(dropna = False)"
   ]
  },
  {
   "cell_type": "code",
   "execution_count": 157,
   "id": "d8d2983f",
   "metadata": {},
   "outputs": [
    {
     "data": {
      "text/plain": [
       "True"
      ]
     },
     "execution_count": 157,
     "metadata": {},
     "output_type": "execute_result"
    }
   ],
   "source": [
    "s4.hasnans"
   ]
  },
  {
   "cell_type": "code",
   "execution_count": 160,
   "id": "1d68e67c",
   "metadata": {},
   "outputs": [
    {
     "data": {
      "text/plain": [
       "country\n",
       "Afghanistan     True\n",
       "Albania        False\n",
       "Algeria        False\n",
       "Andorra        False\n",
       "Angola         False\n",
       "               ...  \n",
       "Venezuela      False\n",
       "Vietnam        False\n",
       "Yemen          False\n",
       "Zambia         False\n",
       "Zimbabwe       False\n",
       "Name: beer_servings, Length: 193, dtype: bool"
      ]
     },
     "execution_count": 160,
     "metadata": {},
     "output_type": "execute_result"
    }
   ],
   "source": [
    "s4.isnull()"
   ]
  },
  {
   "cell_type": "code",
   "execution_count": 161,
   "id": "164e5e73",
   "metadata": {},
   "outputs": [
    {
     "data": {
      "text/plain": [
       "country\n",
       "Afghanistan        NaN\n",
       "Bangladesh         NaN\n",
       "Cook Islands       NaN\n",
       "North Korea        NaN\n",
       "Iran               NaN\n",
       "Kuwait             NaN\n",
       "Libya              NaN\n",
       "Maldives           NaN\n",
       "Marshall Islands   NaN\n",
       "Mauritania         NaN\n",
       "Monaco             NaN\n",
       "Pakistan           NaN\n",
       "San Marino         NaN\n",
       "Saudi Arabia       NaN\n",
       "Somalia            NaN\n",
       "Name: beer_servings, dtype: float64"
      ]
     },
     "execution_count": 161,
     "metadata": {},
     "output_type": "execute_result"
    }
   ],
   "source": [
    "s4[s4.isnull()]"
   ]
  },
  {
   "cell_type": "code",
   "execution_count": 163,
   "id": "cd46781a",
   "metadata": {},
   "outputs": [
    {
     "data": {
      "text/plain": [
       "['Afghanistan',\n",
       " 'Bangladesh',\n",
       " 'Cook Islands',\n",
       " 'North Korea',\n",
       " 'Iran',\n",
       " 'Kuwait',\n",
       " 'Libya',\n",
       " 'Maldives',\n",
       " 'Marshall Islands',\n",
       " 'Mauritania',\n",
       " 'Monaco',\n",
       " 'Pakistan',\n",
       " 'San Marino',\n",
       " 'Saudi Arabia',\n",
       " 'Somalia']"
      ]
     },
     "execution_count": 163,
     "metadata": {},
     "output_type": "execute_result"
    }
   ],
   "source": [
    "list(s4[s4.isnull()].index)"
   ]
  },
  {
   "cell_type": "code",
   "execution_count": 164,
   "id": "36953c27",
   "metadata": {},
   "outputs": [
    {
     "data": {
      "text/plain": [
       "15"
      ]
     },
     "execution_count": 164,
     "metadata": {},
     "output_type": "execute_result"
    }
   ],
   "source": [
    "len(list(s4[s4.isnull()].index))"
   ]
  },
  {
   "cell_type": "code",
   "execution_count": 166,
   "id": "51538749",
   "metadata": {},
   "outputs": [
    {
     "data": {
      "text/plain": [
       "15"
      ]
     },
     "execution_count": 166,
     "metadata": {},
     "output_type": "execute_result"
    }
   ],
   "source": [
    "s4.isnull().sum()"
   ]
  },
  {
   "cell_type": "code",
   "execution_count": 170,
   "id": "2c92bf53",
   "metadata": {},
   "outputs": [
    {
     "data": {
      "text/plain": [
       "True"
      ]
     },
     "execution_count": 170,
     "metadata": {},
     "output_type": "execute_result"
    }
   ],
   "source": [
    "len(s4) == s4.count() + s4.isnull().sum()"
   ]
  },
  {
   "cell_type": "code",
   "execution_count": 171,
   "id": "4130ad04",
   "metadata": {},
   "outputs": [
    {
     "data": {
      "text/plain": [
       "country\n",
       "Afghanistan    False\n",
       "Albania         True\n",
       "Algeria         True\n",
       "Andorra         True\n",
       "Angola          True\n",
       "               ...  \n",
       "Venezuela       True\n",
       "Vietnam         True\n",
       "Yemen           True\n",
       "Zambia          True\n",
       "Zimbabwe        True\n",
       "Name: beer_servings, Length: 193, dtype: bool"
      ]
     },
     "execution_count": 171,
     "metadata": {},
     "output_type": "execute_result"
    }
   ],
   "source": [
    "s4.notnull()"
   ]
  },
  {
   "cell_type": "code",
   "execution_count": 172,
   "id": "a7179174",
   "metadata": {},
   "outputs": [
    {
     "data": {
      "text/plain": [
       "country\n",
       "Albania               89.0\n",
       "Algeria               25.0\n",
       "Andorra              245.0\n",
       "Angola               217.0\n",
       "Antigua & Barbuda     12.0\n",
       "                     ...  \n",
       "Venezuela            333.0\n",
       "Vietnam              111.0\n",
       "Yemen                  6.0\n",
       "Zambia                32.0\n",
       "Zimbabwe              64.0\n",
       "Name: beer_servings, Length: 178, dtype: float64"
      ]
     },
     "execution_count": 172,
     "metadata": {},
     "output_type": "execute_result"
    }
   ],
   "source": [
    "s4.loc[s4.notnull()]"
   ]
  },
  {
   "cell_type": "code",
   "execution_count": 174,
   "id": "a223db31",
   "metadata": {},
   "outputs": [
    {
     "data": {
      "text/plain": [
       "[89.0,\n",
       " 25.0,\n",
       " 245.0,\n",
       " 217.0,\n",
       " 12.0,\n",
       " 193.0,\n",
       " 21.0,\n",
       " 261.0,\n",
       " 279.0,\n",
       " 21.0,\n",
       " 122.0,\n",
       " 42.0,\n",
       " 143.0,\n",
       " 142.0,\n",
       " 295.0,\n",
       " 263.0,\n",
       " 34.0,\n",
       " 23.0,\n",
       " 167.0,\n",
       " 76.0,\n",
       " 173.0,\n",
       " 245.0,\n",
       " 31.0,\n",
       " 231.0,\n",
       " 25.0,\n",
       " 88.0,\n",
       " 37.0,\n",
       " 144.0,\n",
       " 57.0,\n",
       " 147.0,\n",
       " 24.0,\n",
       " 17.0,\n",
       " 15.0,\n",
       " 13.0,\n",
       " 79.0,\n",
       " 159.0,\n",
       " 1.0,\n",
       " 76.0,\n",
       " 149.0,\n",
       " 23.0,\n",
       " 93.0,\n",
       " 192.0,\n",
       " 361.0,\n",
       " 32.0,\n",
       " 224.0,\n",
       " 15.0,\n",
       " 52.0,\n",
       " 193.0,\n",
       " 162.0,\n",
       " 6.0,\n",
       " 52.0,\n",
       " 92.0,\n",
       " 18.0,\n",
       " 224.0,\n",
       " 2.0,\n",
       " 77.0,\n",
       " 263.0,\n",
       " 127.0,\n",
       " 347.0,\n",
       " 8.0,\n",
       " 52.0,\n",
       " 346.0,\n",
       " 31.0,\n",
       " 133.0,\n",
       " 199.0,\n",
       " 53.0,\n",
       " 9.0,\n",
       " 28.0,\n",
       " 93.0,\n",
       " 1.0,\n",
       " 69.0,\n",
       " 234.0,\n",
       " 233.0,\n",
       " 9.0,\n",
       " 5.0,\n",
       " 9.0,\n",
       " 313.0,\n",
       " 63.0,\n",
       " 85.0,\n",
       " 82.0,\n",
       " 77.0,\n",
       " 6.0,\n",
       " 124.0,\n",
       " 58.0,\n",
       " 21.0,\n",
       " 31.0,\n",
       " 62.0,\n",
       " 281.0,\n",
       " 2.0,\n",
       " 82.0,\n",
       " 19.0,\n",
       " 343.0,\n",
       " 236.0,\n",
       " 26.0,\n",
       " 8.0,\n",
       " 13.0,\n",
       " 5.0,\n",
       " 149.0,\n",
       " 98.0,\n",
       " 238.0,\n",
       " 62.0,\n",
       " 77.0,\n",
       " 31.0,\n",
       " 12.0,\n",
       " 47.0,\n",
       " 5.0,\n",
       " 376.0,\n",
       " 49.0,\n",
       " 5.0,\n",
       " 251.0,\n",
       " 23.0,\n",
       " 78.0,\n",
       " 3.0,\n",
       " 42.0,\n",
       " 188.0,\n",
       " 169.0,\n",
       " 22.0,\n",
       " 36.0,\n",
       " 285.0,\n",
       " 44.0,\n",
       " 213.0,\n",
       " 163.0,\n",
       " 71.0,\n",
       " 343.0,\n",
       " 194.0,\n",
       " 1.0,\n",
       " 14.0,\n",
       " 19.0,\n",
       " 297.0,\n",
       " 247.0,\n",
       " 43.0,\n",
       " 194.0,\n",
       " 171.0,\n",
       " 12.0,\n",
       " 15.0,\n",
       " 56.0,\n",
       " 9.0,\n",
       " 283.0,\n",
       " 157.0,\n",
       " 25.0,\n",
       " 6.0,\n",
       " 196.0,\n",
       " 27.0,\n",
       " 56.0,\n",
       " 225.0,\n",
       " 284.0,\n",
       " 16.0,\n",
       " 8.0,\n",
       " 128.0,\n",
       " 9.0,\n",
       " 152.0,\n",
       " 185.0,\n",
       " 5.0,\n",
       " 2.0,\n",
       " 99.0,\n",
       " 16.0,\n",
       " 1.0,\n",
       " 36.0,\n",
       " 36.0,\n",
       " 197.0,\n",
       " 51.0,\n",
       " 51.0,\n",
       " 19.0,\n",
       " 6.0,\n",
       " 45.0,\n",
       " 26.0,\n",
       " 16.0,\n",
       " 219.0,\n",
       " 36.0,\n",
       " 249.0,\n",
       " 115.0,\n",
       " 25.0,\n",
       " 21.0,\n",
       " 333.0,\n",
       " 111.0,\n",
       " 6.0,\n",
       " 32.0,\n",
       " 64.0]"
      ]
     },
     "execution_count": 174,
     "metadata": {},
     "output_type": "execute_result"
    }
   ],
   "source": [
    "list(s4.loc[s4.notnull()].values)"
   ]
  },
  {
   "cell_type": "code",
   "execution_count": 175,
   "id": "2774074d",
   "metadata": {},
   "outputs": [
    {
     "data": {
      "text/plain": [
       "(bool, int, object)"
      ]
     },
     "execution_count": 175,
     "metadata": {},
     "output_type": "execute_result"
    }
   ],
   "source": [
    "bool.__mro__"
   ]
  },
  {
   "cell_type": "code",
   "execution_count": 182,
   "id": "c2f6380f",
   "metadata": {},
   "outputs": [],
   "source": [
    "wine_servings = s4.loc[s4.notnull()]"
   ]
  },
  {
   "cell_type": "code",
   "execution_count": 187,
   "id": "3f166ac8",
   "metadata": {},
   "outputs": [
    {
     "data": {
      "text/plain": [
       "array([ 89.,  25., 245., 217.,  12., 193.,  21., 261., 279.,  21., 122.,\n",
       "        42., 143., 142., 295., 263.,  34.,  23., 167.,  76., 173., 245.,\n",
       "        31., 231.,  25.,  88.,  37., 144.,  57., 147.,  24.,  17.,  15.,\n",
       "        13.,  79., 159.,   1.,  76., 149.,  23.,  93., 192., 361.,  32.,\n",
       "       224.,  15.,  52., 193., 162.,   6.,  52.,  92.,  18., 224.,   2.,\n",
       "        77., 263., 127., 347.,   8.,  52., 346.,  31., 133., 199.,  53.,\n",
       "         9.,  28.,  93.,   1.,  69., 234., 233.,   9.,   5.,   9., 313.,\n",
       "        63.,  85.,  82.,  77.,   6., 124.,  58.,  21.,  31.,  62., 281.,\n",
       "         2.,  82.,  19., 343., 236.,  26.,   8.,  13.,   5., 149.,  98.,\n",
       "       238.,  62.,  77.,  31.,  12.,  47.,   5., 376.,  49.,   5., 251.,\n",
       "        23.,  78.,   3.,  42., 188., 169.,  22.,  36., 285.,  44., 213.,\n",
       "       163.,  71., 343., 194.,   1.,  14.,  19., 297., 247.,  43., 194.,\n",
       "       171.,  12.,  15.,  56.,   9., 283., 157.,  25.,   6., 196.,  27.,\n",
       "        56., 225., 284.,  16.,   8., 128.,   9., 152., 185.,   5.,   2.,\n",
       "        99.,  16.,   1.,  36.,  36., 197.,  51.,  51.,  19.,   6.,  45.,\n",
       "        26.,  16., 219.,  36., 249., 115.,  25.,  21., 333., 111.,   6.,\n",
       "        32.,  64.])"
      ]
     },
     "execution_count": 187,
     "metadata": {},
     "output_type": "execute_result"
    }
   ],
   "source": [
    "wine_servings.values"
   ]
  },
  {
   "cell_type": "code",
   "execution_count": 184,
   "id": "e7dffed4",
   "metadata": {},
   "outputs": [],
   "source": [
    "total_beer = wine_servings.values.sum()"
   ]
  },
  {
   "cell_type": "code",
   "execution_count": 185,
   "id": "0161beee",
   "metadata": {},
   "outputs": [
    {
     "data": {
      "text/plain": [
       "18311.0"
      ]
     },
     "execution_count": 185,
     "metadata": {},
     "output_type": "execute_result"
    }
   ],
   "source": [
    "total_beer"
   ]
  },
  {
   "cell_type": "code",
   "execution_count": 220,
   "id": "84dc12c2",
   "metadata": {},
   "outputs": [],
   "source": [
    "import numpy as np"
   ]
  },
  {
   "cell_type": "code",
   "execution_count": 196,
   "id": "5bb96043",
   "metadata": {},
   "outputs": [
    {
     "data": {
      "text/plain": [
       "numpy.ndarray"
      ]
     },
     "execution_count": 196,
     "metadata": {},
     "output_type": "execute_result"
    }
   ],
   "source": [
    "type(wine_servings.values)"
   ]
  },
  {
   "cell_type": "code",
   "execution_count": 211,
   "id": "d3fdd4e4",
   "metadata": {},
   "outputs": [],
   "source": [
    "w = wine_servings.values"
   ]
  },
  {
   "cell_type": "code",
   "execution_count": 212,
   "id": "3056eb45",
   "metadata": {},
   "outputs": [
    {
     "data": {
      "text/plain": [
       "array([ 89.,  25., 245., 217.,  12., 193.,  21., 261., 279.,  21., 122.,\n",
       "        42., 143., 142., 295., 263.,  34.,  23., 167.,  76., 173., 245.,\n",
       "        31., 231.,  25.,  88.,  37., 144.,  57., 147.,  24.,  17.,  15.,\n",
       "        13.,  79., 159.,   1.,  76., 149.,  23.,  93., 192., 361.,  32.,\n",
       "       224.,  15.,  52., 193., 162.,   6.,  52.,  92.,  18., 224.,   2.,\n",
       "        77., 263., 127., 347.,   8.,  52., 346.,  31., 133., 199.,  53.,\n",
       "         9.,  28.,  93.,   1.,  69., 234., 233.,   9.,   5.,   9., 313.,\n",
       "        63.,  85.,  82.,  77.,   6., 124.,  58.,  21.,  31.,  62., 281.,\n",
       "         2.,  82.,  19., 343., 236.,  26.,   8.,  13.,   5., 149.,  98.,\n",
       "       238.,  62.,  77.,  31.,  12.,  47.,   5., 376.,  49.,   5., 251.,\n",
       "        23.,  78.,   3.,  42., 188., 169.,  22.,  36., 285.,  44., 213.,\n",
       "       163.,  71., 343., 194.,   1.,  14.,  19., 297., 247.,  43., 194.,\n",
       "       171.,  12.,  15.,  56.,   9., 283., 157.,  25.,   6., 196.,  27.,\n",
       "        56., 225., 284.,  16.,   8., 128.,   9., 152., 185.,   5.,   2.,\n",
       "        99.,  16.,   1.,  36.,  36., 197.,  51.,  51.,  19.,   6.,  45.,\n",
       "        26.,  16., 219.,  36., 249., 115.,  25.,  21., 333., 111.,   6.,\n",
       "        32.,  64.])"
      ]
     },
     "execution_count": 212,
     "metadata": {},
     "output_type": "execute_result"
    }
   ],
   "source": [
    "w"
   ]
  },
  {
   "cell_type": "code",
   "execution_count": 231,
   "id": "40f4ef9a",
   "metadata": {},
   "outputs": [
    {
     "data": {
      "text/plain": [
       "country\n",
       "Albania               True\n",
       "Algeria               True\n",
       "Andorra              False\n",
       "Angola               False\n",
       "Antigua & Barbuda     True\n",
       "                     ...  \n",
       "Venezuela            False\n",
       "Vietnam              False\n",
       "Yemen                 True\n",
       "Zambia                True\n",
       "Zimbabwe              True\n",
       "Name: beer_servings, Length: 178, dtype: bool"
      ]
     },
     "execution_count": 231,
     "metadata": {},
     "output_type": "execute_result"
    }
   ],
   "source": [
    "wine_servings < 100"
   ]
  },
  {
   "cell_type": "code",
   "execution_count": 232,
   "id": "1a1ed9ee",
   "metadata": {},
   "outputs": [],
   "source": [
    "wine_less = wine_servings.loc[wine_servings < 100]"
   ]
  },
  {
   "cell_type": "code",
   "execution_count": 234,
   "id": "698d6cbc",
   "metadata": {},
   "outputs": [
    {
     "data": {
      "text/plain": [
       "3889.0"
      ]
     },
     "execution_count": 234,
     "metadata": {},
     "output_type": "execute_result"
    }
   ],
   "source": [
    "wine_less.sum()"
   ]
  },
  {
   "cell_type": "code",
   "execution_count": 235,
   "id": "b76aa3ab",
   "metadata": {},
   "outputs": [
    {
     "data": {
      "text/plain": [
       "country\n",
       "Afghanistan      NaN\n",
       "Albania         89.0\n",
       "Algeria         25.0\n",
       "Andorra        245.0\n",
       "Angola         217.0\n",
       "               ...  \n",
       "Venezuela      333.0\n",
       "Vietnam        111.0\n",
       "Yemen            6.0\n",
       "Zambia          32.0\n",
       "Zimbabwe        64.0\n",
       "Name: beer_servings, Length: 193, dtype: float64"
      ]
     },
     "execution_count": 235,
     "metadata": {},
     "output_type": "execute_result"
    }
   ],
   "source": [
    "s4"
   ]
  },
  {
   "cell_type": "code",
   "execution_count": 236,
   "id": "37d65ea9",
   "metadata": {},
   "outputs": [
    {
     "data": {
      "text/plain": [
       "country\n",
       "Albania               89.0\n",
       "Algeria               25.0\n",
       "Andorra              245.0\n",
       "Angola               217.0\n",
       "Antigua & Barbuda     12.0\n",
       "                     ...  \n",
       "Venezuela            333.0\n",
       "Vietnam              111.0\n",
       "Yemen                  6.0\n",
       "Zambia                32.0\n",
       "Zimbabwe              64.0\n",
       "Name: beer_servings, Length: 178, dtype: float64"
      ]
     },
     "execution_count": 236,
     "metadata": {},
     "output_type": "execute_result"
    }
   ],
   "source": [
    "s4.dropna()"
   ]
  },
  {
   "cell_type": "code",
   "execution_count": 237,
   "id": "68df734f",
   "metadata": {},
   "outputs": [
    {
     "data": {
      "text/plain": [
       "country\n",
       "Afghanistan      tom\n",
       "Albania         89.0\n",
       "Algeria         25.0\n",
       "Andorra        245.0\n",
       "Angola         217.0\n",
       "               ...  \n",
       "Venezuela      333.0\n",
       "Vietnam        111.0\n",
       "Yemen            6.0\n",
       "Zambia          32.0\n",
       "Zimbabwe        64.0\n",
       "Name: beer_servings, Length: 193, dtype: object"
      ]
     },
     "execution_count": 237,
     "metadata": {},
     "output_type": "execute_result"
    }
   ],
   "source": [
    "s4.fillna('tom')"
   ]
  },
  {
   "cell_type": "code",
   "execution_count": 238,
   "id": "96f7766f",
   "metadata": {},
   "outputs": [
    {
     "data": {
      "text/plain": [
       "18311.0"
      ]
     },
     "execution_count": 238,
     "metadata": {},
     "output_type": "execute_result"
    }
   ],
   "source": [
    "s4.sum()"
   ]
  },
  {
   "cell_type": "code",
   "execution_count": 240,
   "id": "7ee0e537",
   "metadata": {},
   "outputs": [
    {
     "data": {
      "text/plain": [
       "178"
      ]
     },
     "execution_count": 240,
     "metadata": {},
     "output_type": "execute_result"
    }
   ],
   "source": [
    "s4.count()"
   ]
  },
  {
   "cell_type": "code",
   "execution_count": 241,
   "id": "bb55579e",
   "metadata": {},
   "outputs": [
    {
     "data": {
      "text/plain": [
       "102.87078651685393"
      ]
     },
     "execution_count": 241,
     "metadata": {},
     "output_type": "execute_result"
    }
   ],
   "source": [
    "s4.mean()"
   ]
  },
  {
   "cell_type": "code",
   "execution_count": 243,
   "id": "c4ca7bb1",
   "metadata": {},
   "outputs": [
    {
     "data": {
      "text/plain": [
       "60.0"
      ]
     },
     "execution_count": 243,
     "metadata": {},
     "output_type": "execute_result"
    }
   ],
   "source": [
    "s4.median()"
   ]
  },
  {
   "cell_type": "code",
   "execution_count": 244,
   "id": "3a22f6a8",
   "metadata": {},
   "outputs": [
    {
     "data": {
      "text/plain": [
       "<AxesSubplot:>"
      ]
     },
     "execution_count": 244,
     "metadata": {},
     "output_type": "execute_result"
    },
    {
     "data": {
      "image/png": "[encoded data removed]",
      "text/plain": [
       "<Figure size 432x288 with 1 Axes>"
      ]
     },
     "metadata": {
      "needs_background": "light"
     },
     "output_type": "display_data"
    }
   ],
   "source": [
    "s4.hist()"
   ]
  },
  {
   "cell_type": "code",
   "execution_count": 245,
   "id": "045b181c",
   "metadata": {},
   "outputs": [
    {
     "data": {
      "text/plain": [
       "60.0"
      ]
     },
     "execution_count": 245,
     "metadata": {},
     "output_type": "execute_result"
    }
   ],
   "source": [
    "s4.quantile(0.5)"
   ]
  },
  {
   "cell_type": "code",
   "execution_count": 246,
   "id": "a5b25414",
   "metadata": {},
   "outputs": [
    {
     "data": {
      "text/plain": [
       "151.5"
      ]
     },
     "execution_count": 246,
     "metadata": {},
     "output_type": "execute_result"
    }
   ],
   "source": [
    "s4.quantile(0.75)-s4.quantile(0.25)"
   ]
  },
  {
   "cell_type": "code",
   "execution_count": 248,
   "id": "36952e43",
   "metadata": {},
   "outputs": [
    {
     "data": {
      "text/plain": [
       "1.0"
      ]
     },
     "execution_count": 248,
     "metadata": {},
     "output_type": "execute_result"
    }
   ],
   "source": [
    "s4.min()"
   ]
  },
  {
   "cell_type": "code",
   "execution_count": 249,
   "id": "ffb7331d",
   "metadata": {},
   "outputs": [
    {
     "data": {
      "text/plain": [
       "376.0"
      ]
     },
     "execution_count": 249,
     "metadata": {},
     "output_type": "execute_result"
    }
   ],
   "source": [
    "s4.max()"
   ]
  },
  {
   "cell_type": "code",
   "execution_count": 251,
   "id": "15359eba",
   "metadata": {},
   "outputs": [
    {
     "data": {
      "text/plain": [
       "100.64571267934778"
      ]
     },
     "execution_count": 251,
     "metadata": {},
     "output_type": "execute_result"
    }
   ],
   "source": [
    "s4.std()"
   ]
  },
  {
   "cell_type": "code",
   "execution_count": 253,
   "id": "99e479c5",
   "metadata": {},
   "outputs": [
    {
     "data": {
      "text/plain": [
       "10129.559480733828"
      ]
     },
     "execution_count": 253,
     "metadata": {},
     "output_type": "execute_result"
    }
   ],
   "source": [
    "s4.var()"
   ]
  },
  {
   "cell_type": "code",
   "execution_count": 254,
   "id": "08658bfd",
   "metadata": {},
   "outputs": [
    {
     "data": {
      "text/plain": [
       "(str, object)"
      ]
     },
     "execution_count": 254,
     "metadata": {},
     "output_type": "execute_result"
    }
   ],
   "source": [
    "str.__mro__"
   ]
  },
  {
   "cell_type": "code",
   "execution_count": 255,
   "id": "214a92da",
   "metadata": {},
   "outputs": [
    {
     "data": {
      "text/plain": [
       "count    178.000000\n",
       "mean     102.870787\n",
       "std      100.645713\n",
       "min        1.000000\n",
       "25%       21.000000\n",
       "50%       60.000000\n",
       "75%      172.500000\n",
       "max      376.000000\n",
       "Name: beer_servings, dtype: float64"
      ]
     },
     "execution_count": 255,
     "metadata": {},
     "output_type": "execute_result"
    }
   ],
   "source": [
    "s4.describe()"
   ]
  },
  {
   "cell_type": "code",
   "execution_count": 256,
   "id": "254ee11f",
   "metadata": {},
   "outputs": [
    {
     "data": {
      "text/plain": [
       "0    5.0\n",
       "1    6.0\n",
       "2    9.0\n",
       "Name: beer_servings, dtype: float64"
      ]
     },
     "execution_count": 256,
     "metadata": {},
     "output_type": "execute_result"
    }
   ],
   "source": [
    "s4.mode()"
   ]
  },
  {
   "cell_type": "code",
   "execution_count": 257,
   "id": "d0755dd4",
   "metadata": {},
   "outputs": [
    {
     "data": {
      "text/plain": [
       "country\n",
       "Afghanistan    False\n",
       "Albania        False\n",
       "Algeria        False\n",
       "Andorra        False\n",
       "Angola         False\n",
       "               ...  \n",
       "Venezuela      False\n",
       "Vietnam        False\n",
       "Yemen          False\n",
       "Zambia         False\n",
       "Zimbabwe       False\n",
       "Name: beer_servings, Length: 193, dtype: bool"
      ]
     },
     "execution_count": 257,
     "metadata": {},
     "output_type": "execute_result"
    }
   ],
   "source": [
    "s4 == 1"
   ]
  },
  {
   "cell_type": "code",
   "execution_count": 259,
   "id": "7b93b665",
   "metadata": {},
   "outputs": [
    {
     "data": {
      "text/plain": [
       "country\n",
       "Indonesia    5.0\n",
       "Mali         5.0\n",
       "Myanmar      5.0\n",
       "Nepal        5.0\n",
       "Syria        5.0\n",
       "Name: beer_servings, dtype: float64"
      ]
     },
     "execution_count": 259,
     "metadata": {},
     "output_type": "execute_result"
    }
   ],
   "source": [
    "s4[s4 ==5]"
   ]
  },
  {
   "cell_type": "code",
   "execution_count": 261,
   "id": "c741116b",
   "metadata": {},
   "outputs": [
    {
     "data": {
      "text/plain": [
       "5"
      ]
     },
     "execution_count": 261,
     "metadata": {},
     "output_type": "execute_result"
    }
   ],
   "source": [
    "s4[s4 == 6].size"
   ]
  },
  {
   "cell_type": "code",
   "execution_count": 263,
   "id": "fe204c7d",
   "metadata": {},
   "outputs": [
    {
     "data": {
      "text/plain": [
       "5.0      5\n",
       "6.0      5\n",
       "9.0      5\n",
       "36.0     4\n",
       "31.0     4\n",
       "        ..\n",
       "127.0    1\n",
       "18.0     1\n",
       "92.0     1\n",
       "162.0    1\n",
       "64.0     1\n",
       "Name: beer_servings, Length: 116, dtype: int64"
      ]
     },
     "execution_count": 263,
     "metadata": {},
     "output_type": "execute_result"
    }
   ],
   "source": [
    "s4.value_counts()"
   ]
  },
  {
   "cell_type": "code",
   "execution_count": 264,
   "id": "cab2eb40",
   "metadata": {},
   "outputs": [
    {
     "data": {
      "text/plain": [
       "5.0      0.028090\n",
       "6.0      0.028090\n",
       "9.0      0.028090\n",
       "36.0     0.022472\n",
       "31.0     0.022472\n",
       "           ...   \n",
       "127.0    0.005618\n",
       "18.0     0.005618\n",
       "92.0     0.005618\n",
       "162.0    0.005618\n",
       "64.0     0.005618\n",
       "Name: beer_servings, Length: 116, dtype: float64"
      ]
     },
     "execution_count": 264,
     "metadata": {},
     "output_type": "execute_result"
    }
   ],
   "source": [
    "s4.value_counts(normalize =True)"
   ]
  },
  {
   "cell_type": "code",
   "execution_count": 266,
   "id": "f87d9da8",
   "metadata": {},
   "outputs": [
    {
     "data": {
      "text/plain": [
       "country\n",
       "Namibia    376.0\n",
       "Name: beer_servings, dtype: float64"
      ]
     },
     "execution_count": 266,
     "metadata": {},
     "output_type": "execute_result"
    }
   ],
   "source": [
    "s4[s4 == s4.max()]"
   ]
  },
  {
   "cell_type": "code",
   "execution_count": 267,
   "id": "4a06534d",
   "metadata": {},
   "outputs": [
    {
     "data": {
      "text/plain": [
       "country\n",
       "Comoros        1.0\n",
       "Haiti          1.0\n",
       "Qatar          1.0\n",
       "Timor-Leste    1.0\n",
       "Name: beer_servings, dtype: float64"
      ]
     },
     "execution_count": 267,
     "metadata": {},
     "output_type": "execute_result"
    }
   ],
   "source": [
    "s4[s4 == s4.min()]"
   ]
  },
  {
   "cell_type": "code",
   "execution_count": 268,
   "id": "bbe48fb4",
   "metadata": {},
   "outputs": [
    {
     "data": {
      "text/plain": [
       "'Namibia'"
      ]
     },
     "execution_count": 268,
     "metadata": {},
     "output_type": "execute_result"
    }
   ],
   "source": [
    "s4.idxmax()"
   ]
  },
  {
   "cell_type": "code",
   "execution_count": 269,
   "id": "32461226",
   "metadata": {},
   "outputs": [
    {
     "data": {
      "text/plain": [
       "'Comoros'"
      ]
     },
     "execution_count": 269,
     "metadata": {},
     "output_type": "execute_result"
    }
   ],
   "source": [
    "s4.idxmin()"
   ]
  },
  {
   "cell_type": "code",
   "execution_count": 270,
   "id": "38c0eb77",
   "metadata": {},
   "outputs": [
    {
     "data": {
      "text/plain": [
       "country\n",
       "Comoros         1.0\n",
       "Timor-Leste     1.0\n",
       "Qatar           1.0\n",
       "Haiti           1.0\n",
       "Lebanon         2.0\n",
       "               ... \n",
       "Monaco          NaN\n",
       "Pakistan        NaN\n",
       "San Marino      NaN\n",
       "Saudi Arabia    NaN\n",
       "Somalia         NaN\n",
       "Name: beer_servings, Length: 193, dtype: float64"
      ]
     },
     "execution_count": 270,
     "metadata": {},
     "output_type": "execute_result"
    }
   ],
   "source": [
    "s4.sort_values()"
   ]
  },
  {
   "cell_type": "code",
   "execution_count": 272,
   "id": "5611c64c",
   "metadata": {},
   "outputs": [
    {
     "data": {
      "text/plain": [
       "country\n",
       "Namibia           376.0\n",
       "Czech Republic    361.0\n",
       "Gabon             347.0\n",
       "Germany           346.0\n",
       "Poland            343.0\n",
       "                  ...  \n",
       "Monaco              NaN\n",
       "Pakistan            NaN\n",
       "San Marino          NaN\n",
       "Saudi Arabia        NaN\n",
       "Somalia             NaN\n",
       "Name: beer_servings, Length: 193, dtype: float64"
      ]
     },
     "execution_count": 272,
     "metadata": {},
     "output_type": "execute_result"
    }
   ],
   "source": [
    "s4.sort_values(ascending = False)"
   ]
  },
  {
   "cell_type": "code",
   "execution_count": null,
   "id": "a5ef75e3",
   "metadata": {},
   "outputs": [],
   "source": []
  }
 ],
 "metadata": {
  "kernelspec": {
   "display_name": "Python 3 (ipykernel)",
   "language": "python",
   "name": "python3"
  },
  "language_info": {
   "codemirror_mode": {
    "name": "ipython",
    "version": 3
   },
   "file_extension": ".py",
   "mimetype": "text/x-python",
   "name": "python",
   "nbconvert_exporter": "python",
   "pygments_lexer": "ipython3",
   "version": "3.9.12"
  }
 },
 "nbformat": 4,
 "nbformat_minor": 5
}
