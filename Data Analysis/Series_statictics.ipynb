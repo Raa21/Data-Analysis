{
 "cells": [
  {
   "cell_type": "code",
   "execution_count": 1,
   "id": "007d53ee",
   "metadata": {},
   "outputs": [],
   "source": [
    "import pandas as pd"
   ]
  },
  {
   "cell_type": "code",
   "execution_count": 2,
   "id": "2161badf",
   "metadata": {},
   "outputs": [
    {
     "data": {
      "text/html": [
       "<div>\n",
       "<style scoped>\n",
       "    .dataframe tbody tr th:only-of-type {\n",
       "        vertical-align: middle;\n",
       "    }\n",
       "\n",
       "    .dataframe tbody tr th {\n",
       "        vertical-align: top;\n",
       "    }\n",
       "\n",
       "    .dataframe thead th {\n",
       "        text-align: right;\n",
       "    }\n",
       "</style>\n",
       "<table border=\"1\" class=\"dataframe\">\n",
       "  <thead>\n",
       "    <tr style=\"text-align: right;\">\n",
       "      <th></th>\n",
       "      <th>country</th>\n",
       "      <th>beer_servings</th>\n",
       "      <th>spirit_servings</th>\n",
       "      <th>wine_servings</th>\n",
       "      <th>total_litres_of_pure_alcohol</th>\n",
       "    </tr>\n",
       "  </thead>\n",
       "  <tbody>\n",
       "    <tr>\n",
       "      <th>0</th>\n",
       "      <td>Afghanistan</td>\n",
       "      <td>NaN</td>\n",
       "      <td>NaN</td>\n",
       "      <td>NaN</td>\n",
       "      <td>NaN</td>\n",
       "    </tr>\n",
       "    <tr>\n",
       "      <th>1</th>\n",
       "      <td>Albania</td>\n",
       "      <td>89.0</td>\n",
       "      <td>132.0</td>\n",
       "      <td>54.0</td>\n",
       "      <td>4.9</td>\n",
       "    </tr>\n",
       "    <tr>\n",
       "      <th>2</th>\n",
       "      <td>Algeria</td>\n",
       "      <td>25.0</td>\n",
       "      <td>NaN</td>\n",
       "      <td>14.0</td>\n",
       "      <td>0.7</td>\n",
       "    </tr>\n",
       "    <tr>\n",
       "      <th>3</th>\n",
       "      <td>Andorra</td>\n",
       "      <td>245.0</td>\n",
       "      <td>138.0</td>\n",
       "      <td>312.0</td>\n",
       "      <td>12.4</td>\n",
       "    </tr>\n",
       "    <tr>\n",
       "      <th>4</th>\n",
       "      <td>Angola</td>\n",
       "      <td>217.0</td>\n",
       "      <td>57.0</td>\n",
       "      <td>45.0</td>\n",
       "      <td>5.9</td>\n",
       "    </tr>\n",
       "    <tr>\n",
       "      <th>...</th>\n",
       "      <td>...</td>\n",
       "      <td>...</td>\n",
       "      <td>...</td>\n",
       "      <td>...</td>\n",
       "      <td>...</td>\n",
       "    </tr>\n",
       "    <tr>\n",
       "      <th>188</th>\n",
       "      <td>Venezuela</td>\n",
       "      <td>333.0</td>\n",
       "      <td>1.0</td>\n",
       "      <td>3.0</td>\n",
       "      <td>7.7</td>\n",
       "    </tr>\n",
       "    <tr>\n",
       "      <th>189</th>\n",
       "      <td>Vietnam</td>\n",
       "      <td>111.0</td>\n",
       "      <td>2.0</td>\n",
       "      <td>1.0</td>\n",
       "      <td>2.0</td>\n",
       "    </tr>\n",
       "    <tr>\n",
       "      <th>190</th>\n",
       "      <td>Yemen</td>\n",
       "      <td>6.0</td>\n",
       "      <td>NaN</td>\n",
       "      <td>NaN</td>\n",
       "      <td>0.1</td>\n",
       "    </tr>\n",
       "    <tr>\n",
       "      <th>191</th>\n",
       "      <td>Zambia</td>\n",
       "      <td>32.0</td>\n",
       "      <td>19.0</td>\n",
       "      <td>4.0</td>\n",
       "      <td>2.5</td>\n",
       "    </tr>\n",
       "    <tr>\n",
       "      <th>192</th>\n",
       "      <td>Zimbabwe</td>\n",
       "      <td>64.0</td>\n",
       "      <td>18.0</td>\n",
       "      <td>4.0</td>\n",
       "      <td>4.7</td>\n",
       "    </tr>\n",
       "  </tbody>\n",
       "</table>\n",
       "<p>193 rows × 5 columns</p>\n",
       "</div>"
      ],
      "text/plain": [
       "         country  beer_servings  spirit_servings  wine_servings  \\\n",
       "0    Afghanistan            NaN              NaN            NaN   \n",
       "1        Albania           89.0            132.0           54.0   \n",
       "2        Algeria           25.0              NaN           14.0   \n",
       "3        Andorra          245.0            138.0          312.0   \n",
       "4         Angola          217.0             57.0           45.0   \n",
       "..           ...            ...              ...            ...   \n",
       "188    Venezuela          333.0              1.0            3.0   \n",
       "189      Vietnam          111.0              2.0            1.0   \n",
       "190        Yemen            6.0              NaN            NaN   \n",
       "191       Zambia           32.0             19.0            4.0   \n",
       "192     Zimbabwe           64.0             18.0            4.0   \n",
       "\n",
       "     total_litres_of_pure_alcohol  \n",
       "0                             NaN  \n",
       "1                             4.9  \n",
       "2                             0.7  \n",
       "3                            12.4  \n",
       "4                             5.9  \n",
       "..                            ...  \n",
       "188                           7.7  \n",
       "189                           2.0  \n",
       "190                           0.1  \n",
       "191                           2.5  \n",
       "192                           4.7  \n",
       "\n",
       "[193 rows x 5 columns]"
      ]
     },
     "execution_count": 2,
     "metadata": {},
     "output_type": "execute_result"
    }
   ],
   "source": [
    "df = pd.read_csv(\"C:/Users/rajen/Data Analysis/drinks.csv\")\n",
    "df"
   ]
  },
  {
   "cell_type": "code",
   "execution_count": 3,
   "id": "305e617d",
   "metadata": {},
   "outputs": [
    {
     "data": {
      "text/html": [
       "<div>\n",
       "<style scoped>\n",
       "    .dataframe tbody tr th:only-of-type {\n",
       "        vertical-align: middle;\n",
       "    }\n",
       "\n",
       "    .dataframe tbody tr th {\n",
       "        vertical-align: top;\n",
       "    }\n",
       "\n",
       "    .dataframe thead th {\n",
       "        text-align: right;\n",
       "    }\n",
       "</style>\n",
       "<table border=\"1\" class=\"dataframe\">\n",
       "  <thead>\n",
       "    <tr style=\"text-align: right;\">\n",
       "      <th></th>\n",
       "      <th>wine_servings</th>\n",
       "    </tr>\n",
       "    <tr>\n",
       "      <th>country</th>\n",
       "      <th></th>\n",
       "    </tr>\n",
       "  </thead>\n",
       "  <tbody>\n",
       "    <tr>\n",
       "      <th>Afghanistan</th>\n",
       "      <td>NaN</td>\n",
       "    </tr>\n",
       "    <tr>\n",
       "      <th>Albania</th>\n",
       "      <td>54.0</td>\n",
       "    </tr>\n",
       "    <tr>\n",
       "      <th>Algeria</th>\n",
       "      <td>14.0</td>\n",
       "    </tr>\n",
       "    <tr>\n",
       "      <th>Andorra</th>\n",
       "      <td>312.0</td>\n",
       "    </tr>\n",
       "    <tr>\n",
       "      <th>Angola</th>\n",
       "      <td>45.0</td>\n",
       "    </tr>\n",
       "    <tr>\n",
       "      <th>...</th>\n",
       "      <td>...</td>\n",
       "    </tr>\n",
       "    <tr>\n",
       "      <th>Venezuela</th>\n",
       "      <td>3.0</td>\n",
       "    </tr>\n",
       "    <tr>\n",
       "      <th>Vietnam</th>\n",
       "      <td>1.0</td>\n",
       "    </tr>\n",
       "    <tr>\n",
       "      <th>Yemen</th>\n",
       "      <td>NaN</td>\n",
       "    </tr>\n",
       "    <tr>\n",
       "      <th>Zambia</th>\n",
       "      <td>4.0</td>\n",
       "    </tr>\n",
       "    <tr>\n",
       "      <th>Zimbabwe</th>\n",
       "      <td>4.0</td>\n",
       "    </tr>\n",
       "  </tbody>\n",
       "</table>\n",
       "<p>193 rows × 1 columns</p>\n",
       "</div>"
      ],
      "text/plain": [
       "             wine_servings\n",
       "country                   \n",
       "Afghanistan            NaN\n",
       "Albania               54.0\n",
       "Algeria               14.0\n",
       "Andorra              312.0\n",
       "Angola                45.0\n",
       "...                    ...\n",
       "Venezuela              3.0\n",
       "Vietnam                1.0\n",
       "Yemen                  NaN\n",
       "Zambia                 4.0\n",
       "Zimbabwe               4.0\n",
       "\n",
       "[193 rows x 1 columns]"
      ]
     },
     "execution_count": 3,
     "metadata": {},
     "output_type": "execute_result"
    }
   ],
   "source": [
    "ser =  pd.read_csv(\"C:/Users/rajen/Data Analysis/drinks.csv\", usecols = ['country','wine_servings'], index_col = 'country')\n",
    "ser"
   ]
  },
  {
   "cell_type": "code",
   "execution_count": 4,
   "id": "356a9ff7",
   "metadata": {},
   "outputs": [
    {
     "data": {
      "text/plain": [
       "country\n",
       "Afghanistan      NaN\n",
       "Albania         54.0\n",
       "Algeria         14.0\n",
       "Andorra        312.0\n",
       "Angola          45.0\n",
       "               ...  \n",
       "Venezuela        3.0\n",
       "Vietnam          1.0\n",
       "Yemen            NaN\n",
       "Zambia           4.0\n",
       "Zimbabwe         4.0\n",
       "Name: wine_servings, Length: 193, dtype: float64"
      ]
     },
     "execution_count": 4,
     "metadata": {},
     "output_type": "execute_result"
    }
   ],
   "source": [
    "ser1 = ser.squeeze()\n",
    "ser1"
   ]
  },
  {
   "cell_type": "code",
   "execution_count": 5,
   "id": "22caa290",
   "metadata": {},
   "outputs": [
    {
     "data": {
      "text/plain": [
       "162"
      ]
     },
     "execution_count": 5,
     "metadata": {},
     "output_type": "execute_result"
    }
   ],
   "source": [
    "wine_servings = ser1.loc[ser1.notnull()]\n",
    "wine_servings.values.size"
   ]
  },
  {
   "cell_type": "code",
   "execution_count": 6,
   "id": "4f5854ad",
   "metadata": {},
   "outputs": [
    {
     "data": {
      "text/plain": [
       "country\n",
       "Albania                54.0\n",
       "Andorra               312.0\n",
       "Argentina             221.0\n",
       "Australia             212.0\n",
       "Austria               191.0\n",
       "Bahamas                51.0\n",
       "Belgium               212.0\n",
       "Bulgaria               94.0\n",
       "Chile                 172.0\n",
       "Cook Islands           74.0\n",
       "Croatia               254.0\n",
       "Cyprus                113.0\n",
       "Czech Republic        134.0\n",
       "Denmark               278.0\n",
       "Equatorial Guinea     233.0\n",
       "Estonia                59.0\n",
       "Finland                97.0\n",
       "Gabon                  59.0\n",
       "Georgia               149.0\n",
       "Germany               175.0\n",
       "Greece                218.0\n",
       "Hungary               185.0\n",
       "Iceland                78.0\n",
       "Ireland               165.0\n",
       "Italy                 237.0\n",
       "Laos                  123.0\n",
       "Latvia                 62.0\n",
       "Lithuania              56.0\n",
       "Luxembourg            271.0\n",
       "Montenegro            128.0\n",
       "New Zealand           175.0\n",
       "Norway                129.0\n",
       "Paraguay               74.0\n",
       "Poland                 56.0\n",
       "Portugal              339.0\n",
       "Romania               167.0\n",
       "Russian Federation     73.0\n",
       "St. Lucia              71.0\n",
       "Serbia                127.0\n",
       "Seychelles             51.0\n",
       "Slovakia              116.0\n",
       "Slovenia              276.0\n",
       "South Africa           81.0\n",
       "Spain                 112.0\n",
       "Sweden                186.0\n",
       "Macedonia              86.0\n",
       "United Kingdom        195.0\n",
       "USA                    84.0\n",
       "Name: wine_servings, dtype: float64"
      ]
     },
     "execution_count": 6,
     "metadata": {},
     "output_type": "execute_result"
    }
   ],
   "source": [
    "fifty_values = wine_servings.loc[wine_servings.values > 50]\n",
    "fifty_values"
   ]
  },
  {
   "cell_type": "code",
   "execution_count": 7,
   "id": "d8e43a3f",
   "metadata": {},
   "outputs": [
    {
     "data": {
      "text/plain": [
       "country\n",
       "Seychelles             51.0\n",
       "Bahamas                51.0\n",
       "Albania                54.0\n",
       "Poland                 56.0\n",
       "Lithuania              56.0\n",
       "Gabon                  59.0\n",
       "Estonia                59.0\n",
       "Latvia                 62.0\n",
       "St. Lucia              71.0\n",
       "Russian Federation     73.0\n",
       "Paraguay               74.0\n",
       "Cook Islands           74.0\n",
       "Iceland                78.0\n",
       "South Africa           81.0\n",
       "USA                    84.0\n",
       "Macedonia              86.0\n",
       "Bulgaria               94.0\n",
       "Finland                97.0\n",
       "Spain                 112.0\n",
       "Cyprus                113.0\n",
       "Slovakia              116.0\n",
       "Laos                  123.0\n",
       "Serbia                127.0\n",
       "Montenegro            128.0\n",
       "Norway                129.0\n",
       "Czech Republic        134.0\n",
       "Georgia               149.0\n",
       "Ireland               165.0\n",
       "Romania               167.0\n",
       "Chile                 172.0\n",
       "New Zealand           175.0\n",
       "Germany               175.0\n",
       "Hungary               185.0\n",
       "Sweden                186.0\n",
       "Austria               191.0\n",
       "United Kingdom        195.0\n",
       "Australia             212.0\n",
       "Belgium               212.0\n",
       "Greece                218.0\n",
       "Argentina             221.0\n",
       "Equatorial Guinea     233.0\n",
       "Italy                 237.0\n",
       "Croatia               254.0\n",
       "Luxembourg            271.0\n",
       "Slovenia              276.0\n",
       "Denmark               278.0\n",
       "Andorra               312.0\n",
       "Portugal              339.0\n",
       "Name: wine_servings, dtype: float64"
      ]
     },
     "execution_count": 7,
     "metadata": {},
     "output_type": "execute_result"
    }
   ],
   "source": [
    "fifty_values.sort_values()"
   ]
  },
  {
   "cell_type": "code",
   "execution_count": 8,
   "id": "64c78c4a",
   "metadata": {},
   "outputs": [],
   "source": [
    "small_20 = fifty_values.sort_values().head(20)"
   ]
  },
  {
   "cell_type": "code",
   "execution_count": 9,
   "id": "ed3f59cb",
   "metadata": {},
   "outputs": [
    {
     "data": {
      "text/plain": [
       "country\n",
       "Seychelles             51.0\n",
       "Bahamas                51.0\n",
       "Albania                54.0\n",
       "Poland                 56.0\n",
       "Lithuania              56.0\n",
       "Gabon                  59.0\n",
       "Estonia                59.0\n",
       "Latvia                 62.0\n",
       "St. Lucia              71.0\n",
       "Russian Federation     73.0\n",
       "Paraguay               74.0\n",
       "Cook Islands           74.0\n",
       "Iceland                78.0\n",
       "South Africa           81.0\n",
       "USA                    84.0\n",
       "Macedonia              86.0\n",
       "Bulgaria               94.0\n",
       "Finland                97.0\n",
       "Spain                 112.0\n",
       "Cyprus                113.0\n",
       "Name: wine_servings, dtype: float64"
      ]
     },
     "execution_count": 9,
     "metadata": {},
     "output_type": "execute_result"
    }
   ],
   "source": [
    "small_20"
   ]
  },
  {
   "cell_type": "code",
   "execution_count": 10,
   "id": "662034bb",
   "metadata": {},
   "outputs": [
    {
     "data": {
      "text/plain": [
       "74.25"
      ]
     },
     "execution_count": 10,
     "metadata": {},
     "output_type": "execute_result"
    }
   ],
   "source": [
    "small_20.mean()"
   ]
  },
  {
   "cell_type": "code",
   "execution_count": 20,
   "id": "6bed09d8",
   "metadata": {},
   "outputs": [
    {
     "data": {
      "text/plain": [
       "73.5"
      ]
     },
     "execution_count": 20,
     "metadata": {},
     "output_type": "execute_result"
    }
   ],
   "source": [
    "small_20.median()"
   ]
  },
  {
   "cell_type": "code",
   "execution_count": 21,
   "id": "cb4e377a",
   "metadata": {},
   "outputs": [
    {
     "data": {
      "text/plain": [
       "19.07292100831631"
      ]
     },
     "execution_count": 21,
     "metadata": {},
     "output_type": "execute_result"
    }
   ],
   "source": [
    "small_20.std()"
   ]
  },
  {
   "cell_type": "code",
   "execution_count": 22,
   "id": "b4b21bf2",
   "metadata": {},
   "outputs": [
    {
     "data": {
      "text/plain": [
       "count     20.000000\n",
       "mean      74.250000\n",
       "std       19.072921\n",
       "min       51.000000\n",
       "25%       58.250000\n",
       "50%       73.500000\n",
       "75%       84.500000\n",
       "max      113.000000\n",
       "Name: wine_servings, dtype: float64"
      ]
     },
     "execution_count": 22,
     "metadata": {},
     "output_type": "execute_result"
    }
   ],
   "source": [
    "small_20.describe()"
   ]
  },
  {
   "cell_type": "code",
   "execution_count": 23,
   "id": "3963ee16",
   "metadata": {},
   "outputs": [
    {
     "data": {
      "text/plain": [
       "<AxesSubplot:>"
      ]
     },
     "execution_count": 23,
     "metadata": {},
     "output_type": "execute_result"
    },
    {
     "data": {
      "image/png": "[encoded data removed]",
      "text/plain": [
       "<Figure size 432x288 with 1 Axes>"
      ]
     },
     "metadata": {
      "needs_background": "light"
     },
     "output_type": "display_data"
    }
   ],
   "source": [
    "small_20.hist()"
   ]
  },
  {
   "cell_type": "code",
   "execution_count": 24,
   "id": "3cdb6fec",
   "metadata": {},
   "outputs": [
    {
     "data": {
      "text/plain": [
       "0    51.0\n",
       "1    56.0\n",
       "2    59.0\n",
       "3    74.0\n",
       "Name: wine_servings, dtype: float64"
      ]
     },
     "execution_count": 24,
     "metadata": {},
     "output_type": "execute_result"
    }
   ],
   "source": [
    "small_20.mode()"
   ]
  },
  {
   "cell_type": "code",
   "execution_count": 25,
   "id": "3a6e5cf8",
   "metadata": {},
   "outputs": [
    {
     "data": {
      "text/plain": [
       "country\n",
       "Bahamas               51.0\n",
       "Seychelles            51.0\n",
       "Albania               54.0\n",
       "Lithuania             56.0\n",
       "Poland                56.0\n",
       "Estonia               59.0\n",
       "Gabon                 59.0\n",
       "Latvia                62.0\n",
       "St. Lucia             71.0\n",
       "Russian Federation    73.0\n",
       "Name: wine_servings, dtype: float64"
      ]
     },
     "execution_count": 25,
     "metadata": {},
     "output_type": "execute_result"
    }
   ],
   "source": [
    "fifty_values.nsmallest(n = 10)"
   ]
  },
  {
   "cell_type": "code",
   "execution_count": 26,
   "id": "2c4c0160",
   "metadata": {},
   "outputs": [
    {
     "data": {
      "text/plain": [
       "country\n",
       "Portugal             339.0\n",
       "Andorra              312.0\n",
       "Denmark              278.0\n",
       "Slovenia             276.0\n",
       "Luxembourg           271.0\n",
       "Croatia              254.0\n",
       "Italy                237.0\n",
       "Equatorial Guinea    233.0\n",
       "Argentina            221.0\n",
       "Greece               218.0\n",
       "Name: wine_servings, dtype: float64"
      ]
     },
     "execution_count": 26,
     "metadata": {},
     "output_type": "execute_result"
    }
   ],
   "source": [
    "fifty_values.nlargest(n = 10)"
   ]
  },
  {
   "cell_type": "code",
   "execution_count": 30,
   "id": "f1d92e38",
   "metadata": {},
   "outputs": [
    {
     "data": {
      "text/plain": [
       "51.0    2\n",
       "56.0    2\n",
       "59.0    2\n",
       "54.0    1\n",
       "62.0    1\n",
       "71.0    1\n",
       "73.0    1\n",
       "Name: wine_servings, dtype: int64"
      ]
     },
     "execution_count": 30,
     "metadata": {},
     "output_type": "execute_result"
    }
   ],
   "source": [
    "fifty_values.nsmallest(n = 10).value_counts()"
   ]
  },
  {
   "cell_type": "code",
   "execution_count": 39,
   "id": "b3fdd37d",
   "metadata": {},
   "outputs": [
    {
     "data": {
      "text/plain": [
       "339.0"
      ]
     },
     "execution_count": 39,
     "metadata": {},
     "output_type": "execute_result"
    }
   ],
   "source": [
    "fifty_values.loc[fifty_values.idxmax()]"
   ]
  },
  {
   "cell_type": "code",
   "execution_count": 38,
   "id": "e3036dc4",
   "metadata": {},
   "outputs": [
    {
     "data": {
      "text/plain": [
       "'Portugal'"
      ]
     },
     "execution_count": 38,
     "metadata": {},
     "output_type": "execute_result"
    }
   ],
   "source": [
    "fifty_values.idxmax()"
   ]
  },
  {
   "cell_type": "code",
   "execution_count": 41,
   "id": "b7df5406",
   "metadata": {},
   "outputs": [
    {
     "data": {
      "text/plain": [
       "'Bahamas'"
      ]
     },
     "execution_count": 41,
     "metadata": {},
     "output_type": "execute_result"
    }
   ],
   "source": [
    "fifty_values.idxmin()"
   ]
  },
  {
   "cell_type": "code",
   "execution_count": 11,
   "id": "8c88290e",
   "metadata": {},
   "outputs": [
    {
     "data": {
      "text/plain": [
       "country\n",
       "Albania                54.0\n",
       "Andorra               312.0\n",
       "Argentina             221.0\n",
       "Australia             212.0\n",
       "Austria               191.0\n",
       "Bahamas                51.0\n",
       "Belgium               212.0\n",
       "Bulgaria               94.0\n",
       "Chile                 172.0\n",
       "Cook Islands           74.0\n",
       "Croatia               254.0\n",
       "Cyprus                113.0\n",
       "Czech Republic        134.0\n",
       "Denmark               278.0\n",
       "Equatorial Guinea     233.0\n",
       "Estonia                59.0\n",
       "Finland                97.0\n",
       "Gabon                  59.0\n",
       "Georgia               149.0\n",
       "Germany               175.0\n",
       "Greece                218.0\n",
       "Hungary               185.0\n",
       "Iceland                78.0\n",
       "Ireland               165.0\n",
       "Italy                 237.0\n",
       "Laos                  123.0\n",
       "Latvia                 62.0\n",
       "Lithuania              56.0\n",
       "Luxembourg            271.0\n",
       "Montenegro            128.0\n",
       "New Zealand           175.0\n",
       "Norway                129.0\n",
       "Paraguay               74.0\n",
       "Poland                 56.0\n",
       "Portugal              339.0\n",
       "Romania               167.0\n",
       "Russian Federation     73.0\n",
       "St. Lucia              71.0\n",
       "Serbia                127.0\n",
       "Seychelles             51.0\n",
       "Slovakia              116.0\n",
       "Slovenia              276.0\n",
       "South Africa           81.0\n",
       "Spain                 112.0\n",
       "Sweden                186.0\n",
       "Macedonia              86.0\n",
       "United Kingdom        195.0\n",
       "USA                    84.0\n",
       "Name: wine_servings, dtype: float64"
      ]
     },
     "execution_count": 11,
     "metadata": {},
     "output_type": "execute_result"
    }
   ],
   "source": [
    "fifty_values"
   ]
  },
  {
   "cell_type": "code",
   "execution_count": 13,
   "id": "b97c339f",
   "metadata": {},
   "outputs": [
    {
     "data": {
      "text/plain": [
       "country\n",
       "Albania                64.0\n",
       "Andorra               322.0\n",
       "Argentina             231.0\n",
       "Australia             222.0\n",
       "Austria               201.0\n",
       "Bahamas                61.0\n",
       "Belgium               222.0\n",
       "Bulgaria              104.0\n",
       "Chile                 182.0\n",
       "Cook Islands           84.0\n",
       "Croatia               264.0\n",
       "Cyprus                123.0\n",
       "Czech Republic        144.0\n",
       "Denmark               288.0\n",
       "Equatorial Guinea     243.0\n",
       "Estonia                69.0\n",
       "Finland               107.0\n",
       "Gabon                  69.0\n",
       "Georgia               159.0\n",
       "Germany               185.0\n",
       "Greece                228.0\n",
       "Hungary               195.0\n",
       "Iceland                88.0\n",
       "Ireland               175.0\n",
       "Italy                 247.0\n",
       "Laos                  133.0\n",
       "Latvia                 72.0\n",
       "Lithuania              66.0\n",
       "Luxembourg            281.0\n",
       "Montenegro            138.0\n",
       "New Zealand           185.0\n",
       "Norway                139.0\n",
       "Paraguay               84.0\n",
       "Poland                 66.0\n",
       "Portugal              349.0\n",
       "Romania               177.0\n",
       "Russian Federation     83.0\n",
       "St. Lucia              81.0\n",
       "Serbia                137.0\n",
       "Seychelles             61.0\n",
       "Slovakia              126.0\n",
       "Slovenia              286.0\n",
       "South Africa           91.0\n",
       "Spain                 122.0\n",
       "Sweden                196.0\n",
       "Macedonia              96.0\n",
       "United Kingdom        205.0\n",
       "USA                    94.0\n",
       "Name: wine_servings, dtype: float64"
      ]
     },
     "execution_count": 13,
     "metadata": {},
     "output_type": "execute_result"
    }
   ],
   "source": [
    "fifty_values +10"
   ]
  },
  {
   "cell_type": "code",
   "execution_count": 17,
   "id": "551b17fc",
   "metadata": {},
   "outputs": [],
   "source": [
    "more_drinks = pd.Series({'Albania':16,'Alberia':100,'Yemen':150,'USA':25})"
   ]
  },
  {
   "cell_type": "code",
   "execution_count": 18,
   "id": "f85f0994",
   "metadata": {},
   "outputs": [
    {
     "data": {
      "text/plain": [
       "Albania                70.0\n",
       "Alberia                 NaN\n",
       "Andorra                 NaN\n",
       "Argentina               NaN\n",
       "Australia               NaN\n",
       "Austria                 NaN\n",
       "Bahamas                 NaN\n",
       "Belgium                 NaN\n",
       "Bulgaria                NaN\n",
       "Chile                   NaN\n",
       "Cook Islands            NaN\n",
       "Croatia                 NaN\n",
       "Cyprus                  NaN\n",
       "Czech Republic          NaN\n",
       "Denmark                 NaN\n",
       "Equatorial Guinea       NaN\n",
       "Estonia                 NaN\n",
       "Finland                 NaN\n",
       "Gabon                   NaN\n",
       "Georgia                 NaN\n",
       "Germany                 NaN\n",
       "Greece                  NaN\n",
       "Hungary                 NaN\n",
       "Iceland                 NaN\n",
       "Ireland                 NaN\n",
       "Italy                   NaN\n",
       "Laos                    NaN\n",
       "Latvia                  NaN\n",
       "Lithuania               NaN\n",
       "Luxembourg              NaN\n",
       "Macedonia               NaN\n",
       "Montenegro              NaN\n",
       "New Zealand             NaN\n",
       "Norway                  NaN\n",
       "Paraguay                NaN\n",
       "Poland                  NaN\n",
       "Portugal                NaN\n",
       "Romania                 NaN\n",
       "Russian Federation      NaN\n",
       "Serbia                  NaN\n",
       "Seychelles              NaN\n",
       "Slovakia                NaN\n",
       "Slovenia                NaN\n",
       "South Africa            NaN\n",
       "Spain                   NaN\n",
       "St. Lucia               NaN\n",
       "Sweden                  NaN\n",
       "USA                   109.0\n",
       "United Kingdom          NaN\n",
       "Yemen                   NaN\n",
       "dtype: float64"
      ]
     },
     "execution_count": 18,
     "metadata": {},
     "output_type": "execute_result"
    }
   ],
   "source": [
    "fifty_values + more_drinks"
   ]
  },
  {
   "cell_type": "code",
   "execution_count": 19,
   "id": "3a3f9d04",
   "metadata": {},
   "outputs": [
    {
     "data": {
      "text/plain": [
       "Albania                70.0\n",
       "Alberia               100.0\n",
       "Andorra               312.0\n",
       "Argentina             221.0\n",
       "Australia             212.0\n",
       "Austria               191.0\n",
       "Bahamas                51.0\n",
       "Belgium               212.0\n",
       "Bulgaria               94.0\n",
       "Chile                 172.0\n",
       "Cook Islands           74.0\n",
       "Croatia               254.0\n",
       "Cyprus                113.0\n",
       "Czech Republic        134.0\n",
       "Denmark               278.0\n",
       "Equatorial Guinea     233.0\n",
       "Estonia                59.0\n",
       "Finland                97.0\n",
       "Gabon                  59.0\n",
       "Georgia               149.0\n",
       "Germany               175.0\n",
       "Greece                218.0\n",
       "Hungary               185.0\n",
       "Iceland                78.0\n",
       "Ireland               165.0\n",
       "Italy                 237.0\n",
       "Laos                  123.0\n",
       "Latvia                 62.0\n",
       "Lithuania              56.0\n",
       "Luxembourg            271.0\n",
       "Macedonia              86.0\n",
       "Montenegro            128.0\n",
       "New Zealand           175.0\n",
       "Norway                129.0\n",
       "Paraguay               74.0\n",
       "Poland                 56.0\n",
       "Portugal              339.0\n",
       "Romania               167.0\n",
       "Russian Federation     73.0\n",
       "Serbia                127.0\n",
       "Seychelles             51.0\n",
       "Slovakia              116.0\n",
       "Slovenia              276.0\n",
       "South Africa           81.0\n",
       "Spain                 112.0\n",
       "St. Lucia              71.0\n",
       "Sweden                186.0\n",
       "USA                   109.0\n",
       "United Kingdom        195.0\n",
       "Yemen                 150.0\n",
       "dtype: float64"
      ]
     },
     "execution_count": 19,
     "metadata": {},
     "output_type": "execute_result"
    }
   ],
   "source": [
    "fifty_values.add(more_drinks, fill_value = 0)"
   ]
  },
  {
   "cell_type": "code",
   "execution_count": 20,
   "id": "c13b0936",
   "metadata": {},
   "outputs": [
    {
     "data": {
      "text/plain": [
       "Albania               38.0\n",
       "Alberia                NaN\n",
       "Andorra                NaN\n",
       "Argentina              NaN\n",
       "Australia              NaN\n",
       "Austria                NaN\n",
       "Bahamas                NaN\n",
       "Belgium                NaN\n",
       "Bulgaria               NaN\n",
       "Chile                  NaN\n",
       "Cook Islands           NaN\n",
       "Croatia                NaN\n",
       "Cyprus                 NaN\n",
       "Czech Republic         NaN\n",
       "Denmark                NaN\n",
       "Equatorial Guinea      NaN\n",
       "Estonia                NaN\n",
       "Finland                NaN\n",
       "Gabon                  NaN\n",
       "Georgia                NaN\n",
       "Germany                NaN\n",
       "Greece                 NaN\n",
       "Hungary                NaN\n",
       "Iceland                NaN\n",
       "Ireland                NaN\n",
       "Italy                  NaN\n",
       "Laos                   NaN\n",
       "Latvia                 NaN\n",
       "Lithuania              NaN\n",
       "Luxembourg             NaN\n",
       "Macedonia              NaN\n",
       "Montenegro             NaN\n",
       "New Zealand            NaN\n",
       "Norway                 NaN\n",
       "Paraguay               NaN\n",
       "Poland                 NaN\n",
       "Portugal               NaN\n",
       "Romania                NaN\n",
       "Russian Federation     NaN\n",
       "Serbia                 NaN\n",
       "Seychelles             NaN\n",
       "Slovakia               NaN\n",
       "Slovenia               NaN\n",
       "South Africa           NaN\n",
       "Spain                  NaN\n",
       "St. Lucia              NaN\n",
       "Sweden                 NaN\n",
       "USA                   59.0\n",
       "United Kingdom         NaN\n",
       "Yemen                  NaN\n",
       "dtype: float64"
      ]
     },
     "execution_count": 20,
     "metadata": {},
     "output_type": "execute_result"
    }
   ],
   "source": [
    "fifty_values - more_drinks"
   ]
  },
  {
   "cell_type": "code",
   "execution_count": 21,
   "id": "914594f8",
   "metadata": {},
   "outputs": [
    {
     "data": {
      "text/plain": [
       "Albania                38.0\n",
       "Alberia              -100.0\n",
       "Andorra               312.0\n",
       "Argentina             221.0\n",
       "Australia             212.0\n",
       "Austria               191.0\n",
       "Bahamas                51.0\n",
       "Belgium               212.0\n",
       "Bulgaria               94.0\n",
       "Chile                 172.0\n",
       "Cook Islands           74.0\n",
       "Croatia               254.0\n",
       "Cyprus                113.0\n",
       "Czech Republic        134.0\n",
       "Denmark               278.0\n",
       "Equatorial Guinea     233.0\n",
       "Estonia                59.0\n",
       "Finland                97.0\n",
       "Gabon                  59.0\n",
       "Georgia               149.0\n",
       "Germany               175.0\n",
       "Greece                218.0\n",
       "Hungary               185.0\n",
       "Iceland                78.0\n",
       "Ireland               165.0\n",
       "Italy                 237.0\n",
       "Laos                  123.0\n",
       "Latvia                 62.0\n",
       "Lithuania              56.0\n",
       "Luxembourg            271.0\n",
       "Macedonia              86.0\n",
       "Montenegro            128.0\n",
       "New Zealand           175.0\n",
       "Norway                129.0\n",
       "Paraguay               74.0\n",
       "Poland                 56.0\n",
       "Portugal              339.0\n",
       "Romania               167.0\n",
       "Russian Federation     73.0\n",
       "Serbia                127.0\n",
       "Seychelles             51.0\n",
       "Slovakia              116.0\n",
       "Slovenia              276.0\n",
       "South Africa           81.0\n",
       "Spain                 112.0\n",
       "St. Lucia              71.0\n",
       "Sweden                186.0\n",
       "USA                    59.0\n",
       "United Kingdom        195.0\n",
       "Yemen                -150.0\n",
       "dtype: float64"
      ]
     },
     "execution_count": 21,
     "metadata": {},
     "output_type": "execute_result"
    }
   ],
   "source": [
    "fifty_values.sub(more_drinks, fill_value = 0\n",
    "                )"
   ]
  },
  {
   "cell_type": "code",
   "execution_count": 23,
   "id": "9dbddb8c",
   "metadata": {},
   "outputs": [
    {
     "data": {
      "text/plain": [
       "Albania                 3.375000\n",
       "Alberia                 0.010000\n",
       "Andorra               312.000000\n",
       "Argentina             221.000000\n",
       "Australia             212.000000\n",
       "Austria               191.000000\n",
       "Bahamas                51.000000\n",
       "Belgium               212.000000\n",
       "Bulgaria               94.000000\n",
       "Chile                 172.000000\n",
       "Cook Islands           74.000000\n",
       "Croatia               254.000000\n",
       "Cyprus                113.000000\n",
       "Czech Republic        134.000000\n",
       "Denmark               278.000000\n",
       "Equatorial Guinea     233.000000\n",
       "Estonia                59.000000\n",
       "Finland                97.000000\n",
       "Gabon                  59.000000\n",
       "Georgia               149.000000\n",
       "Germany               175.000000\n",
       "Greece                218.000000\n",
       "Hungary               185.000000\n",
       "Iceland                78.000000\n",
       "Ireland               165.000000\n",
       "Italy                 237.000000\n",
       "Laos                  123.000000\n",
       "Latvia                 62.000000\n",
       "Lithuania              56.000000\n",
       "Luxembourg            271.000000\n",
       "Macedonia              86.000000\n",
       "Montenegro            128.000000\n",
       "New Zealand           175.000000\n",
       "Norway                129.000000\n",
       "Paraguay               74.000000\n",
       "Poland                 56.000000\n",
       "Portugal              339.000000\n",
       "Romania               167.000000\n",
       "Russian Federation     73.000000\n",
       "Serbia                127.000000\n",
       "Seychelles             51.000000\n",
       "Slovakia              116.000000\n",
       "Slovenia              276.000000\n",
       "South Africa           81.000000\n",
       "Spain                 112.000000\n",
       "St. Lucia              71.000000\n",
       "Sweden                186.000000\n",
       "USA                     3.360000\n",
       "United Kingdom        195.000000\n",
       "Yemen                   0.006667\n",
       "dtype: float64"
      ]
     },
     "execution_count": 23,
     "metadata": {},
     "output_type": "execute_result"
    }
   ],
   "source": [
    "fifty_values.divide(more_drinks, fill_value = 1)"
   ]
  },
  {
   "cell_type": "code",
   "execution_count": 27,
   "id": "a3b42787",
   "metadata": {},
   "outputs": [
    {
     "data": {
      "text/plain": [
       "Albania                864.0\n",
       "Alberia                100.0\n",
       "Andorra                312.0\n",
       "Argentina              221.0\n",
       "Australia              212.0\n",
       "Austria                191.0\n",
       "Bahamas                 51.0\n",
       "Belgium                212.0\n",
       "Bulgaria                94.0\n",
       "Chile                  172.0\n",
       "Cook Islands            74.0\n",
       "Croatia                254.0\n",
       "Cyprus                 113.0\n",
       "Czech Republic         134.0\n",
       "Denmark                278.0\n",
       "Equatorial Guinea      233.0\n",
       "Estonia                 59.0\n",
       "Finland                 97.0\n",
       "Gabon                   59.0\n",
       "Georgia                149.0\n",
       "Germany                175.0\n",
       "Greece                 218.0\n",
       "Hungary                185.0\n",
       "Iceland                 78.0\n",
       "Ireland                165.0\n",
       "Italy                  237.0\n",
       "Laos                   123.0\n",
       "Latvia                  62.0\n",
       "Lithuania               56.0\n",
       "Luxembourg             271.0\n",
       "Macedonia               86.0\n",
       "Montenegro             128.0\n",
       "New Zealand            175.0\n",
       "Norway                 129.0\n",
       "Paraguay                74.0\n",
       "Poland                  56.0\n",
       "Portugal               339.0\n",
       "Romania                167.0\n",
       "Russian Federation      73.0\n",
       "Serbia                 127.0\n",
       "Seychelles              51.0\n",
       "Slovakia               116.0\n",
       "Slovenia               276.0\n",
       "South Africa            81.0\n",
       "Spain                  112.0\n",
       "St. Lucia               71.0\n",
       "Sweden                 186.0\n",
       "USA                   2100.0\n",
       "United Kingdom         195.0\n",
       "Yemen                  150.0\n",
       "dtype: float64"
      ]
     },
     "execution_count": 27,
     "metadata": {},
     "output_type": "execute_result"
    }
   ],
   "source": [
    "fifty_values.multiply(more_drinks, fill_value = 1)"
   ]
  },
  {
   "cell_type": "code",
   "execution_count": 29,
   "id": "382c7ac8",
   "metadata": {},
   "outputs": [
    {
     "data": {
      "text/plain": [
       "Albania     16\n",
       "Alberia    100\n",
       "Yemen      150\n",
       "USA         25\n",
       "dtype: int64"
      ]
     },
     "execution_count": 29,
     "metadata": {},
     "output_type": "execute_result"
    }
   ],
   "source": [
    "more_drinks"
   ]
  },
  {
   "cell_type": "code",
   "execution_count": 30,
   "id": "effd3cba",
   "metadata": {},
   "outputs": [
    {
     "data": {
      "text/plain": [
       "6060.793882978724"
      ]
     },
     "execution_count": 30,
     "metadata": {},
     "output_type": "execute_result"
    }
   ],
   "source": [
    "fifty_values.var()"
   ]
  },
  {
   "cell_type": "code",
   "execution_count": 32,
   "id": "d6489a72",
   "metadata": {},
   "outputs": [
    {
     "data": {
      "text/plain": [
       "7065.0"
      ]
     },
     "execution_count": 32,
     "metadata": {},
     "output_type": "execute_result"
    }
   ],
   "source": [
    "fifty_values.sum()"
   ]
  },
  {
   "cell_type": "code",
   "execution_count": 33,
   "id": "3391dab2",
   "metadata": {},
   "outputs": [
    {
     "data": {
      "text/plain": [
       "country\n",
       "Albania                 54.0\n",
       "Andorra                366.0\n",
       "Argentina              587.0\n",
       "Australia              799.0\n",
       "Austria                990.0\n",
       "Bahamas               1041.0\n",
       "Belgium               1253.0\n",
       "Bulgaria              1347.0\n",
       "Chile                 1519.0\n",
       "Cook Islands          1593.0\n",
       "Croatia               1847.0\n",
       "Cyprus                1960.0\n",
       "Czech Republic        2094.0\n",
       "Denmark               2372.0\n",
       "Equatorial Guinea     2605.0\n",
       "Estonia               2664.0\n",
       "Finland               2761.0\n",
       "Gabon                 2820.0\n",
       "Georgia               2969.0\n",
       "Germany               3144.0\n",
       "Greece                3362.0\n",
       "Hungary               3547.0\n",
       "Iceland               3625.0\n",
       "Ireland               3790.0\n",
       "Italy                 4027.0\n",
       "Laos                  4150.0\n",
       "Latvia                4212.0\n",
       "Lithuania             4268.0\n",
       "Luxembourg            4539.0\n",
       "Montenegro            4667.0\n",
       "New Zealand           4842.0\n",
       "Norway                4971.0\n",
       "Paraguay              5045.0\n",
       "Poland                5101.0\n",
       "Portugal              5440.0\n",
       "Romania               5607.0\n",
       "Russian Federation    5680.0\n",
       "St. Lucia             5751.0\n",
       "Serbia                5878.0\n",
       "Seychelles            5929.0\n",
       "Slovakia              6045.0\n",
       "Slovenia              6321.0\n",
       "South Africa          6402.0\n",
       "Spain                 6514.0\n",
       "Sweden                6700.0\n",
       "Macedonia             6786.0\n",
       "United Kingdom        6981.0\n",
       "USA                   7065.0\n",
       "Name: wine_servings, dtype: float64"
      ]
     },
     "execution_count": 33,
     "metadata": {},
     "output_type": "execute_result"
    }
   ],
   "source": [
    "fifty_values.cumsum()"
   ]
  },
  {
   "cell_type": "code",
   "execution_count": 34,
   "id": "dd5d64bb",
   "metadata": {},
   "outputs": [
    {
     "data": {
      "text/plain": [
       "country\n",
       "Afghanistan      NaN\n",
       "Albania         54.0\n",
       "Algeria         14.0\n",
       "Andorra        312.0\n",
       "Angola          45.0\n",
       "               ...  \n",
       "Venezuela        3.0\n",
       "Vietnam          1.0\n",
       "Yemen            NaN\n",
       "Zambia           4.0\n",
       "Zimbabwe         4.0\n",
       "Name: wine_servings, Length: 193, dtype: float64"
      ]
     },
     "execution_count": 34,
     "metadata": {},
     "output_type": "execute_result"
    }
   ],
   "source": [
    "ser1"
   ]
  },
  {
   "cell_type": "code",
   "execution_count": 35,
   "id": "8802a2cb",
   "metadata": {},
   "outputs": [
    {
     "data": {
      "text/plain": [
       "country\n",
       "Afghanistan       NaN\n",
       "Albania          54.0\n",
       "Algeria          68.0\n",
       "Andorra         380.0\n",
       "Angola          425.0\n",
       "                ...  \n",
       "Venezuela      8212.0\n",
       "Vietnam        8213.0\n",
       "Yemen             NaN\n",
       "Zambia         8217.0\n",
       "Zimbabwe       8221.0\n",
       "Name: wine_servings, Length: 193, dtype: float64"
      ]
     },
     "execution_count": 35,
     "metadata": {},
     "output_type": "execute_result"
    }
   ],
   "source": [
    "ser1.cumsum()"
   ]
  },
  {
   "cell_type": "code",
   "execution_count": 36,
   "id": "d8dbd8eb",
   "metadata": {},
   "outputs": [
    {
     "data": {
      "text/plain": [
       "8221.0"
      ]
     },
     "execution_count": 36,
     "metadata": {},
     "output_type": "execute_result"
    }
   ],
   "source": [
    "ser1.sum()"
   ]
  },
  {
   "cell_type": "code",
   "execution_count": 37,
   "id": "e0a1fb74",
   "metadata": {},
   "outputs": [
    {
     "data": {
      "text/plain": [
       "country\n",
       "Afghanistan   NaN\n",
       "Albania       NaN\n",
       "Algeria       NaN\n",
       "Andorra       NaN\n",
       "Angola        NaN\n",
       "               ..\n",
       "Venezuela     NaN\n",
       "Vietnam       NaN\n",
       "Yemen         NaN\n",
       "Zambia        NaN\n",
       "Zimbabwe      NaN\n",
       "Name: wine_servings, Length: 193, dtype: float64"
      ]
     },
     "execution_count": 37,
     "metadata": {},
     "output_type": "execute_result"
    }
   ],
   "source": [
    "ser1.cumsum(skipna = False)"
   ]
  },
  {
   "cell_type": "code",
   "execution_count": 38,
   "id": "c0d2f1e8",
   "metadata": {},
   "outputs": [
    {
     "data": {
      "text/plain": [
       "3.427611505218281e+183"
      ]
     },
     "execution_count": 38,
     "metadata": {},
     "output_type": "execute_result"
    }
   ],
   "source": [
    "ser1.product()"
   ]
  },
  {
   "cell_type": "code",
   "execution_count": 39,
   "id": "e056da1c",
   "metadata": {},
   "outputs": [
    {
     "data": {
      "text/plain": [
       "country\n",
       "Afghanistan              NaN\n",
       "Albania         5.400000e+01\n",
       "Algeria         7.560000e+02\n",
       "Andorra         2.358720e+05\n",
       "Angola          1.061424e+07\n",
       "                   ...      \n",
       "Venezuela      2.142257e+182\n",
       "Vietnam        2.142257e+182\n",
       "Yemen                    NaN\n",
       "Zambia         8.569029e+182\n",
       "Zimbabwe       3.427612e+183\n",
       "Name: wine_servings, Length: 193, dtype: float64"
      ]
     },
     "execution_count": 39,
     "metadata": {},
     "output_type": "execute_result"
    }
   ],
   "source": [
    "ser1.cumprod()"
   ]
  },
  {
   "cell_type": "code",
   "execution_count": 40,
   "id": "def8391d",
   "metadata": {},
   "outputs": [
    {
     "data": {
      "text/plain": [
       "country\n",
       "Afghanistan      NaN\n",
       "Albania         54.0\n",
       "Algeria         54.0\n",
       "Andorra        312.0\n",
       "Angola         312.0\n",
       "               ...  \n",
       "Venezuela      339.0\n",
       "Vietnam        339.0\n",
       "Yemen            NaN\n",
       "Zambia         339.0\n",
       "Zimbabwe       339.0\n",
       "Name: wine_servings, Length: 193, dtype: float64"
      ]
     },
     "execution_count": 40,
     "metadata": {},
     "output_type": "execute_result"
    }
   ],
   "source": [
    "ser1.cummax()"
   ]
  },
  {
   "cell_type": "code",
   "execution_count": 42,
   "id": "a4feda94",
   "metadata": {},
   "outputs": [
    {
     "data": {
      "text/plain": [
       "339.0"
      ]
     },
     "execution_count": 42,
     "metadata": {},
     "output_type": "execute_result"
    }
   ],
   "source": [
    "ser1.max()"
   ]
  },
  {
   "cell_type": "code",
   "execution_count": 43,
   "id": "4398a0d5",
   "metadata": {},
   "outputs": [
    {
     "data": {
      "text/plain": [
       "1.0"
      ]
     },
     "execution_count": 43,
     "metadata": {},
     "output_type": "execute_result"
    }
   ],
   "source": [
    "ser1.min()"
   ]
  },
  {
   "cell_type": "code",
   "execution_count": 44,
   "id": "232c1896",
   "metadata": {},
   "outputs": [
    {
     "data": {
      "text/plain": [
       "country\n",
       "Afghanistan     NaN\n",
       "Albania        54.0\n",
       "Algeria        14.0\n",
       "Andorra        14.0\n",
       "Angola         14.0\n",
       "               ... \n",
       "Venezuela       1.0\n",
       "Vietnam         1.0\n",
       "Yemen           NaN\n",
       "Zambia          1.0\n",
       "Zimbabwe        1.0\n",
       "Name: wine_servings, Length: 193, dtype: float64"
      ]
     },
     "execution_count": 44,
     "metadata": {},
     "output_type": "execute_result"
    }
   ],
   "source": [
    "ser1.cummin()"
   ]
  },
  {
   "cell_type": "markdown",
   "id": "e0986a18",
   "metadata": {},
   "source": [
    "# "
   ]
  },
  {
   "cell_type": "code",
   "execution_count": 11,
   "id": "37fe63db",
   "metadata": {},
   "outputs": [
    {
     "data": {
      "text/plain": [
       "country\n",
       "Afghanistan      NaN\n",
       "Albania         54.0\n",
       "Algeria         14.0\n",
       "Andorra        312.0\n",
       "Angola          45.0\n",
       "               ...  \n",
       "Venezuela        3.0\n",
       "Vietnam          1.0\n",
       "Yemen            NaN\n",
       "Zambia           4.0\n",
       "Zimbabwe         4.0\n",
       "Name: wine_servings, Length: 193, dtype: float64"
      ]
     },
     "execution_count": 11,
     "metadata": {},
     "output_type": "execute_result"
    }
   ],
   "source": [
    "ser1"
   ]
  },
  {
   "cell_type": "code",
   "execution_count": 12,
   "id": "cebf12e2",
   "metadata": {},
   "outputs": [
    {
     "data": {
      "text/plain": [
       "country\n",
       "Afghanistan      NaN\n",
       "Albania         54.0\n",
       "Algeria         14.0\n",
       "Andorra        312.0\n",
       "Angola          45.0\n",
       "Name: wine_servings, dtype: float64"
      ]
     },
     "execution_count": 12,
     "metadata": {},
     "output_type": "execute_result"
    }
   ],
   "source": [
    "ser1.head()"
   ]
  },
  {
   "cell_type": "code",
   "execution_count": 16,
   "id": "ef64e412",
   "metadata": {},
   "outputs": [
    {
     "data": {
      "text/plain": [
       "country\n",
       "Afghanistan      NaN\n",
       "Albania         40.0\n",
       "Algeria       -298.0\n",
       "Andorra        267.0\n",
       "Angola           NaN\n",
       "Name: wine_servings, dtype: float64"
      ]
     },
     "execution_count": 16,
     "metadata": {},
     "output_type": "execute_result"
    }
   ],
   "source": [
    "ser1.head().diff(periods = -1)"
   ]
  },
  {
   "cell_type": "code",
   "execution_count": 17,
   "id": "aa46dc06",
   "metadata": {},
   "outputs": [
    {
     "data": {
      "text/plain": [
       "country\n",
       "Vanuatu      11.0\n",
       "Venezuela     3.0\n",
       "Vietnam       1.0\n",
       "Name: wine_servings, dtype: float64"
      ]
     },
     "execution_count": 17,
     "metadata": {},
     "output_type": "execute_result"
    }
   ],
   "source": [
    "ser1.filter(regex = '^V')"
   ]
  },
  {
   "cell_type": "code",
   "execution_count": 18,
   "id": "7802646e",
   "metadata": {},
   "outputs": [
    {
     "data": {
      "text/plain": [
       "country\n",
       "Afghanistan      NaN\n",
       "Kazakhstan      12.0\n",
       "Kyrgyzstan       6.0\n",
       "Pakistan         NaN\n",
       "Tajikistan       NaN\n",
       "Turkmenistan    32.0\n",
       "Uzbekistan       8.0\n",
       "Name: wine_servings, dtype: float64"
      ]
     },
     "execution_count": 18,
     "metadata": {},
     "output_type": "execute_result"
    }
   ],
   "source": [
    "ser1.filter(like = 'stan')"
   ]
  },
  {
   "cell_type": "code",
   "execution_count": 21,
   "id": "d968e3fb",
   "metadata": {},
   "outputs": [
    {
     "data": {
      "text/plain": [
       "country\n",
       "Afghanistan    too small\n",
       "Albania        too small\n",
       "Algeria        too small\n",
       "Andorra            312.0\n",
       "Angola         too small\n",
       "                 ...    \n",
       "Venezuela      too small\n",
       "Vietnam        too small\n",
       "Yemen          too small\n",
       "Zambia         too small\n",
       "Zimbabwe       too small\n",
       "Name: wine_servings, Length: 193, dtype: object"
      ]
     },
     "execution_count": 21,
     "metadata": {},
     "output_type": "execute_result"
    }
   ],
   "source": [
    "ser1.where(lambda x: x>200, other = 'too small').dropna()"
   ]
  },
  {
   "cell_type": "code",
   "execution_count": 22,
   "id": "25226989",
   "metadata": {},
   "outputs": [
    {
     "data": {
      "text/plain": [
       "country\n",
       "Andorra              312.0\n",
       "Argentina            221.0\n",
       "Australia            212.0\n",
       "Belgium              212.0\n",
       "Croatia              254.0\n",
       "Denmark              278.0\n",
       "Equatorial Guinea    233.0\n",
       "Greece               218.0\n",
       "Italy                237.0\n",
       "Luxembourg           271.0\n",
       "Portugal             339.0\n",
       "Slovenia             276.0\n",
       "Name: wine_servings, dtype: float64"
      ]
     },
     "execution_count": 22,
     "metadata": {},
     "output_type": "execute_result"
    }
   ],
   "source": [
    "ser1.where(lambda x: x>200).dropna()"
   ]
  },
  {
   "cell_type": "code",
   "execution_count": 24,
   "id": "d1e0f0b0",
   "metadata": {},
   "outputs": [
    {
     "data": {
      "text/plain": [
       "country\n",
       "Afghanistan    too large\n",
       "Albania             54.0\n",
       "Algeria             14.0\n",
       "Andorra        too large\n",
       "Angola              45.0\n",
       "                 ...    \n",
       "Venezuela            3.0\n",
       "Vietnam              1.0\n",
       "Yemen          too large\n",
       "Zambia               4.0\n",
       "Zimbabwe             4.0\n",
       "Name: wine_servings, Length: 193, dtype: object"
      ]
     },
     "execution_count": 24,
     "metadata": {},
     "output_type": "execute_result"
    }
   ],
   "source": [
    "ser1.where(lambda x: x<200, other ='too large').dropna()"
   ]
  },
  {
   "cell_type": "code",
   "execution_count": 26,
   "id": "f037e63a",
   "metadata": {},
   "outputs": [
    {
     "data": {
      "text/plain": [
       "country\n",
       "Albania              54.0\n",
       "Algeria              14.0\n",
       "Angola               45.0\n",
       "Antigua & Barbuda    45.0\n",
       "Armenia              11.0\n",
       "                     ... \n",
       "Vanuatu              11.0\n",
       "Venezuela             3.0\n",
       "Vietnam               1.0\n",
       "Zambia                4.0\n",
       "Zimbabwe              4.0\n",
       "Name: wine_servings, Length: 150, dtype: float64"
      ]
     },
     "execution_count": 26,
     "metadata": {},
     "output_type": "execute_result"
    }
   ],
   "source": [
    "ser1.mask(lambda x: x>200).dropna()"
   ]
  },
  {
   "cell_type": "code",
   "execution_count": null,
   "id": "f819d99a",
   "metadata": {},
   "outputs": [],
   "source": []
  }
 ],
 "metadata": {
  "kernelspec": {
   "display_name": "Python 3 (ipykernel)",
   "language": "python",
   "name": "python3"
  },
  "language_info": {
   "codemirror_mode": {
    "name": "ipython",
    "version": 3
   },
   "file_extension": ".py",
   "mimetype": "text/x-python",
   "name": "python",
   "nbconvert_exporter": "python",
   "pygments_lexer": "ipython3",
   "version": "3.9.12"
  }
 },
 "nbformat": 4,
 "nbformat_minor": 5
}
